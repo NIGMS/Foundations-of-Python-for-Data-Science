{
 "cells": [
  {
   "cell_type": "markdown",
   "id": "04c9ebc5-9a57-4f7f-9150-2d404227a562",
   "metadata": {},
   "source": [
    "# Module 1, Tutorial 4: Bioinformatics Functions\n",
    "-------------------------------------------------------------------------------"
   ]
  },
  {
   "cell_type": "markdown",
   "id": "dcf69fff-2b95-46b6-ae11-f050554cab8b",
   "metadata": {},
   "source": [
    "## Learning Objectives\n",
    "In this lesson, you will:\n",
    "<br>\n",
    "* Learn the structure of Python functions\n",
    "* Call a function\n",
    "* Utilize bioinformatics functions from BioPython\n",
    "\n",
    "## Prerequisites\n",
    "\n",
    "- Some experience in Python or\n",
    "- Tutorials 1, 2, and 3\n",
    "\n",
    "## Getting Started\n",
    "Run the code box below to import the required libraries"
   ]
  },
  {
   "cell_type": "code",
   "execution_count": null,
   "id": "3f0e0b6e-1732-4bb6-80e3-9d8c3e535310",
   "metadata": {},
   "outputs": [],
   "source": [
    "#To install required packages\n",
    "%pip install jupyterquiz\n",
    "from jupyterquiz import display_quiz\n",
    "import os\n",
    "print(\"Done installing required packages\")"
   ]
  },
  {
   "cell_type": "markdown",
   "id": "dec0d6a1-02a1-4a6e-8b2c-a5035031999b",
   "metadata": {},
   "source": [
    "## Functions\n",
    "\n",
    "In Python, a **function** is a block of reusable code that performs a specific task. It takes input, processes it, and optionally returns a value. It only runs when you \"call\" it \n",
    "\n",
    "Lets try to use a very common bioinformatics task to illustrate the strcture of FUNCTIONS in python. \n",
    "<br>\n",
    "They are created with the key word def (you are DEFining the function). The function may be named any way you want and is logical to you.\n",
    "<br>\n",
    "Parentheses surround the variables that will be provided by the user of the function. Within the function, many different jobs can be done, including calculations and perhaps returning a value to you, such as you've already seen with the len(string) function that returns to the console the length of the string \"sent\" to it in the parentheses.\n",
    "<br>\n",
    "In the Python code box below we define a function, \"Count_base\", which needs two pieces of information: some kind of sequence and the base to be counted in the sequence list. Calling that function will give back (return) a number that represents the count of the base you ask for in the sequence you provide. (count is a built-in function in Python that can be used with strings).\n",
    "\n",
    "The last line uses the keyword 'return' to tell Python to print to the console the \"result\" of the tasks that it runs.\n",
    "\n",
    "<div class=\"alert alert-block alert-info\"> <b>Tip:</b> Try changing the base or making the \"base\" multiple letters (e.g, \"aaa\") and running the Python code box again.</a>. </div>"
   ]
  },
  {
   "cell_type": "code",
   "execution_count": null,
   "id": "ec61f862-6e53-4c16-af46-10fd39b76baa",
   "metadata": {},
   "outputs": [],
   "source": [
    "def count_base(dna, base): #the function is named count_base and takes 2 inputs- a sequence string and the letter to look for\n",
    "    return dna.count(base)\n",
    "\n",
    "seq=('tgcaccaaacatgtctaaagctggaaccaaaattactttctttgaagacaaaaactttcaaggccgccactatgacagcgattgcgactgtgc') #this string is lowercase, so the base should be too\n",
    "count_base(seq, 'g')\n"
   ]
  },
  {
   "cell_type": "markdown",
   "id": "dbefcfe0-4bc9-4d9e-bb4d-02e8831e2525",
   "metadata": {},
   "source": [
    "<div class=\"alert alert-block alert-info\"> <b>Tip:</b> Try this: Instead of just returning the number, edit the function so that it returns \"g=17\" or \"In seq, g=17\"</a>. </div>"
   ]
  },
  {
   "cell_type": "markdown",
   "id": "871c32f8-a756-4d06-ad4b-617edc520808",
   "metadata": {},
   "source": [
    "Since sequences can be provided in either capital or lowercase letters, and python is case-sensitive, a more rigorous function might eliminate the risk that you did not remember whether the sequence was lower or uppercase in asking for the base. Now, you can see that we can use other tools we know about to add additional tasks which will run within count_base."
   ]
  },
  {
   "cell_type": "code",
   "execution_count": null,
   "id": "127601d0-812b-498a-8517-515e0760c4c7",
   "metadata": {},
   "outputs": [],
   "source": [
    "def count_base(dna, base): #the function is named count_base and takes 2 inputs- a sequence string and the letter to look for\n",
    "    dna=dna.upper()   #convert all letters in the string to uppercase\n",
    "    base=base.upper() #convert the letter provided to uppercase\n",
    "    return dna.count(base)\n",
    "\n",
    "count_base(seq, 'C') #seq was already created and you might have forgotten it was lowercase"
   ]
  },
  {
   "cell_type": "markdown",
   "id": "82af21d7-99bd-4d24-ab4c-9da019f0913a",
   "metadata": {},
   "source": [
    "Did you notice that the first string that we provide to count_base does not have to be called \"dna?\" That name is used only within the function. It will take on the value that we send it when we invoke count_base(x, y). Try editing the above to not use seq in count_base but put in a string directly, as we did with 'C'\n",
    "<br>\n",
    "In using functions in Python you will need to know what information a function needs to be given (here, a string and the character to look for in the string.)\n",
    "<br>"
   ]
  },
  {
   "cell_type": "markdown",
   "id": "185da4f6-f108-4051-88a0-bec9606f7c1c",
   "metadata": {},
   "source": [
    "### Test your knowledge"
   ]
  },
  {
   "cell_type": "code",
   "execution_count": null,
   "id": "e652fcf3-2f99-40eb-a50f-5be6bd1349db",
   "metadata": {},
   "outputs": [],
   "source": [
    "from jupyterquiz import display_quiz\n",
    "ttt_quiz=\"PythonQuizQuestions/ttt_qz.json\"\n",
    "display_quiz(ttt_quiz)"
   ]
  },
  {
   "cell_type": "markdown",
   "id": "66a5efbb-8c5d-4fd8-a273-d247d4ad99bc",
   "metadata": {},
   "source": [
    "Functions can also call another function, though to use these routinely you will need to learn to save these. (see ___ in tutorial). For now, lets write another function that calls our count_base function to calculate the GC %"
   ]
  },
  {
   "cell_type": "code",
   "execution_count": null,
   "id": "ecc1e42f-5233-4acb-9e8b-9dd9fc0eb8cc",
   "metadata": {},
   "outputs": [],
   "source": [
    "def gcPercent(dna):\n",
    "    gc_total =count_base(dna, \"C\") + count_base(dna, \"G\")\n",
    "    percent = gc_total/(len(dna)) * 100\n",
    "    return percent\n",
    "\n",
    "print(\"The GC% is: \", gcPercent(seq))\n",
    "\n",
    "def g_in_pair(dna):\n",
    "    ag_total =count_base(dna, \"AG\") \n",
    "    g_total  =count_base(dna, \"G\")\n",
    "    fraction = ag_total/g_total *100\n",
    "    return fraction\n",
    "\n",
    "print(str(g_in_pair(seq))[0:2] + \"% of G's are in an AG dinucleotide sequence\")"
   ]
  },
  {
   "cell_type": "markdown",
   "id": "9a75092f-c6c4-4835-9c1b-2ef56344d809",
   "metadata": {},
   "source": [
    "**Can you write your own tool that calculates the percentage of the time of all guanines that are found as the pairing AG?**"
   ]
  },
  {
   "cell_type": "markdown",
   "id": "0b1076f0-e8a0-4409-9cf1-58e7417e874d",
   "metadata": {},
   "source": [
    "# Biopython"
   ]
  },
  {
   "cell_type": "markdown",
   "id": "b9065064-ed5d-4090-9312-278c0c40ab82",
   "metadata": {},
   "source": [
    "There are many other ways that we might want to manipulate, align, and evaluate bioinformatic sets (e.g., FASTA sequences, both DNA and protein.) Fortunately, many of these standard functions have already been written and are freely available to everyone in Biopython: \"A set of python tools for computational molecular biology.\" (biopython.org) \n",
    "<br>\n",
    "We will start here using the tools developed for \"sequence input and output\" (SeqIO). \n",
    "<br>\n",
    "We import that set of functions and tools (\"objects\") from the whole Biopython toolset with the following syntax: \n",
    "<br>\n",
    "from Bio import SeqIO\n",
    "<br>\n",
    "Here we'll use that to look at a provided file (glut_human.fasta) that contains 4 different protein FASTA sequences, something that would be rather challenging for a novice Python programmer without the BioPython tools."
   ]
  },
  {
   "cell_type": "code",
   "execution_count": null,
   "id": "e2860cbc-dbf6-46a1-aca0-c75c5216f976",
   "metadata": {},
   "outputs": [],
   "source": [
    "import os # imports tools for directory & folder operations\n",
    "\n",
    "myfile=\".\" + os.sep + \"bioDataSets\" + os.sep+ \"glut_human.fasta\" #used since this dataset is in a subdirectory. See the Input/output module for more on os\n",
    "\n",
    "from Bio import SeqIO\n",
    "for record in SeqIO.parse(myfile, \"fasta\"):\n",
    "  print(record.id)"
   ]
  },
  {
   "cell_type": "markdown",
   "id": "77555b0a-dcfc-448a-b30d-47e644c19c31",
   "metadata": {},
   "source": [
    "You should see the 4 different protein identifiers in the file-- in this case with PDB ID numbers. \n",
    "\n",
    "There is a lot of information besides just the ID in each of these records, but it is not convenient to access the pieces yet. But, we can load all of that information into a single variable called (here) record_glut. The specific format is as a python LIST. "
   ]
  },
  {
   "cell_type": "code",
   "execution_count": null,
   "id": "f5ef8ece-15c7-4e12-8fcb-850c5171cffb",
   "metadata": {},
   "outputs": [],
   "source": [
    "record_glut = list(SeqIO.parse(myfile, \"fasta\"))\n",
    "print(record_glut[1])\n"
   ]
  },
  {
   "cell_type": "markdown",
   "id": "a332819d-83e9-4739-ae87-6ab6407158ae",
   "metadata": {},
   "source": [
    "Printing the whole file is not that useful. We will want to work with parts of the record (such as the protein sequences) or maybe get a more interesting description. \n",
    "\n",
    "Individual elements of a list can be accessed by using the name of the list and a number of the item in brackets. BioPython divided the information in a FASTA record into its parts (sequence, id, name, and description). Once we make a variable to contain just one record, we can look at its elements."
   ]
  },
  {
   "cell_type": "code",
   "execution_count": null,
   "id": "8b9c6d5e-5adb-40c4-a539-e459ed352bdc",
   "metadata": {},
   "outputs": [],
   "source": [
    "first_record=record_glut[0]\n",
    "print(first_record.description)     \n",
    "print(first_record.name)"
   ]
  },
  {
   "cell_type": "markdown",
   "id": "86e0704e-9108-4bce-8cd4-a1fe47e49cce",
   "metadata": {},
   "source": [
    "How long is that protein sequence? "
   ]
  },
  {
   "cell_type": "code",
   "execution_count": null,
   "id": "7413c0d2-08f2-4bed-9d55-663d32bdfe7d",
   "metadata": {},
   "outputs": [],
   "source": [
    "len(first_record.seq)"
   ]
  },
  {
   "cell_type": "markdown",
   "id": "cbc63746-2e47-444c-9038-71bc050b1e13",
   "metadata": {},
   "source": [
    "We wrote a function above (count_base) that can now come in handy to determine how many of any amino acid was present in that sequence. Although we conceived of it as a nucleotide counter, the mini program accepts whatever information we submit to it. \n",
    "\n",
    "def count_base(dna, base):\n",
    "    return dna.count(base)\n",
    "\n",
    "We can send it the FASTA sequence of the GLUT protein and count an amino acid, rather than a base. The function takes any sequence and will count the letter you give it in quotes. This helps us to see how these functions \"think\" about the material you provide to it."
   ]
  },
  {
   "cell_type": "code",
   "execution_count": null,
   "id": "36bc0dd8-8a21-4199-a4b9-10ece2eb8351",
   "metadata": {},
   "outputs": [],
   "source": [
    "count_base(first_record.seq, \"A\")"
   ]
  },
  {
   "cell_type": "markdown",
   "id": "865d4030-56d6-4ecf-a925-d1c4028a6791",
   "metadata": {},
   "source": [
    "Edit the above python tools to determine the number of D (aspartic acid) in the second record (7WSN_1|Chain)"
   ]
  },
  {
   "cell_type": "code",
   "execution_count": null,
   "id": "56b8f8e0-414f-442a-bd8c-d1c25d96196d",
   "metadata": {},
   "outputs": [],
   "source": [
    "from jupyterquiz import display_quiz\n",
    "wsnquiz=\"PythonQuizQuestions/7wsn_quiz.json\"\n",
    "display_quiz(wsnquiz)"
   ]
  },
  {
   "cell_type": "markdown",
   "id": "010e7a24-9e1d-406c-8da4-0e798a09481d",
   "metadata": {},
   "source": [
    "A common bioinformatics task is to align two sequences. Biopython has several tools for this activity. We will use pairwise2 (https://biopython.org/docs/1.76/api/Bio.pairwise2.html) It offers an opportunity to use iteration. "
   ]
  },
  {
   "cell_type": "code",
   "execution_count": null,
   "id": "845553ec-4560-441f-8c0c-00134804c97f",
   "metadata": {},
   "outputs": [],
   "source": [
    "from Bio import Align\n",
    "seq1 = 'GATTACAGC' \n",
    "seq2 = 'GTATTAAT'\n",
    "aligner=Align.PairwiseAligner(match_score=1.0, mode=\"local\") #try mode global to see differences\n",
    "alignments = aligner.align(seq1, seq2)\n",
    "for alignment in alignments:\n",
    "    print(alignment, alignment.score)"
   ]
  },
  {
   "cell_type": "markdown",
   "id": "e9068e29-4f42-488f-8213-5667959ac527",
   "metadata": {},
   "source": [
    "This can also align the glucose transporter FASTA sequences we used earlier. These two GLUT family transporters are *not* similar in sequence. "
   ]
  },
  {
   "cell_type": "code",
   "execution_count": null,
   "id": "7ef09e40-1047-4a48-b6c5-7643c009fc4e",
   "metadata": {},
   "outputs": [],
   "source": [
    "second_record=record_glut[1] \n",
    "glut_align=aligner.align(first_record.seq[1:50], second_record.seq[1:50])\n",
    "print(glut_align[0])"
   ]
  },
  {
   "cell_type": "markdown",
   "id": "028565d7-4b72-48c8-89d3-2013e285a4cd",
   "metadata": {},
   "source": [
    "Now it's your turn. Try this quiz to check your coding (re-coding) skills!\n",
    "What is the alignment score for the first global alignment between GLUT4 (first in the FASTA list) and GLUT1 (4th sequence) protein sequences? Use the WHOLE sequence. \n"
   ]
  },
  {
   "cell_type": "code",
   "execution_count": null,
   "id": "cda915e5-cbfe-4ebd-acc6-8bab2b679e0b",
   "metadata": {},
   "outputs": [],
   "source": [
    "from jupyterquiz import display_quiz\n",
    "glutAlignquiz=\"PythonQuizQuestions/glut_align_quiz.json\"\n",
    "display_quiz(glutAlignquiz)"
   ]
  },
  {
   "cell_type": "markdown",
   "id": "9bcdcc97-f4dc-411e-aca7-6ea24ca0c272",
   "metadata": {},
   "source": [
    "Fetching records from NCBI using BioPython\r\n",
    "The public databases of bioinformatics data have designed ways to access their extensive files without having to go through the GUI interfaces. We can collect the data to use in our analyses or comparisons in bioinformatics tasks.\r\n",
    "\r\n",
    "In biopython, the modules for doing so are found in Entrez. We must import those as well as the sequence input/output tools (SeqIO) to read and parse these complex files.\r\n",
    "\r\n",
    "The commands below will fetch and parse the specified genbank refseq file for the human insulin receptor 2 protein.\r\n",
    "\r\n",
    "(You can learn more about the different database names and how to use efetch from this book chapter: https://www.ncbi.nlm.nih.gov/books/NBK25499/#chapter4.EFetch)\r\n",
    "\r\n",
    "To run, you'll need to give a proper email address in to Entrez\r\n",
    "\r\n",
    "The data is read in (by convention) with the name \"handle\" but any variable name can be used. After reading in the information, one always closes the connection = handle.close()"
   ]
  },
  {
   "cell_type": "code",
   "execution_count": null,
   "id": "51ae1cf1-fbf0-4b4b-92c2-724a2e78fb15",
   "metadata": {},
   "outputs": [],
   "source": [
    "from Bio import Entrez, SeqIO\n",
    "\n",
    "Entrez.email = \"jrchase@nnu.edu\" #always tell Entrez who you are\n",
    "\n",
    "handle = Entrez.efetch(db=\"protein\", id=\"NP_001073285.1\", rettype=\"gb\")\n",
    "\n",
    "humInsR2 = SeqIO.read(handle, \"gb\") #creates a variable to hold all of the record\n",
    "\n",
    "handle.close()\n",
    "\n",
    "print(type(humInsR2)) \n",
    "\n",
    "#print(humInsR2.seq)\n"
   ]
  },
  {
   "cell_type": "markdown",
   "id": "9f35c7af-0412-413b-9d3d-636ce7c9eaec",
   "metadata": {},
   "source": [
    "Reading this genbank file creates a variable of class SeqRecord (i.e, a \"Sequence record\") which is a bit like a \"list\" but it contains an ID, a sequence, and other identifying information. We can find out what \"things\" are in the file by asking for a directory of all the features.\n",
    "\n",
    "We'll look at just a few parts of the sequence record in this less, so this will show just the attributes we are most likely to need. Look at what is in various aspects of the file by writing:\n",
    "\n",
    "humInsR2.description\n",
    "for example. Any of the terms from the directory can be added after the . but only a few end up being useful to us."
   ]
  },
  {
   "cell_type": "code",
   "execution_count": null,
   "id": "b2124da3-b725-461a-9485-8431ec78d857",
   "metadata": {},
   "outputs": [],
   "source": [
    "dir(humInsR2)[-13:-1]\n",
    "humInsR2.description"
   ]
  },
  {
   "cell_type": "markdown",
   "id": "2e4a5aef-c31e-4762-bb04-7c7900b2c411",
   "metadata": {},
   "source": [
    "We can use our previous variable tools to evaluate the sequence portion (length, amino acid content, etc). See what you can evaluate or measure from this protein.\r\n"
   ]
  },
  {
   "cell_type": "code",
   "execution_count": null,
   "id": "f652e2b6-13a2-4efa-9b43-c97fb967acc0",
   "metadata": {},
   "outputs": [],
   "source": [
    "def count_AA(seq, letter):\n",
    "    return seq.count(letter) #counts the frequency in whatever seq was provided\n",
    "\n",
    "print(len(humInsR2.seq))\n",
    "count_AA(humInsR2.seq, \"LG\")"
   ]
  },
  {
   "cell_type": "markdown",
   "id": "6a9d46d1-41ed-46dd-9e3b-b4fec44ae359",
   "metadata": {},
   "source": [
    "### Test your knowledge\r\n",
    "\r\n",
    "Now, it's your turn to import a protein sequence from the NCBI. This time, you should fetch a similar protein (AAA39318.1).\r\n",
    "\r\n",
    "The quizzes will ask you about the protein sequence information"
   ]
  },
  {
   "cell_type": "code",
   "execution_count": null,
   "id": "2f1f1e4f-cb74-4510-b848-a04f009219e7",
   "metadata": {},
   "outputs": [],
   "source": [
    "from jupyterquiz import display_quiz\n",
    "who_quiz=\"PythonQuizQuestions/who_quiz2.json\"\n",
    "display_quiz(who_quiz)"
   ]
  },
  {
   "cell_type": "markdown",
   "id": "d2dd5283-e229-4968-8f16-f35b34fa0a1f",
   "metadata": {},
   "source": [
    "# Conclusion"
   ]
  },
  {
   "cell_type": "markdown",
   "id": "02295ef2-95b8-4a5e-804d-7cee2264397f",
   "metadata": {},
   "source": [
    "In this tutorial, you have imported, used, and even made a function to carry out bioinformatics tasks that would be very time-consuming without Python.\n",
    "<br>\n",
    "You are ready to wrap up this unit and do a project where you use bioinformatics data obtained from databases in the [Sequence Project.](./Submodule_1_Tutorial5_Project.ipynb)"
   ]
  },
  {
   "cell_type": "markdown",
   "id": "24608603-68a0-461a-85b8-75bf05bd28b1",
   "metadata": {},
   "source": [
    "## Clean up\n",
    "Remember to shut down your Jupyter Notebook instance when you are done for the day to avoid unnecessary charges. You can do this by stoping the notebook instance from the Cloud console."
   ]
  }
 ],
 "metadata": {
  "kernelspec": {
   "display_name": "Python 3 (ipykernel)",
   "language": "python",
   "name": "python3"
  },
  "language_info": {
   "codemirror_mode": {
    "name": "ipython",
    "version": 3
   },
   "file_extension": ".py",
   "mimetype": "text/x-python",
   "name": "python",
   "nbconvert_exporter": "python",
   "pygments_lexer": "ipython3",
   "version": "3.12.9"
  }
 },
 "nbformat": 4,
 "nbformat_minor": 5
}
