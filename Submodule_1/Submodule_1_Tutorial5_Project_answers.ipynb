{
 "cells": [
  {
   "cell_type": "markdown",
   "id": "525128f2-7c6b-4c1a-9bb9-eb4f1d1c7757",
   "metadata": {},
   "source": [
    "# Module 1 Project: Working with FASTA sequences"
   ]
  },
  {
   "cell_type": "markdown",
   "id": "fcb428a5-5361-46db-997d-76023c334c75",
   "metadata": {},
   "source": [
    "## Learning Objectives"
   ]
  },
  {
   "cell_type": "markdown",
   "id": "35b54b8d-863b-41f7-9e10-4dc113b45525",
   "metadata": {},
   "source": [
    "Time to put all your new skills into practice! You will download 2 gene sequence files from the NCBI database and align the two genes using the packages biopython and xyz.\n",
    "\n",
    "## Objectives\n",
    "\n",
    "You will compare the human alcohol dehydrogenase 1A gene (NM_000667.4) to a similar gene sequence from the American Mink (Neovison vison, XM_044226065.1), which is the E chain. \n",
    "1. Determine the lengths of the two DNA sequences (hint: len(X) gives you the length of any file.)\n",
    "2. Calculate the GC% in each sequence  (hint: we wrote a tool called count that you could copy or recreate.)\n",
    "3. Perform a pairwise global alignment, obtaining the score (hint: tools within pairwise2 imported from bio.)\n",
    "\n",
    "<div class=\"alert alert-block alert-info\"> <b>Tip:</b> If you need help, you can jump to the solutions from the next box</a>. </div>"
   ]
  },
  {
   "cell_type": "code",
   "execution_count": null,
   "id": "ca717cbd-49fa-4c34-b937-a4c8d657015d",
   "metadata": {},
   "outputs": [],
   "source": [
    "from Bio import Entrez, SeqIO\n",
    "\n",
    "Entrez.email = \"yourname@gmail.com\"\n",
    "\n",
    "handle = Entrez.efetch(db=\"nucleotide\", id=\"NM_000667.4\", rettype=\"fasta\")\n",
    "\n",
    "humanADH1A = SeqIO.read(handle, \"fasta\")\n",
    "handle.close()\n",
    "\n",
    "print(humanADH1A.id)\n",
    "print(humanADH1A.description)\n",
    "print(humanADH1A.seq)\n"
   ]
  },
  {
   "cell_type": "markdown",
   "id": "34c87c20-dd48-4571-9e96-3af988980a79",
   "metadata": {},
   "source": [
    "Now, carry out the same processes with a similar class-4 ADH from *Neovison vison*  XM_044224430.1. We'll use the genbank format to demonstrate the similarities."
   ]
  },
  {
   "cell_type": "code",
   "execution_count": null,
   "id": "3c53ce62-b6b3-40b8-8048-5136b2af4976",
   "metadata": {},
   "outputs": [],
   "source": [
    "Entrez.email = \"yourname@gmail.com\"\n",
    "\n",
    "handle = Entrez.efetch(db=\"nucleotide\", id=\"XM_044226065.1\", rettype=\"gb\", retmode=\"text\")\n",
    "\n",
    "minkADH = SeqIO.read(handle, \"genbank\")\n",
    "handle.close()\n",
    "\n",
    "print(minkADH.id)\n",
    "print(minkADH.description)\n",
    "print(minkADH.seq)"
   ]
  },
  {
   "cell_type": "markdown",
   "id": "8e040eac-b2d3-4fd1-8b4f-3075fb2c618c",
   "metadata": {},
   "source": [
    "Next, determinine the GC percentages:"
   ]
  },
  {
   "cell_type": "code",
   "execution_count": null,
   "id": "c2931a2b-6472-4ab9-9c6b-249e7a2f798a",
   "metadata": {},
   "outputs": [],
   "source": [
    "def count_base(dna, base): #the function is named count_base and takes 2 inputs- a sequence string and the letter to look for\n",
    "    dna=dna.upper()   #convert all letters in the string to uppercase\n",
    "    base=base.upper() #convert the letter provided to uppercase\n",
    "    return dna.count(base)\n",
    "\n",
    "humADH_GC=count_base(humanADH1A.seq, \"C\") + count_base(humanADH1A.seq, \"G\")\n",
    "humGC_percent = humADH_GC/len(humanADH1A.seq)\n",
    "print(humGC_percent)\n",
    "print(len(humanADH1A.seq))\n",
    "minkADH_GC=count_base(minkADH.seq, \"C\") + count_base(minkADH.seq, \"G\")\n",
    "minkGC_percent = minkADH_GC/len(minkADH.seq)\n",
    "print(minkGC_percent)\n",
    "print(len(minkADH.seq))"
   ]
  },
  {
   "cell_type": "markdown",
   "id": "4de267c8-f853-4b86-a557-21bd2b2b6084",
   "metadata": {},
   "source": [
    "Align the two sequences (suggestion: if you'd like to see that it's working, you might want to align and display only a smaller portion of the file, e.g., `...(hum.seq[0:50], mink.seq[100:200])`"
   ]
  },
  {
   "cell_type": "code",
   "execution_count": null,
   "id": "a02deb32-03b8-4ce9-bd6f-e43ec91f2a6a",
   "metadata": {},
   "outputs": [],
   "source": [
    "from Bio import pairwise2\n",
    "from Bio.pairwise2 import format_alignment\n",
    "alignments = pairwise2.align.globalxx(humanADH1A.seq, minkADH.seq)\n",
    "\n",
    "#option: print just a portion to view\n",
    "#alignments = pairwise2.align.globalxx(humanADH1A.seq[0:50], minkADH.seq[100:200])\n",
    "\n",
    "print(format_alignment(*alignments[0]))\n",
    "print(len(alignments)) #bonus"
   ]
  },
  {
   "cell_type": "markdown",
   "id": "33d90170-fda5-4207-8729-3e648d5d5bfb",
   "metadata": {},
   "source": [
    "# Conclusion\r\n",
    "By now, you should have a basic grasp of some of the ways that variables can hold information that Python will process using scripts. .\r\n",
    "With that foundation, we will can look at more advanced data structures which will be necessary for Bioinformatics."
   ]
  },
  {
   "cell_type": "markdown",
   "id": "0cf59bef-7951-41e9-a70b-7f48d58a7e5a",
   "metadata": {},
   "source": [
    "## Clean up\r\n",
    "Remember to shut down your Jupyter Notebook instance when you are done for the day to avoid unnecessary charges. You can do this by stoping the notebook instance from the Cloud console."
   ]
  }
 ],
 "metadata": {
  "kernelspec": {
   "display_name": "Python 3 (ipykernel)",
   "language": "python",
   "name": "python3"
  },
  "language_info": {
   "codemirror_mode": {
    "name": "ipython",
    "version": 3
   },
   "file_extension": ".py",
   "mimetype": "text/x-python",
   "name": "python",
   "nbconvert_exporter": "python",
   "pygments_lexer": "ipython3",
   "version": "3.12.9"
  }
 },
 "nbformat": 4,
 "nbformat_minor": 5
}
