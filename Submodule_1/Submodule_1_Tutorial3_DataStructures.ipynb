{
 "cells": [
  {
   "cell_type": "markdown",
   "id": "c90215cf-ed04-4edd-bac5-36d26a08a7ff",
   "metadata": {},
   "source": [
    "# Overview: Complex Data Structures\n",
    "-------------------------------------------------------------------------------------------------\n",
    "\n",
    "In this tutorial we will move past simple variables to explore more complex and mutable data types. We have already explored basic data types (string, integer). However, these basic types often fall short of the kinds of structures that would be helpful for Python programming in general and bioinformatics processing in particular. Two key data types are provided by Python: will be common to Python (list & dictionaries) while two classes will be imported from Biopython (Seq & SeqRecord)"
   ]
  },
  {
   "cell_type": "markdown",
   "id": "1cb4976b-4d41-419b-8163-d7a71dd7d7f1",
   "metadata": {},
   "source": [
    "## Prerequisites\n",
    "<ul>\n",
    "    <li>Submodule Lesson 1:  </li>\n",
    "    <li>Submodule 1 lesson 2: Variables</li>\n",
    "</ul>"
   ]
  },
  {
   "cell_type": "markdown",
   "id": "cfb581e7-4014-4a8a-864f-89c464ca372b",
   "metadata": {},
   "source": [
    "## Learning objectives\n",
    "\n",
    "- Define \"immutable\"\n",
    "- Work with a **list**  \n",
    "    - a sequence of objects\n",
    "- Use a **dict (dictionary)**\n",
    "    - List of objects with a \"key\", grouped into key/value pairs\n",
    "- Use the Biopython **Seq (sequence object)** \n",
    "    - A class which can be imported from Biopython. It is like a string, but has a defined alphabet and useful bioinformatics methods\n",
    "- Use the Biopython **SeqRecord**\n",
    "    - Another class which can be imported from Biopython\n",
    "    - Combines a sequence variable with additional annotation information\n",
    "<br>\n",
    "Let's take a look at these classes of data structures. "
   ]
  },
  {
   "cell_type": "markdown",
   "id": "cad9cdd8-7fa8-4986-98d6-a546213a764a",
   "metadata": {},
   "source": [
    "## Getting Started\n",
    "\n",
    "Run the next code box to load the required packages"
   ]
  },
  {
   "cell_type": "code",
   "execution_count": null,
   "id": "ddbd8dfe-9163-41f0-a317-a3b4ab68f00e",
   "metadata": {},
   "outputs": [],
   "source": [
    "#Run this cell to install needed packages\n",
    "\n",
    "#install the required packages\n",
    "%pip install jupyterquiz\n",
    "%pip install Bio\n",
    "import json\n",
    "from jupyterquiz import display_quiz\n",
    "import os\n",
    "print(\"done installing required packages\")\n"
   ]
  },
  {
   "cell_type": "markdown",
   "id": "97d60afe-e975-4e1d-beda-3faf4aa4a41e",
   "metadata": {},
   "source": [
    "# Lists"
   ]
  },
  {
   "cell_type": "markdown",
   "id": "b9ffb264",
   "metadata": {},
   "source": [
    "Lists are basically arrays of information. A list in Python can contain different types of data and *any* Python data type can be an element of a list. Each item in the list is separated by a comma and the entire list is enclosed in square brackets [ ] .\n",
    "<br>\n",
    "<br>\n",
    "The contents of a list can be:\n",
    "+ edited (they are mutable)\n",
    "+ concatenated using $ + $\n",
    "+ nested\n",
    "+ indexed\n",
    "+ members can be accessed using [] brackets. Counting starts at 0 but indexing can be positive or negative (as we saw with strings.)"
   ]
  },
  {
   "cell_type": "markdown",
   "id": "c417b86e-267a-4e24-943b-f176aac52bf9",
   "metadata": {},
   "source": [
    "## Mutability\n",
    "First let's define a term applied to lists: *immutable*.\n",
    "<br>\n",
    "We use the term, immutable, to describe the *inabillity* to edit parts of the data. You can, however overwrite the data. \n",
    "<br>\n",
    "Why do we care about this? If you used immutable types in a program, the program can run faster, *because* they cannot be changed. However, that is not a significant concern for the small scripts we will use here. "
   ]
  },
  {
   "cell_type": "code",
   "execution_count": null,
   "id": "ea0b4228-b40d-4c94-b2e8-eda6cd50ac2e",
   "metadata": {},
   "outputs": [],
   "source": [
    "# list\n",
    "list1 = [3,4,5,6]\n",
    "\n",
    "# the list is mutable, so information may be substituted\n",
    "list1[2] = 10\n",
    "\n",
    "print(list1)\n"
   ]
  },
  {
   "cell_type": "markdown",
   "id": "ebe46c7a-51af-46a9-8b58-0463322c129a",
   "metadata": {},
   "source": [
    "Lists have many associated functions which you can use to change and query them:\n",
    "<table>\n",
    "<thead>\n",
    "<tr><th>Function</th><th>Purpose</th><th>Example</th></tr>\n",
    "</thead>\n",
    "<tbody>\n",
    "<tr><td>+</td><td>Concatenates the lists</td><td>list3 = [1, 2, 3] + [4, 5]; Output: [1, 2, 3, 4, 5]</td></tr>\n",
    "<tr><td>len(x)</td><td>Returns the number of elements in the list</td><td>len([1, 2, 3]) Output: 3</td></tr>\n",
    "<tr><td>max(x)</td><td>Returns the largest item in the list</td><td>max([\"cat\", \"Fleece\", \"yogurt\"]) Output: 'yogurt'</td></tr>\n",
    "<tr><td>min(x)</td><td>Returns the smallest item in the list</td><td>min([1, 2, 3]) Output: '1'</td></tr>\n",
    "<tr><td>sum(x)</td><td>Returns the sum of all elements in the list (works only with numbers)</td><td>sum([1, 2, 3]) Output: '6'</td></tr>\n",
    "<tr><td>x.append(item)</td><td>Adds an item to the end of the list.</td><td>lst = [1, 2]\n",
    "lst.append(3) Output: lst becomes [1, 2, 3]</td></tr> \n",
    "<tr><td>index(item, start, end)</td><td>Returns the index of the first occurrence of the item</td><td>lst = [1, 2, 3]; lst.index(2) Output: 1</td></tr>\n",
    "<tr><td>insert(position, item)</td><td>Inserts the item at a location in the list</td><td>lst = [1, 2]; lst.insert(1,\"W\") Output: [1,'W']</td></tr>\n",
    "<tr><td>slice([start:stop:increment]</td><td>Returns the elements from start to stop -1</td><td>a=[\"AGTCCAG\"], print(a[0:2]) Output: 'AG'</td></tr>\n",
    "</tbody>\n",
    "</table>\n",
    "<div class=\"alert alert-block alert-info\"> <b>Tip:</b> Try each of these in the python box below</a>. </div>"
   ]
  },
  {
   "cell_type": "code",
   "execution_count": null,
   "id": "3ae02279-8344-426f-ac2f-378be6d128a8",
   "metadata": {},
   "outputs": [],
   "source": [
    "# change the variable length ​\n",
    "conditions = [\"high\",\"average\",\"low\"]\n",
    "conditions.append(\"out of range\")\n",
    "print(conditions)\n",
    "\n",
    "# Find the longest or largest element of a list, here created explicitly in the script\n",
    "max([\"AGATTCA\", \"kidney\", \"ATG\"])"
   ]
  },
  {
   "cell_type": "markdown",
   "id": "60a241ff-9ea0-4597-852b-23166d37d261",
   "metadata": {},
   "source": [
    "Lists can be aldo be \"nested.\" In other words,  a list can contain other lists, which can contain still more lists (or other variable types), and so on. \n",
    "<br>\n",
    "We will, in the code box, create a list with two elements\n",
    "Each element is a list with a pair of words\n",
    "\n",
    "<div class=\"alert alert-block alert-info\"> <b>Tip:</b> Try to add another two-part element nested_list</a>. </div>"
   ]
  },
  {
   "cell_type": "code",
   "execution_count": null,
   "id": "d2a2f43b",
   "metadata": {},
   "outputs": [],
   "source": [
    "nested_list = [(\"rs3452789\",\"CYP1\"),(\"rs5900382\",\"MHC1\")]\n",
    "print(nested_list)\n",
    "#add another list pair to nested_list\n",
    "\n",
    "print(nested_list)"
   ]
  },
  {
   "cell_type": "code",
   "execution_count": null,
   "id": "c4a0abe1",
   "metadata": {},
   "outputs": [],
   "source": [
    "# Print the list's first element\n",
    "print(nested_list[0])\n",
    "# Print the first sub-list's first element's first element (which is a string)\n",
    "print(nested_list[0][0])\n",
    "# Print the first lists's first element's first element's third element (which is a character)\n",
    "print(nested_list[0][0][2])"
   ]
  },
  {
   "cell_type": "markdown",
   "id": "4edb6835-0dc3-4869-b66f-711f711c84be",
   "metadata": {},
   "source": [
    "<div style=\"font-size:18px\">We can append, insert, and remove list elements.​</div>"
   ]
  },
  {
   "cell_type": "code",
   "execution_count": null,
   "id": "9900c932",
   "metadata": {},
   "outputs": [],
   "source": [
    "# Create\n",
    "list2 = [\"a\",\"b\",\"c\"]\n",
    "\n",
    "#Read\n",
    "print(list2)\n",
    "\n",
    "#update\n",
    "list2.remove(\"b\")\n",
    "print(list2)\n",
    "\n",
    "# What about this command?​ what do you think it will do?\n",
    "list2.append([\"d\",\"e\",\"f\"])\n",
    "# Did it work as you expected?\n",
    "print(list2)\n"
   ]
  },
  {
   "cell_type": "markdown",
   "id": "c7ce0aaa",
   "metadata": {},
   "source": [
    "What happened is the **append** method adds the list as an element, rather than a bunch of list items.\n",
    "<br>\n",
    "<br>\n",
    "So one element ends up holding an entire list, rather than just one element.\n",
    "<br>\n",
    "<br>\n",
    "To fix this problem, use **extend**, rather than **append**:"
   ]
  },
  {
   "cell_type": "code",
   "execution_count": null,
   "id": "a56d45c0",
   "metadata": {},
   "outputs": [],
   "source": [
    "list2.extend([\"d\",\"e\",\"f\"])\n",
    "print(list2)\n",
    "\n",
    "list1= [\"a\",1,2,(1,2)]\n",
    "print(list1)\n",
    "list1.remove(2)\n",
    "print(list1)\n",
    "# To get all the methods and properties of the list, remove the comment symbol\n",
    "#help(list)\n"
   ]
  },
  {
   "cell_type": "markdown",
   "id": "5459bde3-0453-42a9-a5d1-fb80dda2e207",
   "metadata": {},
   "source": [
    "# Exercise\n",
    "\n",
    "Test your skill:\n",
    "<br>\n",
    "- Create a list using the numbers 1 through 5​\n",
    "<br>\n",
    "- Create a list using the letters a-e​\n",
    "<br>\n",
    "- Add the lists together and print the result​\n",
    "<br>\n",
    "- Try multiply operator *, what happens?​"
   ]
  },
  {
   "cell_type": "code",
   "execution_count": null,
   "id": "b7b732c0-18e4-43ab-b60d-b736d7bc7b25",
   "metadata": {},
   "outputs": [],
   "source": []
  },
  {
   "cell_type": "markdown",
   "id": "e7156095-114e-4208-bc5b-0011e38f96f6",
   "metadata": {},
   "source": [
    "## Slicing\n",
    "\n",
    "Slicing is a useful way to get a portion of a string or of a list. In bioinformatics, we might want to look at the first 3 bases or amino acids in each string in a FASTA file. \n",
    "<br>\n",
    "Slicing has 3 arguments.\n",
    "\n",
    "- [ start : stop : increment ]\n",
    "\n",
    "Notice the same three arguments are also used with **string** data structures.\n",
    "\n",
    "With slicing, start/stop can be *negative*, impying count from the end.\n",
    "\n",
    "Increment default value is 1, but it can be any integer (including negative)."
   ]
  },
  {
   "cell_type": "code",
   "execution_count": null,
   "id": "644428ae-2b6f-4885-82a6-76680c31adc4",
   "metadata": {},
   "outputs": [],
   "source": [
    "# Slice stepping ​examples\n",
    "seq1 = list(range(1,11))  # Ends up as (1, 2, 3, 4, 5, 6, 7, 8, 9, 10)\n",
    "\n",
    "print(seq1[-1])         # Start from the end and take the first element from the end.\n",
    "print(seq1[:9:2])       # Start from 0, move to position 9, take every other element.\n",
    "print(seq1[9:0:-2])     # Start from position 9, move to position 0 (backwards), take every other element.\n",
    "print(seq1[-2:-5])      # Start from position -2, move to position -5, take every element.\n",
    "                        # Note you can't move backwards, so this is empty.\n",
    "print(seq1[-2:-5:-1])   # Now start from position -2 and move backwards to position -5, taking every element.   \n",
    "#How could you print the entire sequence in reverse? Answer in next box"
   ]
  },
  {
   "cell_type": "code",
   "execution_count": null,
   "id": "2ffe4e5f-0d6b-4eea-9a64-96437e5905ca",
   "metadata": {},
   "outputs": [],
   "source": [
    "# How would you Reverse the entire sequence?\n",
    "print(seq1[::-1])  "
   ]
  },
  {
   "cell_type": "markdown",
   "id": "2fea0c7d-62d9-493b-a1e9-0408d49df514",
   "metadata": {},
   "source": [
    "### Negative Indexes\n",
    "A way to look at negative indexes is to think of the list as being recycled."
   ]
  },
  {
   "cell_type": "code",
   "execution_count": null,
   "id": "6c635fcd-4df4-46b5-b24b-4c0b9914bfff",
   "metadata": {},
   "outputs": [],
   "source": [
    "# How you look at indexes when using negatives.\n",
    "list = [0, 1, 2, 3, 4, 5]\n",
    "print(list)\n",
    "print(list[0:6])\n",
    "print(list[-1:-7:-1])\n",
    "\n",
    "# Here's how you might want to think of it:\n",
    "# -6, -5, -4, -3, -2, -1, 0, 1, 2, 3, 4, 5  # The index of the list\n",
    "#  0,  1,  2,  3,  4,  5, 0, 1, 2, 3, 4, 5  # The list value at position"
   ]
  },
  {
   "cell_type": "markdown",
   "id": "bdcbb411-f6c9-4e41-aa00-aede92b8108f",
   "metadata": {},
   "source": [
    "Be sure to set your boundary parameters properly."
   ]
  },
  {
   "cell_type": "code",
   "execution_count": null,
   "id": "d35e0caf-5eb3-49cd-b218-92d0ac0cb182",
   "metadata": {},
   "outputs": [],
   "source": [
    "seq1 = list(range(1,11))\n",
    "\n",
    "# This next statement gives us an empty list - why?\n",
    "\n",
    "print(seq1[9:-1:-2])"
   ]
  },
  {
   "cell_type": "markdown",
   "id": "c7463294-cc4e-41dc-8b47-c3b486a161df",
   "metadata": {},
   "source": [
    "# Test Your Knowledge\n",
    "Now it’s your turn to apply what you have learned in the following maatching quiz exercise. You **should feel free** to write the code in a Python cell if you cannot predict the outcome. "
   ]
  },
  {
   "cell_type": "code",
   "execution_count": null,
   "id": "e4bcd326-220f-4bd3-a75d-06b889131951",
   "metadata": {},
   "outputs": [],
   "source": [
    "from jupyterquiz import display_quiz\n",
    "listqz=\"PythonQuizQuestions/ListFunction.json\"\n",
    "display_quiz(listqz)"
   ]
  },
  {
   "cell_type": "markdown",
   "id": "323ad4ca-7656-49a0-a95f-e094da37f0f1",
   "metadata": {},
   "source": [
    "# Dictionaries"
   ]
  },
  {
   "cell_type": "markdown",
   "id": "55ced1ac-0324-4ffc-a9c1-ad0aa12e858f",
   "metadata": {},
   "source": [
    "In bioinformatics, you often need lookup tools or to access parts of a long set of data, without having to know the data's position in a list. The ideal tool for this is a python **dictionary**. \n",
    "<br>\n",
    "In Python, a dictionary is a data structure that stores data in **key-value pairs.**  As you can see in the next code box, an example is a dictionary for the genetic code.\n",
    "\n",
    "The basic properties of a dictionary are:\n",
    " + Key-Value Pairs: Each item in a dictionary consists of a unique key and its corresponding value. Think of it like a real-world dictionary where words are the keys and their definitions are the value. Or, for the genetic code, where AUG is the key and Met or Methionine is the value\n",
    " + Unordered: Unlike lists, dictionaries don't maintain any inherent order for the elements\n",
    " + Mutabile: You can add, remove, or modify items in a dictionary after its created\n",
    " + Accessing Values: You retrieve values by using their associated keys\n",
    " + Creating dictionaries: use curly braces {}\n",
    "<br>\n",
    "\n",
    "Let's examine a few common examples"
   ]
  },
  {
   "cell_type": "code",
   "execution_count": null,
   "id": "27c00314-bfd1-4d95-a868-76e50d10d647",
   "metadata": {},
   "outputs": [],
   "source": [
    "# Ways to Create dicts\n",
    "aa_names = dict(F=\"phenylalanine\", P=\"proline\", A=\"alanine\") \n",
    "aa_Threes={} #an empty dictionary that you would later fill\n",
    "dict2= {\"first\": \"a\", \"second\": \"b\", \"third\": \"c\"}\n",
    "codon_table = {\n",
    "    \"UUU\": \"F\", \"UUC\": \"F\", \"UUA\": \"L\", \"UUG\": \"L\", \"CUU\": \"L\", \"CUC\": \n",
    "    \"L\", \"CUA\": \"L\", \"CUG\": \"L\", \"AUU\": \"I\", \"AUC\": \"I\", \"AUA\": \"I\", \n",
    "    \"AUG\": \"M\",\"GUU\": \"V\", \"GUC\": \"V\", \"GUA\": \"V\", \"GUG\": \"V\",\"UCU\": \n",
    "    \"S\", \"UCC\": \"S\", \"UCA\": \"S\", \"UCG\": \"S\",\"CCU\": \"P\", \"CCC\": \"P\", \n",
    "    \"CCA\": \"P\", \"CCG\": \"P\",\"ACU\": \"T\", \"ACC\": \"T\", \"ACA\": \"T\", \"ACG\": \"T\",\n",
    "    \"GCU\": \"A\", \"GCC\": \"A\", \"GCA\": \"A\", \"GCG\": \"A\",\"UAU\": \"Y\", \"UAC\": \"Y\",\n",
    "    \"UAA\": \"*\", \"UAG\": \"*\",\"CAU\": \"H\", \"CAC\": \"H\", \"CAA\": \"Q\", \"CAG\": \"Q\",\n",
    "    \"AAU\": \"N\", \"AAC\": \"N\", \"AAA\": \"K\", \"AAG\": \"K\",\"GAU\": \"D\", \"GAC\": \"D\",\n",
    "    \"GAA\": \"E\", \"GAG\": \"E\",\"UGU\": \"C\", \"UGC\": \"C\", \"UGA\": \"*\", \"UGG\": \"W\",\n",
    "    \"CGU\": \"R\", \"CGC\": \"R\", \"CGA\": \"R\", \"CGG\": \"R\",\"AGU\": \"S\", \"AGC\": \"S\",\n",
    "    \"AGA\": \"R\", \"AGG\": \"R\",\"GGU\": \"G\", \"GGC\": \"G\", \"GGA\": \"G\", \"GGG\": \"G\"\n",
    "}\n",
    "\n",
    "# And ways to access key:value pairs\n",
    "print(aa_names)\n",
    "print(aa_names[\"P\"])\n",
    "print(codon_table[\"ACA\"])"
   ]
  },
  {
   "cell_type": "markdown",
   "id": "27b1dd13-69fe-4194-8e83-77f5e5b3e2e4",
   "metadata": {},
   "source": [
    "Other useful dictionary functions:\n",
    "\n",
    "- **del** (This is a keyword, for removing an element),\n",
    "- **update()** (This is a method of adding new elements)\n",
    "<br>\n",
    "<br>\n",
    "Let's see some examples:"
   ]
  },
  {
   "cell_type": "code",
   "execution_count": null,
   "id": "738256a5-da95-4a32-92bf-13d7423c16ef",
   "metadata": {},
   "outputs": [],
   "source": [
    "# Remove element\n",
    "#del aa_names['P']    #the elements in a dictionary are not indexable with numbers. Rather, use the key to remove the key:object pair\n",
    "# Update element\n",
    "aa_names.update({'G':\"glycine\"})\n",
    "print(aa_names)\n",
    "#and, to give you a taste of loops in coming sections:\n",
    "for i in (\"GGAF\"):\n",
    "    print(aa_names[i],'',end='')\n",
    "    "
   ]
  },
  {
   "cell_type": "markdown",
   "id": "4ed0d13f-7360-4cca-b77e-f384081f47c2",
   "metadata": {},
   "source": [
    "## Test your knowledge"
   ]
  },
  {
   "cell_type": "code",
   "execution_count": null,
   "id": "9d7fa757-1e93-4e15-98c6-a771a3dfbf1c",
   "metadata": {},
   "outputs": [],
   "source": [
    "print(aa_names)"
   ]
  },
  {
   "cell_type": "code",
   "execution_count": null,
   "id": "d8eed482-12b6-4635-b977-ed9bfd1f808d",
   "metadata": {},
   "outputs": [],
   "source": [
    "from jupyterquiz import display_quiz\n",
    "dict_qz=\"PythonQuizQuestions/dictTF.json\"\n",
    "display_quiz(dict_qz)"
   ]
  },
  {
   "cell_type": "markdown",
   "id": "a0cd3c62-c738-48bc-88c8-7abfba10918d",
   "metadata": {},
   "source": [
    "# Creating other data structures \n",
    "\n",
    "In Python, you can create new classes to define custom types of variables by using the **class** keyword. \n",
    "\n",
    "This is useful because it allows one to group related data (attributes) and behaviors (methods) into a single structure, making your code more organized, reusable, and intuitive. \n",
    "\n",
    "For example, if working with genetic data, you might create a **Gene** class to encapsulate information like the gene's name, sequence, and functions, along with methods for analyzing it. \n",
    "\n",
    "Even if **you** don't make your own class, it is useful to see how to use these variable classes. "
   ]
  },
  {
   "cell_type": "markdown",
   "id": "283c2400-ae11-4cdd-a212-e5ad69182c71",
   "metadata": {},
   "source": [
    "## Biopython data structures- Seq and SeqRecord\n",
    "\n",
    "The open-source library **Biopython** defines two data structures—**`Seq`** and **`SeqRecord`** which form the backbone for working with biological sequence data. \n",
    "\n",
    "The **`Seq`** object represents a sequence (DNA, RNA, or protein) as an immutable string-like object with added biological methods, such as reverse complement (`.reverse_complement()`) and translation (`.translate()`). It enables you to easily manipulate and analyze sequences while maintaining biological accuracy. \n",
    "\n",
    "Building on this, the **`SeqRecord`** object is a more versatile structure that not only contains a `Seq` object but also stores rich metadata, such as an identifier (`id`), name, description, and annotations. This makes it particularly useful for handling sequences in the context of FASTA/GenBank files or any scenario where additional information accompanies the sequence. Together, these structures allow biologists to efficiently store, process, and annotate biological sequence data in a programmatic way. We'll look at the SeqRecord in the next tutorial."
   ]
  },
  {
   "cell_type": "markdown",
   "id": "bf441760-88f2-4d7e-a2f4-464257f05b95",
   "metadata": {},
   "source": [
    "## Seq"
   ]
  },
  {
   "cell_type": "markdown",
   "id": "39a8d107-2e4d-4a6e-ad2b-1ab782b565cd",
   "metadata": {},
   "source": [
    "Bioinformatics sequences (typically RNA, DNA, or protieins) are string variables. But, if we knew which type of string it was, there are different kinds of methods that might be applied to them. For example, you might want to generate the transcript of a DNA sequence or find open reading frames. RNA sequences might logically need to be translated into protein sequences. "
   ]
  },
  {
   "cell_type": "markdown",
   "id": "e5a2657f-b115-4248-a845-7c878be1013b",
   "metadata": {},
   "source": [
    "Key seq methods are shown below\n",
    "<table>\n",
    "<thead>\n",
    "<tr><th>Function</th><th>Purpose</th><th>Example</th></tr>\n",
    "</thead>\n",
    "<tbody>\n",
    "<tr><td>gc_fraction</td><td>calculates the GC% of a sequence string</td><td> NO EXAMPLE</td></tr>\n",
    "<tr><td>complement of nucleotide sequence X</td><td>x.compement()</td><td>x=[\"AGTCCAG\"] Output: Seq('TCAGGTC')</td></tr>\n",
    "</tbody>\n",
    "</table>\n"
   ]
  },
  {
   "cell_type": "code",
   "execution_count": null,
   "id": "9b9590ba-5e68-4d92-a639-1df71fcef71c",
   "metadata": {},
   "outputs": [],
   "source": [
    "from Bio.Seq import Seq\n",
    "#from Bio.SeqUtils import gc_fraction\n",
    "dna=Seq(\"AGTCCAG\")\n",
    "dna.complement() \n",
    "#gc_fraction(dna)\n",
    "#dna.reverse_complement() #returns another sequence object"
   ]
  },
  {
   "cell_type": "markdown",
   "id": "dd897b29-c445-43c5-983b-3fdb59ed8d9a",
   "metadata": {},
   "source": [
    "## SeqRecord\n",
    "\n",
    "In Biopython, the SeqRecord object is used to hold a <u>biological sequence</u> along with its <u>associated metadata.</u>\n",
    "\n",
    "If you are familiar with GenBank or EMBL data structures, you can see that the SeqRecord is well-equipped to include the variety of informative data pieces that are used in addition to the simple DNA or Protein sequence alone.\n",
    "\n",
    "A SeqRecord works a bit like a * dictionary * with some built-in keys that all files will have.\n",
    "\n",
    "With a SeqRecord, the key attributes you can access directly are:\n",
    "<ul>\n",
    "    <li>ID: the sequence identifier</li>\n",
    "    <li>name: the sequence name</li>\n",
    "    <li>description: a descriptive string</li>\n",
    "    <li>seq: The biological sequence, stored as a Seq object</li>\n",
    "    <li>features: A list of SeqFeature objects which provide structured information about features like gene locations, domains, or other relevant biological annotations on the sequence</li>\n",
    "    <li>dbxrefs: a list of database cross-references</li>\n",
    "</ul>"
   ]
  },
  {
   "cell_type": "code",
   "execution_count": null,
   "id": "4d75535c-4e92-4336-9029-bcae04cde491",
   "metadata": {},
   "outputs": [],
   "source": [
    "#Practice with SeqRec"
   ]
  },
  {
   "cell_type": "markdown",
   "id": "b98e62fd-c160-4cb9-bd75-d1d7188f02ed",
   "metadata": {},
   "source": [
    "# Conclusion\r\n",
    "After this Tutorial, you've learned to work with several different data structures that are common to bioinformatic data sets.\n",
    "<br>\n",
    "The next tutorial will use  tools to analyze and import dataset using [Functions](./Submodule_1_Tutorial4_Functions.ipynb)."
   ]
  },
  {
   "cell_type": "markdown",
   "id": "e10884ef-f9bb-42ee-95d2-42fcfc9f2f41",
   "metadata": {},
   "source": [
    "## Clean up\n",
    "Remember to shut down your Jupyter Notebook instance when you are done for the day to avoid unnecessary charges. You can do this by stoping the notebook instance from the Cloud console."
   ]
  }
 ],
 "metadata": {
  "kernelspec": {
   "display_name": "Python 3 (ipykernel)",
   "language": "python",
   "name": "python3"
  },
  "language_info": {
   "codemirror_mode": {
    "name": "ipython",
    "version": 3
   },
   "file_extension": ".py",
   "mimetype": "text/x-python",
   "name": "python",
   "nbconvert_exporter": "python",
   "pygments_lexer": "ipython3",
   "version": "3.12.4"
  }
 },
 "nbformat": 4,
 "nbformat_minor": 5
}
