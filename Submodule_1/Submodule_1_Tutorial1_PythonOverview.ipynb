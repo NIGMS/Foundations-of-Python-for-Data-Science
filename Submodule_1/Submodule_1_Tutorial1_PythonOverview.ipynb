{
 "cells": [
  {
   "cell_type": "markdown",
   "id": "1bb31503-55ff-40bc-8103-b8abe58fad3f",
   "metadata": {},
   "source": [
    "## Overview\n",
    "\n",
    "This section of the introductory module gives you the foundations for understanding how Python works. \n",
    "\n",
    "<p align=\"center\">\n",
    "        <a href=\"https://www.youtube.com/watch?v=I13dInHrpa4&list=PLXaEJPtnQ4w7Vu7vqWbttBjUGrPp4Qa7b&index=29\">\n",
    "            <img src=\"../images/IntroPythonforBioinfo.png\" alt=\"NIH/NIGMS Sandbox Foundations of Python Video 7\", width=\"550\"/>\n",
    "        </a>\n",
    "    <br>\n",
    "    <span> Click above image to watch introductory video </span>\n",
    "</p>\n",
    "\n",
    "<div class=\"alert alert-block alert-warning\"> <b>Attention:</b> This page is for novices!</a>. </div>\n",
    "\n",
    "## Learning Objectives\n",
    "- Describe a Python program\n",
    "- Recognize and create comments\n",
    "- Find help for Python Tools\n",
    "- Use functions and methods on variables (at a beginner level)\n",
    "## Prerequisites\n",
    "NONE\n",
    "\n",
    "## Getting Started\n",
    "Run the next code box(\"play\" button to the left or on the toolbar above)  to installall  the needed libraries for runningcode on  this pagey"
   ]
  },
  {
   "cell_type": "code",
   "execution_count": null,
   "id": "9f1b88e0-7934-4205-a643-839f9d3cc457",
   "metadata": {},
   "outputs": [],
   "source": [
    "%pip install jupyterquiz\n",
    "%pip install --upgrade pip \n",
    "%pip install --upgrade numpy pandas"
   ]
  },
  {
   "cell_type": "markdown",
   "id": "e561c0c0-8bd4-44d0-a056-f29bcca25b6a",
   "metadata": {},
   "source": [
    "# Python Commands & Programs\n",
    "\n",
    "We want to use Python to do some job. Thus, we create lines of code which, when run \"do something.\" This is more or less what we think of as a program\n",
    "<br>\n",
    "In Python, as in other languages, you build a program by creating these lines of code, often called commands, in a syntactically correct and logically organized way. We must do this because machines are dumb and will only do what we explicity tell them to do. \n",
    "<br>\n",
    "<br>\n",
    "In Python, commands are mostly just text on a line. The following command prints \"Hello World!\" to the console (\"run\" the box to see the result appear, using the play button- the triangle- next to the box. *You should do this for all boxes that have python code in them from now on*)"
   ]
  },
  {
   "cell_type": "code",
   "execution_count": null,
   "id": "4c221b80-a947-44bd-8454-5d0e3491f6d0",
   "metadata": {},
   "outputs": [],
   "source": [
    "print(\"Hello World!\")"
   ]
  },
  {
   "cell_type": "markdown",
   "id": "5b3efa13-65aa-4d70-8db5-3134ee82c34d",
   "metadata": {},
   "source": [
    "The Python compiler (the interpreter of code into something that executes) interprets a new line as a new commmand. It also interprets indentations as meaningful. You will see over time that indentation must align.\n",
    "<br>\n",
    "<br>You can tell the compiler to ignore material in the coding box by adding a # in front. Try this in the box above, adding # before print.\n",
    "\n",
    "<br>This is often used to include **comments** in the coding boxes and is helpful for interpretation.\n",
    "\n",
    "<div class=\"alert alert-block alert-warning\"> <b>Attention:</b> Please take note. In this Intro to Python workshop, we will frequently put # before sections of code in a code box. This is done so that **you** can control what is printed to the console or to slowly make additional changes to the process. You should remove # before lines of code, but not those containing comments, to see the results</a>. </div>"
   ]
  },
  {
   "cell_type": "markdown",
   "id": "398865a6-a1a0-48ac-9a76-0af145f35a4f",
   "metadata": {},
   "source": [
    "Python is an <u>object-oriented language.</u> This approach means that you do not have to upload every possible tool in the language to run each program. Rather, you pull in just the pieces you need. \n",
    "<br>\n",
    "In contrast, software like Excel is ready for ANYTHING you might ask it to do. Unfortunately, loading EVERY tool just fills up the computer's memory and slows processes.\n",
    "<br>\n",
    "With Python, we try to limit the tools residing in memory to only those which are necessary for the current tasks. \n",
    "But, this mean that you will see a lot of \"importing\" on every page of this Python course. Lets do a short example."
   ]
  },
  {
   "cell_type": "code",
   "execution_count": null,
   "id": "e8bbb045-3327-476b-97cd-fd9c6db5df30",
   "metadata": {},
   "outputs": [],
   "source": [
    "print(\"Drosophila melanogaster\")\n",
    "\n",
    "#to make this italics, we need to fetch some formatting style code from the library called \"rich\"\n",
    "from rich import print\n",
    "print(\"After fetching the ability to do italics: [italic]Drosophila melanogaster[/italic]\")"
   ]
  },
  {
   "cell_type": "markdown",
   "id": "c5e0a70e-8ea1-455a-a78e-b125c161eded",
   "metadata": {},
   "source": [
    "There are several different ways that you'll see programs run. \n",
    "<br>\n",
    "You have so far seen that the function to print (to the console) has information in the parenthesis (called the argument) that the tool needs to be able to run. Thus, the directions in the miniprogram of \"print\" will put on the console whatever is in the parentheses. It can handle many different objects separated by commas. All this is written in the \"rules\" of the function \"print\". "
   ]
  },
  {
   "cell_type": "code",
   "execution_count": null,
   "id": "5945b1cd-a2a2-432c-8391-4384e040042b",
   "metadata": {},
   "outputs": [],
   "source": [
    "print(\"Bioinformatics is the number\", 1, \"approach to DNA analysis.\") #what happens if you eliminate quotation marks?\n",
    "\n",
    "# To insert a new line, use \"\\n\"\n",
    "print(\">new_dna_sequence\",\"\\nAGCCTAGCCTAGATTGTCTA\")"
   ]
  },
  {
   "cell_type": "markdown",
   "id": "e81176a9-0ac3-4fad-a230-ff9601e3df46",
   "metadata": {},
   "source": [
    "<div class=\"alert alert-block alert-info\"> <b>Tip:</b> In the Python box above, try changing what is printed to the console</a>. </div>\n",
    "\n",
    "To see what any function can do, you can run the help function, where the thing you want to understand is the argument."
   ]
  },
  {
   "cell_type": "code",
   "execution_count": null,
   "id": "c5f018b3-c944-4273-9853-8734969256ec",
   "metadata": {},
   "outputs": [],
   "source": [
    "help(print)"
   ]
  },
  {
   "cell_type": "markdown",
   "id": "a19359a7-3d78-4fdd-9805-62db58ceb86b",
   "metadata": {},
   "source": [
    "Some tools do not require an argument in the parentheses. These are **methods** which are related to particular data types (next lesson). There are several that act on strings of letters, including converting to upper() or lower() case:"
   ]
  },
  {
   "cell_type": "code",
   "execution_count": null,
   "id": "5f769377-13cc-454c-93f6-61378fac539b",
   "metadata": {},
   "outputs": [],
   "source": [
    "\"hgycu\".upper()  #this method does not need any information in the parenthesis, but some do"
   ]
  },
  {
   "cell_type": "markdown",
   "id": "3f239554-6926-46fb-88af-f3ca19615198",
   "metadata": {},
   "source": [
    "<div class=\"alert alert-block alert-info\"> <b>Tip:</b> Try converting mixed text to upper or lowercase in the Python box above</a>. </div>"
   ]
  },
  {
   "cell_type": "markdown",
   "id": "8cd7849d-664e-423c-9653-68cc79843976",
   "metadata": {},
   "source": [
    "## Test your understanding\n",
    "Throughout this Intro to Python module, we will include quizzes that will display to the screen where you can click on the right answer or enter a value. To display, you should \"run\" the jupyter quiz boxes (click on the \"play\" button for that box)."
   ]
  },
  {
   "cell_type": "code",
   "execution_count": null,
   "id": "efd9b3cc-cc33-4fbd-8670-c1f555efb77d",
   "metadata": {},
   "outputs": [],
   "source": [
    "#%pip install jupyterquiz\n",
    "from jupyterquiz import display_quiz\n",
    "intro=\"PythonQuizQuestions/intro.json\"\n",
    "display_quiz(intro)"
   ]
  },
  {
   "cell_type": "markdown",
   "id": "e9679240-badb-4170-8f8f-81defc1d0948",
   "metadata": {},
   "source": [
    "## Conclusion \n",
    "In this lesson, you learned:\n",
    "- Programs can be short lines of just text\n",
    "- Comments are created with #\n",
    "- Functions typically receive arguments in parenthesis and act on them, while method are actions that can be done on certain kinds of data\n",
    "- To find out more background, write help(function)\n",
    "- To edit functions or methods and run them on your own\n",
    "- Python can import other functionalities (or not) to maximize performance efficiency\n",
    "\n",
    "Time to go on to learn about [variables!](./Submodule_1_Tutorial2_Variables.ipynb)"
   ]
  },
  {
   "cell_type": "markdown",
   "id": "be938974-e1f2-40f7-86f8-5f1de9e0a6c2",
   "metadata": {},
   "source": [
    "## Clean Up\n",
    "Remember to shut down your Jupyter Notebook compute instance when you are done to avoid unnecessary charges. You can do this by clicking on stop in the tool menu."
   ]
  }
 ],
 "metadata": {
  "kernelspec": {
   "display_name": "Python 3 (ipykernel)",
   "language": "python",
   "name": "python3"
  },
  "language_info": {
   "codemirror_mode": {
    "name": "ipython",
    "version": 3
   },
   "file_extension": ".py",
   "mimetype": "text/x-python",
   "name": "python",
   "nbconvert_exporter": "python",
   "pygments_lexer": "ipython3",
   "version": "3.12.4"
  }
 },
 "nbformat": 4,
 "nbformat_minor": 5
}
