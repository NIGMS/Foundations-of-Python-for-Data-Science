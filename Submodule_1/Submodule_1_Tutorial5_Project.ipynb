{
 "cells": [
  {
   "cell_type": "markdown",
   "id": "35b54b8d-863b-41f7-9e10-4dc113b45525",
   "metadata": {},
   "source": [
    "# Project for Module 1:\n",
    "\n",
    "Time to put all your new skills into practice! You will download 2 gene sequence files from the NCBI database using biopython, xyz, and align the two genes. \n",
    "\n",
    "## Objectives\n",
    "\n",
    "You will compare the human alcohol dehydrogenase 1A gene (NM_000667.4) to a similar gene sequence from the American Mink (Neovison vison, XM_044226065.1), which is the E chain. \n",
    "1. Determine the lengths of the two DNA sequences (hint: len(X) gives you the length of any file\n",
    "2. Calculate the GC% in each sequence  (hint: we wrote a tool called count that you could copy or recreate)\n",
    "3. Perform a pairwise global alignment, obtaining the score (hint: tools within pairwise2 imported from bio)\n",
    "\n",
    "<div class=\"alert alert-block alert-info\"> <b>Tip:</b> If you need help, you can jump to the solutions from the next box</a>. </div>"
   ]
  },
  {
   "cell_type": "markdown",
   "id": "223abc2e-9007-42d7-818b-da06f784e474",
   "metadata": {},
   "source": [
    "[Solutions](./Submodule_1_Tutorial5_Project_answers.ipynb)"
   ]
  },
  {
   "cell_type": "markdown",
   "id": "1d26b1ea-f410-4e61-86b0-c23192f18fac",
   "metadata": {},
   "source": [
    "## Prerequisites\n",
    "Before taking on this project, you should either do the 4 tutorials in Submodule 1 \n",
    "<br>\n",
    "or\n",
    "\n",
    "be familiar with Python variables, data structures, and functions, including BioPython tools"
   ]
  },
  {
   "cell_type": "code",
   "execution_count": null,
   "id": "ca717cbd-49fa-4c34-b937-a4c8d657015d",
   "metadata": {},
   "outputs": [],
   "source": [
    "%pip install Bio\n",
    "%pip install jupyterquiz\n",
    "from jupyterquiz import display_quiz\n",
    "from Bio import Entrez, SeqIO\n"
   ]
  },
  {
   "cell_type": "markdown",
   "id": "34c87c20-dd48-4571-9e96-3af988980a79",
   "metadata": {},
   "source": [
    "Now, carry out the same processes with a similar class-4 ADH from *Neovison vison*  XM_044224430.1. We'll use the genbank format to demonstrate the similarities."
   ]
  },
  {
   "cell_type": "code",
   "execution_count": null,
   "id": "c2931a2b-6472-4ab9-9c6b-249e7a2f798a",
   "metadata": {},
   "outputs": [],
   "source": []
  },
  {
   "cell_type": "markdown",
   "id": "4de267c8-f853-4b86-a557-21bd2b2b6084",
   "metadata": {},
   "source": [
    "Align the two sequences (suggestion: if you'd like to see that it's working, you might want to align and display only a smaller portion of the file, e.g., ...(hum.seq[0:50], mink.seq[100:200])"
   ]
  },
  {
   "cell_type": "code",
   "execution_count": null,
   "id": "a02deb32-03b8-4ce9-bd6f-e43ec91f2a6a",
   "metadata": {},
   "outputs": [],
   "source": [
    "#Run this code box to see the quizzes\n",
    "from jupyterquiz import display_quiz\n",
    "ProjQuiz=\"PythonQuizQuestions/seqProjquiz_all.json\"\n",
    "display_quiz(ProjQuiz)"
   ]
  },
  {
   "cell_type": "markdown",
   "id": "0c29003d-13db-4f43-8c92-8d3a9655d802",
   "metadata": {},
   "source": [
    "**Congrats on completing your first solo python sequence import and alignment!**"
   ]
  },
  {
   "cell_type": "markdown",
   "id": "8b38dab9-1b19-4259-92a1-4f6320a60b36",
   "metadata": {},
   "source": [
    "# Conclusion\n",
    "\n",
    "You have completed the <u>first module</u> of the Introduction to Python tutorial!\n",
    "\n",
    "The next module will help you to develop more advanced data handling skills with NumPy, Pandas, and their powerful data science tools.\n",
    "\n",
    "Start with the Overview page in Submodule_2\n",
    "\n",
    "## Clean up\n",
    "Be sure to end your compute session to avoid unnecessary charges."
   ]
  }
 ],
 "metadata": {
  "kernelspec": {
   "display_name": "Python 3 (ipykernel)",
   "language": "python",
   "name": "python3"
  },
  "language_info": {
   "codemirror_mode": {
    "name": "ipython",
    "version": 3
   },
   "file_extension": ".py",
   "mimetype": "text/x-python",
   "name": "python",
   "nbconvert_exporter": "python",
   "pygments_lexer": "ipython3",
   "version": "3.12.4"
  }
 },
 "nbformat": 4,
 "nbformat_minor": 5
}
