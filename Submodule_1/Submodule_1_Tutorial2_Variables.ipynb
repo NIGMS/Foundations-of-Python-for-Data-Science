{
 "cells": [
  {
   "cell_type": "markdown",
   "id": "c195a51f-86a7-4937-8f9c-4cce14e461b2",
   "metadata": {},
   "source": [
    "# Tutorial 2: Variables\n",
    "-----------------------------------------------------------------"
   ]
  },
  {
   "cell_type": "markdown",
   "id": "d14bab56-24e1-451b-9066-9d17a91e76ee",
   "metadata": {},
   "source": [
    "## Overview: Variables\n",
    "This next section takes a look at working with **variables** \n",
    "- Variables are how a program maintains its **state** or memory.<br> \n",
    "- State is the value of a program environment at a given point in time (or runtime).<br> \n",
    "- Programs check their state variables and make decisions based upon their values or simply display or use them in some fashion.<br> \n",
    "- Variables have some special properties (discussed later) which determine how they are to be used and what kinds of values they store.<br> \n",
    "- They, along with commands, are a fundamental building block for any program.\n",
    "\n",
    "The goal is to familiarize you with specific topics without going off on too many tangents. Python, like any computer language, is complex with lots of moving parts. It can be a little overwhelming at first, but don't worry, we will do our best to fill in the gaps as quickly and completely as we can.\n",
    "\n",
    "<div class=\"alert alert-block alert-warning\"> <b>Attention:</b> This tutorial is for novices </a>. </div>"
   ]
  },
  {
   "cell_type": "markdown",
   "id": "30e0ca4c-8609-4755-b4c0-6ec42b09f4ed",
   "metadata": {},
   "source": [
    "## Learning Objectives\n",
    "After this session, you will be able to :\n",
    "- Recognize Python's rules for naming and using variables.\n",
    "- Recognize that variables can hold different data types which are dynamically typed (you don’t need to declare the type of a variable).\n",
    "- Use basic string functions.\n",
    "- Allow you to capture user input to a variable.\n",
    "\n",
    "## Prerequisites\n",
    "- Submodule 1- Tutorial 1: Python Overview\n",
    "  \n",
    "## Getting Started\n",
    "As will be true in every tutorial, please \"run\" the next code box to install needed packages for (in this case) the quizzes"
   ]
  },
  {
   "cell_type": "code",
   "execution_count": null,
   "id": "52d5b3cc-839a-4ebd-ab24-95f25d315158",
   "metadata": {},
   "outputs": [],
   "source": [
    "%pip install jupyterquiz\n",
    "from jupyterquiz import display_quiz"
   ]
  },
  {
   "cell_type": "markdown",
   "id": "8f50025c-4818-409d-bb33-7c50667e49f1",
   "metadata": {},
   "source": [
    "# Variables\n",
    "In Python, variables are used <u>to store data values</u> that can be <u>referenced and manipulated</u> in a program.\n",
    "\n",
    "A variable acts as a labeled container for a value, allowing you to reuse and manage data efficiently. For example, you can assign a number, string, or any other data type to a variable, and then use the variable's name to access or modify the value.\n",
    "\n",
    "Variables come in lots of different shapes and sizes, including\n",
    "- Numbers\n",
    "- Characters\n",
    "- Strings\n",
    "- Arrays\n",
    "- Lists\n",
    "- Objects and more"
   ]
  },
  {
   "cell_type": "markdown",
   "id": "0ea4af8c",
   "metadata": {},
   "source": [
    "## Python is case-sensitive"
   ]
  },
  {
   "cell_type": "markdown",
   "id": "e9865c48-06f9-441b-952c-d1ad4dee8b9b",
   "metadata": {},
   "source": [
    "This means capitalization matters in a name, whether it is a variable, module, method, class or function.<br>\n",
    "Not all languages are this way, so be mindful of your variables in particular, so you don't create a nasty \"bug\" or program error that is hard to detect.\n",
    "<br><br>\n",
    "For example, \"var\" and \"Var\" are not the same reference.\n",
    "<br><br>\n",
    "There are naming standards for different languages. Python has one called the <b>PEP 8 Style Guide</b>. You can find it here: https://peps.python.org/pep-0008/\n",
    "<br>\n",
    "We will try to stay consistent with the PEP guide in this course. But, when you start writing code, don't worry too much about the particular \"style\", rather try to be consistent throughout so your readers know what to expect.\n",
    "<br>\n",
    "<br>\n",
    "Try the following code:"
   ]
  },
  {
   "cell_type": "code",
   "execution_count": null,
   "id": "d7368b6d-9119-44cf-8a28-2572cf6ba6c2",
   "metadata": {},
   "outputs": [],
   "source": [
    "# The style guide says variables should be all lowercase with words separated by the underscore\n",
    "my_var = \"Python is case-sensitive\""
   ]
  },
  {
   "cell_type": "markdown",
   "id": "649fea66",
   "metadata": {},
   "source": [
    "Now see what happens when you \"miscase\" a variable."
   ]
  },
  {
   "cell_type": "code",
   "execution_count": null,
   "id": "acc12cb1-eaa6-41bf-a8c4-8c17a777e115",
   "metadata": {},
   "outputs": [],
   "source": [
    "print(my_Var)\t# throws an error, the case is different from the declaration"
   ]
  },
  {
   "cell_type": "markdown",
   "id": "a9e64fca",
   "metadata": {},
   "source": [
    "Note that the capital \"V\" instead of the lower case \"v\" causes Python to consider this as a different variable from the one you declared.\n",
    "<br>\n",
    "<br>\n",
    "It does a lookup in the variable table and can't find it, so it throws an error.\n",
    "<br> \n",
    "<br>\n",
    "Now this looks pretty easy to fix here, but imagine trying to scan a 15,000 line script to find a wonky variable.\n",
    "<br>\n",
    "<br>\n",
    "It gets worse in that Python may end up creating a new variable with that wonky name and use it later, mucking up your program in difficult to determine ways.\n",
    "<br>\n",
    "<br>\n",
    "That's why good software engineering practices are important and good to adopt early so you don't spend a lot of wasted time and effort trying to find that one careless mistake that is ruining months of coding frenzy.\n",
    "<br>\n",
    "<br>\n",
    "The correct code is in the next cell."
   ]
  },
  {
   "cell_type": "code",
   "execution_count": null,
   "id": "693dc4fa-6f9a-4327-81c8-ec8c43b487e7",
   "metadata": {},
   "outputs": [],
   "source": [
    "print(my_var)\t# This is OK, because we have defined a variable my_var, but not my_Var"
   ]
  },
  {
   "cell_type": "markdown",
   "id": "1bfb735c",
   "metadata": {},
   "source": [
    "## State"
   ]
  },
  {
   "cell_type": "markdown",
   "id": "e3be050b-7093-4e45-9803-6b53f843bb18",
   "metadata": {},
   "source": [
    "Let's take a closer look at the _concept_ of variables before exploring the types. \n",
    "Close your eyes for a moment and consider your \"state\". Are you hungry? Bored? Cold? Tired?\n",
    "<br>\n",
    "Suppose somebody asked you “How do you feel?” What would you say?\n",
    "“I’m tired. I want to go back to bed. Regardless, your answer (should) provide an indication of your <b>state</b>."
   ]
  },
  {
   "attachments": {
    "15ac042f-3186-41cd-917b-5047b43ded62.png": {
     "image/png": "[encoded data removed]"
    }
   },
   "cell_type": "markdown",
   "id": "f02e9b1c-e6a3-401c-b711-511696bec2a1",
   "metadata": {},
   "source": [
    "So why are we interested in state information? *State information* allows us to make informed, as opposed to arbitrary, decisions.\n",
    "<br>\n",
    "Stop when the light is red, go when it is green instead of stop/go whenever you feel like.\n",
    "<br>\n",
    "<b>I’m hungry</b> is a state that indicates I should go find something to eat.\n",
    "- However, other states may countermand that, such as I'm on a diet or busy.\n",
    "\n",
    "Virtually all programs rely on state information to make decisions.\n",
    "<br>\n",
    "<br>\n",
    "If you have ever looked at a flowchart, you might find this thing called a decision diamond: \n",
    "<br>\n",
    "![image.png](attachment:15ac042f-3186-41cd-917b-5047b43ded62.png)\n",
    "<br>\n",
    "At the center of the diamond is usually state information upon which you will base a yes/no decision/action.\n",
    "<br>\n",
    "<br>\n",
    "So, in order to actually have state information, we need to store it.\n",
    "There are various ways to store things, but for now we’ll focus on computer memory and VARIABLES\n"
   ]
  },
  {
   "cell_type": "markdown",
   "id": "6a916292-49da-4bf9-80a8-0b43399a07cc",
   "metadata": {},
   "source": [
    "## Numerical Variables"
   ]
  },
  {
   "cell_type": "markdown",
   "id": "ad7db94e-2f99-43b8-a979-0a89abc46dc3",
   "metadata": {},
   "source": [
    "Python supports several numeric data types:\n",
    "* Integers (int): Whole numbers, positive or negative, with unlimited precision.\n",
    "* Floating-Point Numbers (float): Numbers with decimal points.\n",
    "* Complex Numbers (complex): Numbers with a real and imaginary part, represented as a + bj.\n",
    "* Decimals (decimal.Decimal): For precise decimal arithmetic, often used in financial applications.\n",
    "* Booleans (bool): A subtype of integers, representing True (1) or False (0).\n",
    "<br>\n",
    "<br>\n",
    "Python can do math with integers which dynamically to create values that have decimals (see below) "
   ]
  },
  {
   "cell_type": "code",
   "execution_count": null,
   "id": "3a21efcf-5b05-41c8-9349-e5561d21a2fb",
   "metadata": {},
   "outputs": [],
   "source": [
    "#Use some simple math operators\n",
    "x=1         #an integer\n",
    "y=3         #another integer\n",
    "x/y         #a floting point number"
   ]
  },
  {
   "cell_type": "markdown",
   "id": "bda64c4c-f569-4586-a0b6-7a3f1526d1e4",
   "metadata": {},
   "source": [
    "Each variable type has certain rules and limited methods that can be done on such a variable. It is not logical to ask for the absolute value of a letter or a word, but an absolute value function is useful for numbers.\n",
    "<br>\n",
    "Number variables have many possible operations, including these common ones in the table below, including the Python codes. \n",
    "<br>"
   ]
  },
  {
   "cell_type": "markdown",
   "id": "fda482fc-f641-41f6-9753-3140ab6c921c",
   "metadata": {},
   "source": [
    "<br>\n",
    "<table>\n",
    "<thead>\n",
    "<tr><th>Arithmetic</th><th>Comparison</th><th>Mathematical Functions</th></tr>\n",
    "</thead>\n",
    "<tbody>\n",
    "<tr><td>Addition +</td><td>Equal to ==</td><td>Absolute value abs(x) </td></tr>\n",
    "<tr><td>Subtraction -</td><td>Not equal to !=</td><td>Round (x, n) </td></tr>\n",
    "<tr><td>Multiplication * </td><td>Greater than ></td><td>X raised to the power of y pow(x,y) </td></tr>\n",
    "<tr><td>Division /</td><td>Less than <</td><td>Maximum or min value max(x1,x2,...) min(x1, x2, ..)</td></tr>\n",
    "<tr><td>Remainder (modulus) %</td><td>Greater than or equal to >= </td><td>Sum in iterations sum(iterable)</td></tr>\n",
    "<tr><td>Exponential **</td><td>Less than or equal to <= </td><td>Trig functions: math.sin(x), math.cos(x)</td></tr>\n",
    "</tbody>\n",
    "</table>\n",
    "\n",
    "Use the next box to try out math functions."
   ]
  },
  {
   "cell_type": "code",
   "execution_count": null,
   "id": "f9bdaf47-218f-44ba-b27b-b04381de4ac3",
   "metadata": {},
   "outputs": [],
   "source": [
    "#This demonstrates using some of those tools. You should explore them all! \n",
    "#Typically, only one answer, to the \"last\" question, will appear when you \"run\" a python box, \n",
    "#so you need to remove the # to see different results\n",
    "\n",
    "round(100/7, 3) # the 2nd piece of information is the number of decimals to round to\n",
    "#x/y==3  #x & 7 were defined above. == asks \"does x/y=3?\"\n",
    "#5**2"
   ]
  },
  {
   "cell_type": "markdown",
   "id": "f9b5922b-085b-4524-b20c-3f46503aee62",
   "metadata": {},
   "source": [
    "Some common math functions must be imported from the math module:\n",
    "The next module we want to take a brief glimpse of is the math module.\n",
    "\n",
    "Python provides the math module for numeric functions such as log and square root (sqrt) and lots of others.\n",
    "\n",
    "You can find documentation for this and many more modules on the Python web site: https://docs.python.org/"
   ]
  },
  {
   "cell_type": "code",
   "execution_count": null,
   "id": "3ddc9558-22fd-40ce-8721-bd3df3da9e35",
   "metadata": {},
   "outputs": [],
   "source": [
    "import math\n",
    "y = 10\n",
    "print(math.sqrt(y))"
   ]
  },
  {
   "cell_type": "markdown",
   "id": "81a5aee5-1721-4de4-a31b-1420a0144c87",
   "metadata": {},
   "source": [
    "## Strings"
   ]
  },
  {
   "cell_type": "markdown",
   "id": "2bd8a687-d0b9-4221-9142-2a85d0aedd2d",
   "metadata": {},
   "source": [
    "<p style=\"background:blue;color:white;font-family:arial\"> <font size=\"4\">Strings are very common in  bioinformatics!</font> </p>"
   ]
  },
  {
   "cell_type": "markdown",
   "id": "b540182f-a4ae-489b-a603-ff33b12a12d8",
   "metadata": {},
   "source": [
    "Strings are a series of letters and/or numbers which you define within quotes.\n",
    "\n",
    "A short list of the kinds of string data in bioinformatics would include:\n",
    "<br>\n",
    "\n",
    "* DNA sequence: \"ATCGTACG\" stored in a variable named \"dna_sequence\"\n",
    "* RNA sequence: \"AUGCAUG\" stored in a variable called \"rna_transcript\n",
    "* Protein sequence: \"MKKLDFE\" stored in a variable named \"protein_sequen\"\n",
    "* Protein refseq accession code: \"XP_011519818.1\" stored in a variable named \"prot_ID\"\n",
    "* FASTA description: \"insulin-like growth factor 1 receptor isoform X6 Homo sapience\" stored in a variable \"Description\n",
    "e<br.\n"
   ]
  },
  {
   "cell_type": "markdown",
   "id": "d992ab16-bbc7-44b2-9005-5ddcd858b347",
   "metadata": {},
   "source": [
    "### Basic string functions\n",
    "There are a few common and useful manipulations for string variables, shown here for a variable called var1. You can see that some are methods taking an argument (such as len(x)) and some are methods for strings, as we saw before with x.upper().\n",
    "<br>\n",
    "<table>\n",
    "<thead><tr><th>Basic String Functions</th><th>Result</th></tr>\n",
    "</thead>\n",
    "<body>\n",
    "<tr><td> len(var1) </td><td> Returns the length of a string</td></tr>\n",
    "<tr><td> var1.upper() </td><td> Converts a string to uppercase</td></tr>\n",
    "<tr><td> var1.lower() </td><td> Converts a string to lowercase</td></tr>\n",
    "<tr><td> var1.find(sub) </td><td> Returns the index of the first occurrence of sub in a string or -1 if not found</td></tr>\n",
    "<tr><td> var1.split(sep) </td><td> Splits a string into a list of substrings based on a separator</td></tr>\n",
    "<tr><td> var1.strip()</td><td> Removes newline from a string, for example in a multiline FASTA</td></tr>\n",
    "<tr><td> + </td><td> Joins two strings together, aka concatenates them</td></tr>\n",
    "</body>\n",
    "</table>\n",
    "\n",
    "Try using a few of these tools on the provided strings or write your own."
   ]
  },
  {
   "cell_type": "code",
   "execution_count": null,
   "id": "d229ab52-c755-4a0b-9650-52a4b125afd1",
   "metadata": {},
   "outputs": [],
   "source": [
    "# Strings\n",
    "dna_sequence=\"atcgtacgc\"\n",
    "var1 = \"This is a string.\"\n",
    "var2 = 'This is also a string.'\n",
    "print(dna_sequence.upper())\n",
    "print(var1.split(\"s\"))"
   ]
  },
  {
   "cell_type": "code",
   "execution_count": null,
   "id": "fe63e128-4974-41ba-9b77-34ffccb35007",
   "metadata": {},
   "outputs": [],
   "source": [
    "var3 = \"\"\"This is a \n",
    "multiline string\n",
    "\"\"\"\n",
    "print(var3)"
   ]
  },
  {
   "cell_type": "markdown",
   "id": "e5fd70dc-369f-4a9b-9b96-9d22bc706717",
   "metadata": {},
   "source": [
    "It is quite common to fashion output in the form of a string:\n"
   ]
  },
  {
   "cell_type": "code",
   "execution_count": null,
   "id": "d652bd32-24aa-458b-b746-85a1eb4afa63",
   "metadata": {},
   "outputs": [],
   "source": [
    "print(var1 + \" But, not a very interesting one.\")"
   ]
  },
  {
   "cell_type": "markdown",
   "id": "9e4e7cfa-39df-433f-8e48-b287e1967649",
   "metadata": {},
   "source": [
    "This is a simple pair of examples. Later we will look at some formatting options.\n",
    "For now, let's turn our attention to indexing strings."
   ]
  },
  {
   "cell_type": "markdown",
   "id": "b8ba1b7c-3abe-4abb-a4cc-ffc21b9a6a07",
   "metadata": {},
   "source": [
    "# Indexing and Iterating"
   ]
  },
  {
   "cell_type": "markdown",
   "id": "d5e9b6aa-425d-4d96-a091-d655ab1a6c61",
   "metadata": {},
   "source": [
    "Indexing and iterating in Python both involve accessing elements of a data structure like lists or arrays, but they serve different purposes. **Indexing** retrieves specific elements directly using their position, enabling targeted access (e.g., `var[2]` gives the third element of var). **Iterating**, on the other hand, sequentially accesses *each* element, often using loops, making it ideal for processing multiple elements but less efficient for isolated lookups. While indexing is precise and instantaneous, iterating provides a convenient way to handle collections without explicitly managing indices. We will iterate in the next tutorial."
   ]
  },
  {
   "cell_type": "markdown",
   "id": "f493d5a4-4088-40d1-bc81-94e4840a502d",
   "metadata": {},
   "source": [
    "## Indexing Notation & Numbering\n",
    "\n",
    "It is likely that you would want to know WHERE in a long string (say, an RNA transcript) one could find the start codon. This position is the INDEX.\n",
    "<br>\n",
    "\n",
    "Python, like some other languages such as C++, is a \"zero index\" language. That means that the first position in the string is at position zero.\n",
    "Python comes with special notation for indexing. A bracket around the value of a position in the string OR you can use a colon to collect a range of characters. \n",
    "<br>\n",
    "- Note that Python uses a zero-based index. This means that the first position in a string has the value 0.\n",
    "- The END of a string can be referenced with negative numbers: [-3] for the third-to-last character. A way to look at negative indexes is to think of the list as being recycled.\n",
    "- To index more than one element, use the notation \\[ start : stop ] "
   ]
  },
  {
   "cell_type": "code",
   "execution_count": null,
   "id": "a060e2c0-ad5d-46c5-8c1d-f29f7859aee2",
   "metadata": {},
   "outputs": [],
   "source": [
    "print(dna_sequence)\n",
    "print(dna_sequence[-1])"
   ]
  },
  {
   "cell_type": "markdown",
   "id": "c21b985f-385c-474b-93f1-698cf36ab276",
   "metadata": {},
   "source": [
    "<div class=\"alert alert-block alert-info\"> <b>Tip:</b> Try this: Find the index (position) of \"T\" in var1 (which is \"This is a string.\") and print the last character in a string, which is defined as position -1. Can you try other tasks? the \"answers\" are in the 2nd code box</a> </div>\n"
   ]
  },
  {
   "cell_type": "code",
   "execution_count": null,
   "id": "4154ae0f-9ed4-47cc-9b0e-e562fdb2ce49",
   "metadata": {},
   "outputs": [],
   "source": [
    "#Try here"
   ]
  },
  {
   "cell_type": "code",
   "execution_count": null,
   "id": "0179b1c4-ea00-4027-9ee2-e6b124f11199",
   "metadata": {},
   "outputs": [],
   "source": [
    "# Print a specific character using its index\n",
    "x=var1.find(\"T\")\n",
    "print(x)\n",
    "dna_sequence.find(\"g\")  #how many indices will this return?"
   ]
  },
  {
   "cell_type": "code",
   "execution_count": null,
   "id": "3851d23c-4126-4da7-bc62-b3aa6d4befd1",
   "metadata": {},
   "outputs": [],
   "source": [
    "# print a chosen set of characters from a new variable that you create \n",
    "new_var=\n",
    "\n",
    "#print characters by index"
   ]
  },
  {
   "cell_type": "markdown",
   "id": "5631b9d8-21b3-4d1e-8815-cd4a67dba5df",
   "metadata": {},
   "source": [
    "Strings have some other special properties in Python.\n",
    "<br>\n",
    "<br>\n",
    "Strings are also a sequence object, so are iterable. But, they cannot have characters substituted. This means they are \"immutable\"."
   ]
  },
  {
   "cell_type": "code",
   "execution_count": null,
   "id": "15620c96-8953-42ef-a05e-f167b46e5d3d",
   "metadata": {},
   "outputs": [],
   "source": [
    "# Iterating over a string\n",
    "for i in var1:\n",
    "    print(i)"
   ]
  },
  {
   "cell_type": "code",
   "execution_count": null,
   "id": "63c41205-2815-4824-bbec-e473232013cc",
   "metadata": {},
   "outputs": [],
   "source": [
    "# Produces Error because you can't change an immutable object\n",
    "dna_sequence[2] = \"c\"\n",
    "print(dna_sequence)"
   ]
  },
  {
   "cell_type": "code",
   "execution_count": null,
   "id": "d95342f5",
   "metadata": {},
   "outputs": [],
   "source": [
    "# Although you could reassign the whole variable value\n",
    "dna_sequence = \"ATGCCGATT\"\n",
    "print(dna_sequence)"
   ]
  },
  {
   "cell_type": "markdown",
   "id": "fdb2d639-2890-4a40-b5c5-a01b7b451db8",
   "metadata": {},
   "source": [
    "### Test your knowledge\n",
    "Run the next code box (with the Jupyter Quiz) to test your understanding of string variables"
   ]
  },
  {
   "cell_type": "code",
   "execution_count": null,
   "id": "3eaef84a-90e1-4622-9bda-779b0a196ac7",
   "metadata": {},
   "outputs": [],
   "source": [
    "from jupyterquiz import display_quiz\n",
    "str_qz = \"PythonQuizQuestions/stringVarQuiz.json\"\n",
    "display_quiz(str_qz)"
   ]
  },
  {
   "cell_type": "markdown",
   "id": "661d6a1e-40d2-44e4-a486-82af5ac95d07",
   "metadata": {},
   "source": [
    "# Variable Type conversion"
   ]
  },
  {
   "cell_type": "markdown",
   "id": "bcbc177e",
   "metadata": {},
   "source": [
    "There are times when you may need to convert a variable from one type to another.\n",
    "<br>\n",
    "<br>\n",
    "For example, you might want to print a person's age like this: \"Sally is *age* years old\" where *age* happens to be a number.\n",
    "<br>\n",
    "<br>\n",
    "To do this, use the str() function to convert a number variable to a string or a string to a number with the int() function:\n",
    "<div class=\"alert alert-block alert-info\"> <b>Tip:</b> Try this: remove the str() around X in the \"Sarah is\" statement to see what happens if you treat an integer like a string WITHOUT converting it.</a> </div>"
   ]
  },
  {
   "cell_type": "code",
   "execution_count": null,
   "id": "3e832612-14a5-4d4e-a440-f91b5a4e39e9",
   "metadata": {},
   "outputs": [],
   "source": [
    "# Type conversion: numeric to string\n",
    "letters= \"ten\"\n",
    "x = 10\n",
    "y=3*x\n",
    "z=3*letters\n",
    "print(\"Sarah is \" + str(x) + \" years old.\") #Try using x without the str()-- it will not work since it's blending strings and numbers\n",
    "# this is the more modern way to mix text and numerical variables. (f'What to print {numerical variable} more text')\n",
    "print(f'Sarah is {x} years old')              \n",
    "print(y)\n",
    "print(z)"
   ]
  },
  {
   "cell_type": "markdown",
   "id": "28734d78-d637-4ac5-82e9-c878bf151f7c",
   "metadata": {},
   "source": [
    "# Working with Escape Characters"
   ]
  },
  {
   "cell_type": "markdown",
   "id": "baf63297",
   "metadata": {},
   "source": [
    "While we are on the subject of strings, occasionally you will run into special problems such as:\n",
    "- How to display characters which you can't see (like tabs and spaces)\n",
    "- How to display a quotation mark\n",
    "<br>\n",
    "\n",
    "For this, we use the escape character \"\\\" (backslash)."
   ]
  },
  {
   "cell_type": "markdown",
   "id": "151199d9-6ad6-47fb-8525-0839fa044031",
   "metadata": {},
   "source": [
    "<table>\n",
    "<thead>\n",
    "<tr><th>Escape Sequence</th><th>meaning</th></tr>\n",
    "</thead>\n",
    "<tbody>\n",
    "<tr><td>\\\\\\</td><td>backslash (\\\\)</td></tr>\n",
    "<tr><td>\\\\'</td><td>single quote</td></tr>\n",
    "<tr><td>\\\\\"</td><td>double quote</td></tr>\n",
    "<tr><td>\\\\n</td><td>ASCII linefeed (LF)</td></tr>\n",
    "<tr><td>\\\\t</td><td>ASCII horizontal tab (TAB)</td></tr>    \n",
    "</tbody>\n",
    "</table>\n",
    "<br>\n",
    "The official Python documentation for use of the escape character: [link](https://docs.python.org/3/reference/lexical_analysis.html#literals)\n",
    "<br>\n",
    "Try running the examples below — they will help you deal with the requirement in **Windows** to use backslashes (`\\`) when specifying subfolders."
   ]
  },
  {
   "cell_type": "code",
   "execution_count": null,
   "id": "ed8f1d10-1813-43ab-8c6b-193d1937cd4f",
   "metadata": {},
   "outputs": [],
   "source": [
    "# Windows Path Example\n",
    "print(\"C:\\Bioinformatics\\Datasets\")"
   ]
  },
  {
   "cell_type": "markdown",
   "id": "bd4ff4ba-8fae-4e2b-9173-bca4e8df603e",
   "metadata": {},
   "source": [
    "See the problem? The backslash is necessary for the Windows path, but it is also an escape character.\n",
    "- One way to solve this is proper use of the escape character:"
   ]
  },
  {
   "cell_type": "code",
   "execution_count": null,
   "id": "5a976875-51ff-4eb9-9981-3b6ef0641a43",
   "metadata": {},
   "outputs": [],
   "source": [
    "# A better way to input Windows paths\n",
    "print(\"C:\\\\Data\\\\project\")\n",
    "print(\"C:\\\\Bioinformatics\\\\Datasets\")"
   ]
  },
  {
   "cell_type": "markdown",
   "id": "c83f5a1b-8876-402b-a44b-ca4c1dc8a4df",
   "metadata": {},
   "source": [
    "Mentioned earlier, another way is using the \"r\" prefix, which stands for raw, like so:"
   ]
  },
  {
   "cell_type": "code",
   "execution_count": null,
   "id": "10782b45-51af-455c-963b-f903c0230460",
   "metadata": {},
   "outputs": [],
   "source": [
    "print(r\"C:\\Bioinformatics\\Datasets\")"
   ]
  },
  {
   "cell_type": "markdown",
   "id": "fcc3b4dc-07cf-424a-82d9-a9ad0d69625c",
   "metadata": {},
   "source": [
    "### Operators\n",
    "\n",
    "Operators allow us to perform operations on variables.\n",
    "<br>\n",
    "We can add, divide, concatenate, assign values and many more things.\n",
    "<br>\n",
    "<br>\n",
    "It’s important to understand that operators are \"polymorphic\". That is, they behave differently depending upon what it is they are operating on.\n",
    "<br>\n",
    "For example, the **+** operator adds numbers but concatenates strings."
   ]
  },
  {
   "cell_type": "markdown",
   "id": "b4ad1b40-44a9-452d-af16-29ffeec82fba",
   "metadata": {},
   "source": [
    "# Capturing User Input"
   ]
  },
  {
   "cell_type": "markdown",
   "id": "3356cbe2-a0fc-4b09-859f-eb32fea3e91c",
   "metadata": {},
   "source": [
    "On many occasions you will want to ask your user for input from the keyboard, which becomes the value for a variable\n",
    "<br>\n",
    "<br>\n",
    "We can prompt a user for them to input the value for a variable, then use it in the program, like this:"
   ]
  },
  {
   "cell_type": "code",
   "execution_count": null,
   "id": "dd6b814e-d4e6-4888-a62c-0f8b111f7405",
   "metadata": {},
   "outputs": [],
   "source": [
    "# User Input: Note the input comes back as a string.\n",
    "player1 = input(\"What is your name, player? \")\n",
    "print(\"Welcome, \", player1)\n",
    "\n",
    "# Square a Number. Again, even though we are asking for a number,\n",
    "# the input will still be a string so we will have to convert using what is called a \"cast\" (see below).\n",
    "# In this case, we are casting the string to a float (floating point number).\n",
    "num1 = input(\"Enter the number you would like me to square: \")\n",
    "num2 = float(num1)\n",
    "print(\"The result is \", num2 * num2)"
   ]
  },
  {
   "cell_type": "markdown",
   "id": "5c57a2c3-f842-498c-be18-e7b07faac9af",
   "metadata": {},
   "source": [
    "# Test Your Knowledge\n",
    "Now it’s your turn to apply what you have learned. \n",
    "\n",
    "A common unit of bioinformatics data is a FASTA DNA sequence. It looks like this:\n",
    "\n",
    "```\n",
    ">crab_anapl ALPHA CRYSTALLIN B CHAIN (ALPHA(B)-CRYSTALLIN).             \r\n",
    "MDITIHNPLIRRPLFSWLAPSRIFDQIFGEHLQESELLPASPSLSPFLM```R"
   ]
  },
  {
   "cell_type": "markdown",
   "id": "012aa05c-b112-4828-b8d2-e9234f56125e",
   "metadata": {},
   "source": [
    "The first line starts with a > then the name\n",
    "The second (and subsequent) line(s) have DNA, RNA, or protein sequences.R"
   ]
  },
  {
   "cell_type": "markdown",
   "id": "fef27864-af24-4375-a78b-d41570e72134",
   "metadata": {},
   "source": [
    "Write Python code to do the following:\n",
    "<br>\n",
    "<be>\n",
    "<ul> \n",
    "<li>Prompt for input \"FASTA sequence name. \"\n",
    "<li>Prompt for input \"What is the DNA sequence? (use ATGC or atgc) of at least 10 bases.\"\n",
    "<li>Output \"The DNA fragment is: > (since > starts all FASTA sequences) then string together the fragment name, \"\\n\" to get a return and the DNA sequence.\n",
    "<li>Print just the last letter of the FASTA code (or any position(s) you choose).\n",
    "</ul>\n",
    "\n",
    "The solution is at the end of this Jupyter notebook, after the wrap up."
   ]
  },
  {
   "cell_type": "code",
   "execution_count": null,
   "id": "cc6535d7-24d1-4632-9283-a780129601e4",
   "metadata": {},
   "outputs": [],
   "source": [
    "#Write your own code here"
   ]
  },
  {
   "cell_type": "markdown",
   "id": "666503d8-543f-4660-bea3-b3810a1990fc",
   "metadata": {},
   "source": [
    "### Test Your Knowledge\n",
    "\n",
    "Take the following quiz to check your coding knowledge."
   ]
  },
  {
   "cell_type": "code",
   "execution_count": null,
   "id": "e29d0794-8d35-47ba-82cc-cd3b2ecc611d",
   "metadata": {},
   "outputs": [],
   "source": [
    "from jupyterquiz import display_quiz\n",
    "lesson2qz = \"PythonQuizQuestions/fmquiz.json\"\n",
    "display_quiz(lesson2qz)"
   ]
  },
  {
   "cell_type": "markdown",
   "id": "dbe201c9",
   "metadata": {},
   "source": [
    "# Conclusion \n",
    "\n",
    "By now, you should have a basic grasp of some of the ways that variables can hold information and be used in Python scripts.\n",
    "<br>\n",
    "With that foundation, we will look at more advanced [data structures](./Submodule_1_Tutorial3_DataStructures.ipynb)."
   ]
  },
  {
   "cell_type": "markdown",
   "id": "f5d16ad7-9fcf-4776-bd89-b45b62d0a21f",
   "metadata": {},
   "source": [
    "## Clean up\n",
    "Remember to shut down your Jupyter Notebook instance when you are done for the day to avoid unnecessary charges. You can do this by stopping the notebook instance from the Cloud console. "
   ]
  },
  {
   "cell_type": "code",
   "execution_count": null,
   "id": "39e9c44f",
   "metadata": {},
   "outputs": [],
   "source": [
    "# Here is the solution for the above exercise:\n",
    "\n",
    "# Prompt for input \"FASTA name \"\n",
    "seq_name = input(\"FASTA sequence name: \")\n",
    "\n",
    "# Prompt for input “Your last name is: “\n",
    "DNA_seq = input(\"What is the DNA sequence?(use ATGC or atgc) of at least 10 bases \")\n",
    "\n",
    "# Output of the FASTA segment: “The FASTA sequence is: “ and string together your \n",
    "# fragment name and contents\n",
    "print(\"The FASTA sequence is: \\n>\" + seq_name + \"\\n\" + DNA_seq)\n",
    "\n",
    "#Extra Credit\n",
    "print(\"The last letter in the FASTA sequence is: \" + DNA_seq[-1])\n"
   ]
  }
 ],
 "metadata": {
  "kernelspec": {
   "display_name": "Python 3 (ipykernel)",
   "language": "python",
   "name": "python3"
  },
  "language_info": {
   "codemirror_mode": {
    "name": "ipython",
    "version": 3
   },
   "file_extension": ".py",
   "mimetype": "text/x-python",
   "name": "python",
   "nbconvert_exporter": "python",
   "pygments_lexer": "ipython3",
   "version": "3.12.9"
  }
 },
 "nbformat": 4,
 "nbformat_minor": 5
}
