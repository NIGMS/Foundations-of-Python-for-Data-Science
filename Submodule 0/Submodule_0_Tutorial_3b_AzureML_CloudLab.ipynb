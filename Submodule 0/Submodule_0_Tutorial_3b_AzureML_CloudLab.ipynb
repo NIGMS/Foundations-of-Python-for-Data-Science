{
 "cells": [
  {
   "cell_type": "markdown",
   "id": "f5e4cdce-9644-4d62-8181-e91e2e5bf8d4",
   "metadata": {},
   "source": [
    "# Submodule 0, Tutorial 3b: Using your Cloud Credentials on AzureML\n",
    "-----------------------------------------------------------"
   ]
  },
  {
   "cell_type": "markdown",
   "id": "3bf6db1e-62fc-4e4f-b090-2d0c4fb3efd3",
   "metadata": {},
   "source": [
    "## Overview\n",
    "This mini-tutorial is designed for those needing and using an NIH Cloud Lab assigned NIH Cloud Lab account on AzureML. NIH extramural researchers, including INBRE, can often obtain an account for cloud computing that will be managed by and paid for by the NIH.\n",
    "\n",
    "## Learning Objectives\n",
    "\n",
    "You should have signed up with or requested a CloudLab-paid account for Azure\n",
    "\n",
    "\n",
    "## Prerequisites\n",
    "\n",
    "You need only know your university affiliation and your email.\n"
   ]
  },
  {
   "cell_type": "markdown",
   "id": "ba80c35a-c7d4-4d17-a661-1e89c7e73aa1",
   "metadata": {},
   "source": [
    "# Step 1: Request an account\n",
    "\n",
    "Proceed to the registration form at the GitHub page for the [NIH cloud lab](https://github.com/STRIDES/NIHCloudLab/blob/main/SignUp/extramural_account_registration.md). Be sure to scroll down to see all the useful directions on that page.\n",
    "\n",
    "**Note:** They recommend using an incognito window (browser.) To make such a window on Google Chrome, click on the three dots in the upper right-hand corner of the Chrome window. A top option is \"New Incognito Window.\"\n",
    "\n",
    "You should be contacted with additional information after completing the registration form with one of their many options."
   ]
  },
  {
   "cell_type": "markdown",
   "id": "029c1d82-1eb6-4ea4-bf15-05f93efdf051",
   "metadata": {},
   "source": [
    "# Step 2: Using Azure\n",
    "\n",
    "You should be able to return to the [AzureML module](Submodule_0_Tutoral_3_AzureML.ipynb), starting at step 3, to make a workspace and use your <u>NIH subscription.</u> The latter is what is paying for your cloud *computing* so you must have a subsription to select. \n"
   ]
  },
  {
   "cell_type": "markdown",
   "id": "89670a62-9271-4a91-868b-769247f5be86",
   "metadata": {},
   "source": [
    "# Conclusion\n",
    "This mini-tutorial was designed to direct you to the NIH CloudLab information. You do not have to use CloudLab; you can use pay-as-you-go on Azure and other Cloud Computing platforms. Regardless of what tool you use, be sure to **always turn off the computer (\"compute instance\")** when you leave. Even tens-of-cents an hour can add up if you forget it's running."
   ]
  }
 ],
 "metadata": {
  "kernelspec": {
   "display_name": "Python 3 (ipykernel)",
   "language": "python",
   "name": "python3"
  },
  "language_info": {
   "codemirror_mode": {
    "name": "ipython",
    "version": 3
   },
   "file_extension": ".py",
   "mimetype": "text/x-python",
   "name": "python",
   "nbconvert_exporter": "python",
   "pygments_lexer": "ipython3",
   "version": "3.12.4"
  }
 },
 "nbformat": 4,
 "nbformat_minor": 5
}
