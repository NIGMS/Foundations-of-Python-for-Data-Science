{
 "cells": [
  {
   "attachments": {},
   "cell_type": "markdown",
   "metadata": {},
   "source": [
    "# Tutorial 1: How to download a Tutorial from the NIH Sandbox\n",
    "--------------------------------------------"
   ]
  },
  {
   "cell_type": "markdown",
   "metadata": {},
   "source": []
  },
  {
   "cell_type": "markdown",
   "metadata": {},
   "source": [
    "## Overview\n",
    "Congratulations! You have decided to make use of the fantastic NIH tutorials that are stored in the NIGMS Sandbox at the site called Github.\n",
    "\n",
    "To use these resources, you need to understand a little about \"where\" these files are and how to save them in a way that will let you use them to learn about the technique. \n",
    "\n",
    "The intent of this tutorial is to make sure you have clear instructions (with pictures) that will work for the most novice user."
   ]
  },
  {
   "cell_type": "markdown",
   "metadata": {},
   "source": [
    "## Learning Objectives\n",
    "+ Navigate the Github sandbox to find a tutorial\n",
    "+ Find & read the \"readme\" file\n",
    "+ Download a tutorial\n",
    "+ Have a preliminary understanding of Github"
   ]
  },
  {
   "cell_type": "markdown",
   "metadata": {},
   "source": [
    "## Prerequisites\n",
    "- Knowledge of file saving & retrieving\n",
    "- An internet connection"
   ]
  },
  {
   "cell_type": "markdown",
   "metadata": {},
   "source": [
    "## Get Started\n",
    "Make sure that you are connected to the internet\n",
    "\n",
    "-------------------------------------------------------------"
   ]
  },
  {
   "cell_type": "markdown",
   "metadata": {},
   "source": [
    "# Step 1: Get to the NIGMS \"Sandbox\" & overview"
   ]
  },
  {
   "cell_type": "markdown",
   "metadata": {},
   "source": [
    "## Background\n",
    "In technology and software development, a \"sandbox\" is a place to \"play,\" trying out new ideas or collaborating. \n",
    "\n",
    "The National Institute of General Medical Sciences (NIGMS) is one of the NIH Institutes. That institute sponsored the development of many short courses (modules) to help biomedical researchers learn some of the techniques that can take advantage of the powerful options of \"cloud computing.\"\n",
    "\n",
    "You are likely familiar with cloud data storage, for example with your files saved on OneDrive (Microsoft) or Google Drive (Google). Cloud *computing* takes that a step farther and carries out data processing and runs programs on computers that are located in some distant site. \n",
    "\n",
    "The advantage of \"cloud computing\" is that the computational speed and power is not limited by what you have in *your* desktop or laptop. Rather, cloud computers are very FAST computers with substantially more memory (to work on big biological data sets). Additionally, the providers of cloud computing can make more (or fewer) processors available to your job, depending on the need. "
   ]
  },
  {
   "attachments": {},
   "cell_type": "markdown",
   "metadata": {},
   "source": [
    "## What you see when you arrive at the \"Sandbox\"\n",
    "It is possible that you are reading this file having already navigated to the \"Sandbox.\" \n",
    "\n",
    "The [Sandbox](https://github.com/NIGMS/NIGMS-Sandbox) is housed at github.com. Github is a collaboration tool/website/repository that is being used by NIGMS as a great way to share materials.\n",
    "\n",
    "BUT, what you see when you get to github is NOT what a novice in cloud-computing-user might expect. It looks something like this picture below. It is certainly **overly complicated** for a novice because Github is not designed with novices in mind.  Thus, EVERY Github site (or \"repository\" of materials) looks basically the same. It shows a lot of needed tools and a list of the folders in the repository. \n",
    "\n",
    "**The key point:** scroll down ON THAT PAGE to see the nice description and information you want about the repository. It is information in the \"readme\" file that is displayed for you. It is just very unfortunate that unless you know to scroll past the folder structure, you start with a mysterious interface.\n",
    "![Github_splash.png](./images/Github_First_View.png)\n",
    "\n"
   ]
  },
  {
   "cell_type": "markdown",
   "metadata": {},
   "source": [
    "# Step 2: Choose a course (module) to use\n",
    "If you have scrolled down on the Sandbox readme page, you have encountered the list of available courses (\"modules\") that you might want to use to learn a technique. \n",
    "\n",
    "Or, perhaps you are going to use more of this module (Introduction to Github and Python for Bioinformatics). \n",
    "\n",
    "You should click on the link to that module from the list. It will take you to another Github Repository. Of course, the interfaces will also start with the file structure as all Github repositories look the same. These Modules typically contain a Readme.md file that explains the structure & contents of the overall tutorial module. Inside of each Module are folders (\"Submodules\") that contain the lessons in the form of Jupyter Notebooks (next lesson in this list)\n",
    "\n",
    "<div class=\"alert alert-block alert-warning\"> <b>Attention:</b> Please go to that module in another tab on your browser before following the next set of directions</a>. </div>\n"
   ]
  },
  {
   "attachments": {},
   "cell_type": "markdown",
   "metadata": {},
   "source": [
    "# Step 3: Two ways to make a copy of the Github Repository\n",
    "\n",
    "Unlike just reading a web page as you are doing now, the Sandbox tools are all constructed as special kinds of pages (\"Jupyter notebooks\") that combine text with interactive boxes where you will be able to write and use computer code to carry out bioinformatics functions.\n",
    "<br>\n",
    "So, in order to use the contents of any of the learning modules in the Sandbox, you need to copy them to a \"virtual machine\" (like moving to the hard drive of a computer running in GCP, Azure, or AWS).   Github is quite prepared for this, in fact, it is one key purpose of the NIGMS using Github as a place for you to collect the materials.\n",
    "<br>\n",
    "There isn't a normal download button that you can see in a repository. At Github, most of the materials are code that developers want to download. Thus, you will click on the green code button to get the #option# to download or to copy.\n",
    "<br>\n",
    "![<> CODE button](./images/Code_button.png)\n",
    "<br>\n",
    "\n",
    "There are two main ways to clone (that is, make a copy) of this material. The most efficient way to accomplish this is to clone the whole collection directly from cloud storage to cloud storage. For large files, this makes the most sense. \n",
    "<br>\n",
    "The more familiar brute-force way is to download a copy of the repository to your computer's hard drive, then upload it again to the cloud. \n",
    "<br>\n",
    "Both options are described below.\n"
   ]
  },
  {
   "cell_type": "markdown",
   "metadata": {},
   "source": [
    "## Elegant Version: Clone into a Virtual Machine\n",
    "\n",
    "This method requires that you already have a cloud computing instance (what a virtual computer is called) up and running. You can see how to get that started in [Microsoft Azure](Submodule_0_Tutorial_3_AzureML.ipynb )\n",
    "\n",
    "### Open a terminal\n",
    "In the Notebooks portion of the Workspace, you need to open up a command line terminal. \n",
    "<br>\n",
    "![where to find the terminal button](./images/Azure_terminal.png)\n",
    "\n",
    "After you are in the terminal view, you'll need to turn on the computer instance with the `play` button on the top menu. \n",
    "<br>\n",
    "![start button](./images/startCompute.png)\n",
    "\n",
    "That button could be found in somewhat different places, depending on how collapsed the terminal window is. For example:\n",
    "<br>\n",
    "![start button2](./images/StartComputeCollapsed.png)\n",
    "<br> \n",
    "It is the same `play` button. If you want to make the terminal bigger, click on the << button (yellow arrow).\n",
    "\n",
    "### Clone in the repository\n",
    "\n",
    "It is very easy to clone a public repository into the terminal with `git clone`. You need the web address for the Module:\n",
    "<br>\n",
    "![clone URL](./images/githubURL.png)\n",
    "<br>\n",
    "1. Click on the copy button next to the URL.\n",
    "2. Go to the Azure terminal\n",
    "3. type: git clone *then paste the url you copied*\n",
    "\n",
    "<br>\n",
    "The whole set of folders and proper file structure will instantly be in your notebook list.\n"
   ]
  },
  {
   "cell_type": "markdown",
   "metadata": {},
   "source": [
    "\n",
    "\n",
    "## Familiar, inelegant version: Downloading the contents of the repository then uploading\n",
    "\n",
    "There isn't a normal download button that you can see in a repository. At Github, most of the materials are code that developers want to download. Thus, you will click on the green code button to get the #option# to download or to copy.\n",
    "<br>\n",
    "![<> CODE button](./images/Code_button.png)\n",
    "\n",
    "<br>\n",
    "The menu you will see has the more elegant options, and also the button to download a zipped version:\n",
    "<br>\n",
    "\n",
    "![Github Download Code Menu](./images/Download_zip.png)\n",
    "\n",
    "# \"Unzipping\" your folder\n",
    "\n",
    "The folder of materials does not download in a ready-to-use format. It is compressed (\"zipped\") so it needs to be extracted| into its full form before you upload it to use as a tutorial.\n",
    "\n",
    "**To unzip a file on Windows:**\n",
    "\n",
    "1. Locate the zip file (it's probably in \"downloads\" but you can look at this button near the top right of Chrome, for example, to see where it downloaded)\n",
    "2. Once you find the zipped folder, right-click on the zip file\n",
    "3. Select \"Extract All\": From the context menu, which should look something like this on the menu bar:\n",
    "<br>\n",
    "\n",
    "![Unzip](./images/extractAll.png)\n",
    "\n",
    "<br>\n",
    "4. Choose the destination folder where you want to extract the folder.  (it is fine to extract them in the same folder the file is already)\n",
    "5. Click \"Extract\" to start the unzipping process. \n",
    "\n",
    "<br>\n",
    "\n",
    "**To unzip a file on a Mac:**\n",
    "\n",
    "<br>\n",
    "1. Double-click the zipped file\n",
    "2. The file will automatically decompress and a new folder will appear in the same location as the zipped file. \n",
    "<br>\n",
    "You should now be ready to upload those files to run the lessons in Azure. \n",
    "\n",
    "\n"
   ]
  },
  {
   "cell_type": "markdown",
   "metadata": {},
   "source": [
    "# Conclusion\n",
    "If you have followed these steps, you should now have a copy of the lessons module on your local computer or already cloned into Azure. \n",
    "\n",
    "To learn how to use these lessons in a cloud computer at Amazon (AWS), [Google Cloud Computing (GCP)](https://github.com/STRIDES/NIHCloudLabGCP/blob/main/docs/vertexai.md), or Microsoft's Azure ([Azure ML](./Module_0_Tutorial_3_AzureML.ipynb)) you can use one of the linked tutorials. \n",
    "\n",
    "Or, if you want to learn more about how to use [Jupyter Notebooks](./Submodule_0_Tutorial_2_JupyterNotebooks.ipynb)\n",
    "\n",
    "For the \"Intro to Github and Python for Bioinformatics\" module, we provide information for those using [Azure](./Submodule_0_Tutorial_2_AzureML.ipynb) and have tested to make sure that all the materials work as expected on Azure. "
   ]
  },
  {
   "cell_type": "markdown",
   "metadata": {},
   "source": [
    "## Clean up\n",
    "On most Jupyter notebooks in these modules you will see directions here to \"stop your compute instance\" (we'll explain later). But, since this is just a web page, you are done. \n",
    "\n",
    "Good work & we hope you enjoy learning these powerful techniques for bioinformatics!\n"
   ]
  }
 ],
 "metadata": {
  "kernelspec": {
   "display_name": "conda_python3",
   "language": "python",
   "name": "conda_python3"
  },
  "language_info": {
   "codemirror_mode": {
    "name": "ipython",
    "version": 3
   },
   "file_extension": ".py",
   "mimetype": "text/x-python",
   "name": "python",
   "nbconvert_exporter": "python",
   "pygments_lexer": "ipython3",
   "version": "3.10.16"
  }
 },
 "nbformat": 4,
 "nbformat_minor": 4
}
