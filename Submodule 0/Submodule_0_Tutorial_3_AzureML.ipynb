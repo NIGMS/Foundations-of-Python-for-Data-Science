{
 "cells": [
  {
   "attachments": {},
   "cell_type": "markdown",
   "metadata": {},
   "source": [
    "# Submodule 0 Tutorial 3: Notebooks in Azure ML\n",
    "------------------------------------------------------"
   ]
  },
  {
   "cell_type": "markdown",
   "metadata": {},
   "source": [
    "## Overview\n",
    "This tutorial is intended to get you started on Azure ML with a \"compute instance.\"\n",
    "\n",
    "The process is not (novice) user-friendly *the first time.* You will have to set up a few things (accounts, subscriptions, workspaces) but these will be your defaults after the first time. It will thus be really easy to go back to or to use AzureML for other cloud computing modules provided at the NIGMS Sandbox. \n",
    "\n",
    "The steps below for setup might take 10-15min.  "
   ]
  },
  {
   "cell_type": "markdown",
   "metadata": {},
   "source": [
    "## Learning Objectives\n",
    "After this tutorial, you should be able to:\n",
    "1. Understand what Azure is\n",
    "2. Create an Azure account\n",
    "3. Create a subscription\n",
    "4. Create a workspace\n",
    "5. Import Jupyter notebooks to Azure ML\n",
    "6. Start & Stop a compute instance"
   ]
  },
  {
   "cell_type": "markdown",
   "metadata": {},
   "source": [
    "## Prerequisites\n",
    "\n",
    "You will need to know your Microsoft account login information, if you already have one\n"
   ]
  },
  {
   "cell_type": "markdown",
   "metadata": {},
   "source": [
    "# Background: What are Azure and AzureML?\n",
    "\n",
    "Microsoft Azure is a platform that lets you use remote computers (\"the cloud\") to run programs and store data without needing the physical hardware. Azure can provice a virtual environment where you can run Jupyter Notebooks, Python or R programs, or other tools.\n",
    "\n",
    "Azure \"Machine Learning\" (ml.azure.com) is a service within Azure that makes it easy to set up and manage Jupyter notebooks in the cloud. It’s useful if you need to run data analysis or machine learning experiments on more powerful machines than your local computer. You can choose different numbers of virtual \"cores\" (the numbers of parallel computers processing your program) depending on your needs. \n",
    "\n",
    "The remote computers are secure and cost a nominal amount to use. \n",
    "<ul>\n",
    "    <li> If you have an NIH Cloud Account, the costs are covered when you use your Cloud credentials and subscription. (See tutorial 3b to learn how) and skip to Step 4</li>\n",
    "    <li> Otherwise, you will have to provide payment information for your work </li>\n",
    "    <li> After that, you will need to create a workspace to be able to run the NIGMS tutorials now and, hopefully, your own data analysis in the future. At first, this seems overly complex since you only need one place to work. Remember that this is a tool for programmers and for companies who may have lots of projects running.</li>\n",
    "</ul>\n"
   ]
  },
  {
   "attachments": {},
   "cell_type": "markdown",
   "metadata": {},
   "source": [
    "# Step 1: Create a Microsoft Azure account\n",
    "\n",
    "You need to make an [Azure account](https://azure.microsoft.com/en-us/pricing/purchase-options/azure-account/).\n",
    "\n",
    "The tutorials offered at the NIGMS Sandbox are all short enough (computing time, your time) that you should be able to use only the free tier of an Azure account.\n",
    "\n",
    "![free_azure.png](./images/free_azure.png)\n",
    "\n",
    "After selecting the free account button, Microsoft will take you to your login (if you already use a Microsoft account). If you do not have an account with them, you can make one (or sign in at this menu)\n",
    "\n",
    "![azure_signin.png](./images/azure_signin.png)\n",
    "\n"
   ]
  },
  {
   "attachments": {},
   "cell_type": "markdown",
   "metadata": {},
   "source": [
    "# Step 2: Set up your subscription, if not provided by your University or the NIH\n",
    "You need a subscription to use Azure computing (required for running Python or R code). If not provided for you through your organization or the NIH, this is probably the most complicated step. \n",
    "\n",
    "The process assumes that you are creating an account for a long-term relationship with a substantial budget. Generally, you can accept the default information.\n",
    "\n",
    "Cost Details:\n",
    "- Azure will provide the first $200 worth of charges, which is an enormous amount of computing if you are just learning and running notebooks\n",
    "- The cost is low (~ 15cents/hour for the smallest virtual computer)\n",
    "- You will need a credit card, so they could charge you for use of computingafter the trial period has expired.\n",
    "\n",
    "### To create the subscription\n",
    "To create an Azure Machine Learning (AzureML) subscription where you can run the Jupyter Notebook tutorials, you need to first create a regular Azure subscription if you don't already have one. \n",
    "\n",
    "1. Select the subscription icon\n",
    "\n",
    "![azure_services.png](./images/azure_services.png)\n",
    "\n",
    "2. In the new page, select add (to create a new subscription)\n",
    "\n",
    "![add_subscription.png](./images/add_subscription.png)\n",
    "\n",
    "3. Choose Your First Subscription Type\n",
    "You will likely be offered one of the following options (see table). The student account, if applicable, is ideal because the $100 credit does not have a time limit. \n",
    "\n",
    "|Subscrption Type    | Description | Recommended for |\n",
    "|:---------------|:----------------------|:------------------------|\n",
    "|Free Trial|200 credit for 30 days |First-time users & experimentation |\n",
    "|Pay-As-You-Go |Pay only for what you use, no upfront cost |Faculty or staff|\n",
    "|**Student (Azure for Students)**| **Free $100 credit (no credit card needed) +free services**|**Verified students (with .edu email)**|\n",
    "|NIH Subscription|For CloudLab|See below|\n",
    "\n",
    "4. Provide a credit card for billing that subscription, if applicable\n",
    "\n",
    "-------------------------------------------------------------------------------------"
   ]
  },
  {
   "cell_type": "markdown",
   "metadata": {},
   "source": [
    "## Step 2b: If you have an NIH-provided subscription\n",
    "\n",
    "It is hard to predict exactly what might happen when YOU log in. In order to switch to the NIH-cloudlab subscription, follow the following steps.\n",
    "\n",
    "1. In the upper right corner of the Azure Machine Learning Studio page is a button with your initials:\n",
    "\n",
    "![where2switch_subscription.png](./images/where2switch_subscription.png)\n",
    "\n",
    "2. The menu that will appear should give you the option to switch the account to an NIH CloudLab account:\n",
    "\n",
    "![switchSubscriptNIH.png](./images/switchSubscriptNIH.png)\n",
    "\n",
    "You will have to login again."
   ]
  },
  {
   "attachments": {},
   "cell_type": "markdown",
   "metadata": {},
   "source": [
    "# Step 3: Create a workspace\n",
    "\n",
    "AzureML requires that you do all of your cloud computing in a \"workspace. They imagine that you might have several distinct projects. You *can* run all of your NIH tutorials in a single workspace.\n",
    "\n",
    "To create your workspace, select this button from the home screen of a different part of Azure: [Azure ML](https://ml.azure.com/)\n",
    "\n",
    "![create_workspace_button.png](./images/create_workspace_button.png)\n",
    "\n",
    "It will open another menu where you need to provide an official name that is unique within your group (i.e., Tutorials). You do not have to make a \"friendly name\".\n",
    "\n",
    "The pull-down menu should have your subscription option.\n",
    "![create_new_workspace.png](./images/create_new_workspace.png)\n",
    "\n",
    "Your [Azure ML](https://ml.azure.com/) (at ml.azure.com) will likely open directly to this when you return OR it will be the top option under the left menu option of \"Workspaces.\"\n",
    "\n"
   ]
  },
  {
   "cell_type": "markdown",
   "metadata": {},
   "source": [
    "# Step 4: Loading the tutorial into in AzureML"
   ]
  },
  {
   "attachments": {},
   "cell_type": "markdown",
   "metadata": {},
   "source": [
    "### Notebooks\n",
    "Azure uses their \"machine learning studio\" to view jupyter notebooks. \n",
    "\n",
    "1. Go to [ml.azure.com](http://ml.azure.com)\n",
    "2. Select the notebook option (** if your system opens up with workspaces, click on a workspace & it will take you to this menu list)\n",
    "\n",
    "![notebooks.png](./images/notebooks.png)\n",
    "\n",
    "3. To add the tutorial folders/files, you should upload with this button (OR you can clone a repository with the \"elegant\" directions in [Github download tutorial 1](Submodule_0_Tutorial_1_GithubDownload.ipynb)\n",
    "\n",
    "![upload.png](./images/upload.png)\n",
    "\n",
    "With the + button, you can upload the zipped modules that you have downloaded from Github. The entire file structure will be reproduced in Azure notebooks when you upload the whole unzipped folder. \n",
    "\n",
    "![upload_folder.png](./images/upload_folder.png)\n",
    "\n",
    "<div class=\"alert alert-block alert-warning\"> <b>Attention:</b> The Sandbox tutorials assume that you will have the folders that they provide. Hyperlinks usually refer to the folder, not to a web address. Please upload the whole tutorial folder</a>. </div>"
   ]
  },
  {
   "cell_type": "markdown",
   "metadata": {},
   "source": [
    "## Step 4: Open a Jupyter notebook\n",
    "\n",
    "In Azure, after you've loaded in some notebooks, you need to open the folder, then double click on a notebook so it will open. IN the image below, the arrow shows where you can find the list of notebooks. Circled is the button to expand the notebook & shrink the file structure. \n",
    "\n",
    "![opening_notebook.png](./images/opening_notebook.png)\n",
    "\n",
    "NOTE: You cannot **run** any code boxes in the Jupyter notebook yet! If you click on the \"play\" arrows nothing will happen until you start a compute instance (see next box) \n"
   ]
  },
  {
   "cell_type": "markdown",
   "metadata": {},
   "source": [
    "# Step 5: Start & Stop compute instances\n",
    "While you can read a Jupyter notebook in AzureML, or even in github, you cannot run any of the Python code without \"computing.\" This takes additional resources so Azure makes you <u>initiate a \"compute instance.\"</u> (Some places on the NIGMS sandbox say \"spin up a compute instance\" but it really all just means \"start up\" or \"turn on\")\n",
    "\n",
    "This is a technical name for starting cloud workstation-- basically a computer operating through the internet.\n",
    "\n",
    "This is the thing for which Azure will charge you, so you start it and stop it as needed.\n",
    "\n",
    "For NIGMS Sandbox Notebooks, there are two main types of \"Kernels\": Python or R usually with a number for the version. \n",
    "<br>\n",
    "![List_of_kernels.png](./images/List_of_kernels.png)\n"
   ]
  },
  {
   "attachments": {},
   "cell_type": "markdown",
   "metadata": {},
   "source": [
    "## To START the compute instance\n",
    "It is simple to start the compute instance. Above the notebook on the toolbar, there is a \"play\" button (right pointing triangle).\n",
    "\n",
    "![startCompute.png](./images/startCompute.png)\n",
    "\n",
    "\n",
    "When you click on that, it will take 1-2 minutes for the cloud workstation to start up. During that time, you *can* run code boxes and the system will queue those boxes until the instance begins.\n",
    "\n",
    "<br>\n",
    "TYPICALLY, the correct type of kernel will start up automatically with the next step. If it's Python, you should see the following banner in the upper right:\n",
    "<br>\n",
    "\n",
    "![type_of_kernel.png](./images/type_of_kernel.png)"
   ]
  },
  {
   "attachments": {},
   "cell_type": "markdown",
   "metadata": {},
   "source": [
    "## To STOP the compute instance\n",
    "When you have finished with the jupyter notebook, you should **stop** the compute instance because you are being charged for the whole time it is running, whether or not you are actively using the tool. \n",
    "\n",
    "To stop this, use the stop button that is in the same spot as the start (\"play\") arrow. It is a square in a circle on the toolbar.\n",
    "\n",
    "![stopCompute](./images/stopCompute.png)\n",
    "\n",
    "Sometimes a compute will start automatically, so it's important to check to make sure it is not \"playing\" when you don't want it to be.\n",
    "\n",
    "*Azure can be configured to stop the compute automatically after some time, but be sure to STOP at the end of your work time to avoid being charged per hour* "
   ]
  },
  {
   "cell_type": "markdown",
   "metadata": {
    "jp-MarkdownHeadingCollapsed": true
   },
   "source": [
    "## Conclusion\n",
    "After this tutorial, you should have all you need to run the tutorials in AzureML.\n",
    "\n",
    "You can now:\n",
    "+ learn how to [leverage Github for FAIR data practices](./Submodule_0_Tutorial_4_Github4You.md) in your research lab\n",
    "+ Return to the folder list and proceed to Submodule 1\n"
   ]
  },
  {
   "cell_type": "markdown",
   "metadata": {},
   "source": [
    "## Clean up\n",
    "<div class=\"alert alert-block alert-warning\"> <b>Attention:</b> To avoid unnecessary charges, please STOP your compute instance if you started one</a>. </div>\n",
    "(you did not NEED a compute instance to run anything on this page)"
   ]
  }
 ],
 "metadata": {
  "kernelspec": {
   "display_name": "Python 3 (ipykernel)",
   "language": "python",
   "name": "python3"
  },
  "language_info": {
   "codemirror_mode": {
    "name": "ipython",
    "version": 3
   },
   "file_extension": ".py",
   "mimetype": "text/x-python",
   "name": "python",
   "nbconvert_exporter": "python",
   "pygments_lexer": "ipython3",
   "version": "3.12.4"
  }
 },
 "nbformat": 4,
 "nbformat_minor": 4
}
