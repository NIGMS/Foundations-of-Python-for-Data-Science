{
 "cells": [
  {
   "cell_type": "markdown",
   "id": "81a299a1",
   "metadata": {},
   "source": [
    "# Submodule 3 Tutorial 1: Object-Oriented Programming in Python"
   ]
  },
  {
   "cell_type": "markdown",
   "id": "8a1fdbdc-c91d-4937-9eb4-cc0639a8eba3",
   "metadata": {},
   "source": [
    "## Overview\n",
    "Objects in Python (and in Object-Oriented Programming) allow for modular, efficient, and scalable code by organizing data and functions into reusable units. This is especially useful in bioinformatics, where handling large datasets and complex analyses efficiently is critical.\n",
    "\n",
    "## Learning Outcomes\n",
    "* After this tutorial, you should be able to:*\n",
    "    - Define class, object, methods, attributes, inheritance\n",
    "    - Write or edit these elements of a Python class "
   ]
  },
  {
   "cell_type": "markdown",
   "id": "1dbb850c-b857-4949-bff8-53484394b127",
   "metadata": {},
   "source": [
    "## Prerequisites\n",
    "\n",
    "- Submodule 1 of Intro to Python (basic python)\n",
    "\n",
    "## Getting Started\n",
    "\n",
    "Run the next code box to install needed libraries"
   ]
  },
  {
   "cell_type": "code",
   "execution_count": null,
   "id": "b9eaee57-25b3-4b95-b8bb-2c550e818f4f",
   "metadata": {},
   "outputs": [],
   "source": [
    "%pip install jupyterquiz\n",
    "from jupyterquiz import display_quiz\n",
    "from datetime import date"
   ]
  },
  {
   "cell_type": "markdown",
   "id": "c064375c",
   "metadata": {},
   "source": [
    "## Introduction\n",
    "\n",
    "Let’s talk about **objects**​, the software kind. This relates to biology rather nicely.\n",
    "<br>\n",
    "Long-time specialists in the art of writing software consider <u>the adoption of object-oriented techniques to be one of the most important developments in software engineering </u> (maybe THE most important development in past 50 years)​.\n",
    "\n",
    "That's because the use of software **objects** allows for much more sophisticated software to exist, for a number of reasons:\n",
    "  - Objects hide complexity. Someone can create very complex code and hide the implementation behind a simple interface to that code.\n",
    "  - Objects allow for more reusable code. A third party can create an object and then pass it off to multiple consumers. Developers no longer have to \"reinvent\" every software routine, such as displaying a type of plot on a chart or importing data from a database. They can just incorporate the necessary functionality from a software vendor or open-source repository and focus on their specific problem.\n",
    "  - Objects from outside sources do not need to be debugged and tested (in theory) like homegrown software, leading to shorter development times, and fewer bugs.\n",
    "\n",
    "You have seen this functionality when you import whole libraries of methods (import Bio, import matplotlib) or specific tools. By learning here how to construct some of these tools, even if you never make your own python tools, you can READ the scripts others make to see how they might need to be adapted or used."
   ]
  },
  {
   "cell_type": "markdown",
   "id": "faf9f1d3-964b-4a02-a2ee-cc46b2be8539",
   "metadata": {},
   "source": [
    "## The \"genetics\" of OOP\n",
    "\n",
    "To introduce you to the fundamental types of objects in Python, let's relate it to genetics. After all this, we will dissect each tool.\n",
    "\n",
    "*Summary of the Analogy*\n",
    "\n",
    "| OOP Concept    | Genetics Equivalent                |\n",
    "|:--------------:|:-----------------------------------| \n",
    "|Class           | Gene Family                        |\n",
    "|Object          | Specific Gene                      |\n",
    "|Attributes      | DNA Sequence                       |\n",
    "|Methods         | Gene Function (e.g., transcription)|\n",
    "|Inheritance     | Gene Duplication & Mutation        |\n",
    "\n",
    "This analogy shows how OOP helps organize bioinformatics data efficiently, just like genetics organizes biological information. "
   ]
  },
  {
   "cell_type": "markdown",
   "id": "ff5398d0-8807-481c-a4b8-7b7024ed2385",
   "metadata": {},
   "source": [
    "### A Class is Like a Gene Family\n",
    "\n",
    "In genetics, a gene family is a group of related genes that share a common function (e.g., hemoglobin genes). \n",
    "<br>\n",
    "Similarly, in OOP, a class is a blueprint for creating multiple related objects with shared properties and behaviors."
   ]
  },
  {
   "cell_type": "code",
   "execution_count": null,
   "id": "b931e081-92d5-4233-a93c-f2eb033bb7a3",
   "metadata": {},
   "outputs": [],
   "source": [
    "class Gene:\n",
    "    def __init__(self, name, sequence):\n",
    "        self.name = name\n",
    "        self.sequence = sequence"
   ]
  },
  {
   "cell_type": "markdown",
   "id": "21dcaffa-571f-410d-ae3c-e5011629803b",
   "metadata": {},
   "source": [
    "<u>Analogy:</u> The Gene class is like the \"hemoglobin gene family,\" providing a general structure for individual genes."
   ]
  },
  {
   "cell_type": "markdown",
   "id": "15fef088-ba82-4198-bd24-27456f58edd0",
   "metadata": {},
   "source": [
    "### Object\n",
    "\n",
    "An **Object** is like a specific gene.\n",
    "<br>\n",
    "Each object created from a class is like an individual gene, with its own sequence but following the same general structure.\n",
    "\n",
    "To make an object with Gene characteristics, we use it's Class (\"Gene\") as you might have done previously specifying a string  jersey_number= str(\"12\"). \n",
    "<br>\n",
    "We will delve deeper a little later, but for now notice that, in the definition of a gene above, you see that it includes name & sequence in the def __init__ block."
   ]
  },
  {
   "cell_type": "code",
   "execution_count": null,
   "id": "6250071e-03fc-4f5a-9d12-609590dc56b4",
   "metadata": {},
   "outputs": [],
   "source": [
    "gene1 = Gene(\"HBB\", \"ATGGTG...TAA\")\n",
    "gene2 = Gene(\"HBA1\", \"ATGGTG...TAG\")"
   ]
  },
  {
   "cell_type": "markdown",
   "id": "3915107d-db39-4d5d-b6f3-d17d7b5645b2",
   "metadata": {},
   "source": [
    "<u>Analogy:</u> gene1 (HBB) and gene2 (HBA1) are like specific genes within the hemoglobin family—same blueprint but unique sequences."
   ]
  },
  {
   "cell_type": "markdown",
   "id": "ce057c94-67ae-4861-a457-7ff20314bc60",
   "metadata": {},
   "source": [
    "### Methods are Like Gene Functions\n",
    "\n",
    "Genes produce proteins with specific functions. \n",
    "<br>\n",
    "In OOP, **methods** (functions inside of a class) define how objects *behave.* \n",
    "\n",
    "In the following code, the method inside of the Gene class is the transcribe method: def transcribe(self)\n",
    "\n",
    "<U>Analogy:</u> Just like the HBB gene codes for beta-globin, the transcribe() method defines how the Gene object converts DNA to mRNA. "
   ]
  },
  {
   "cell_type": "code",
   "execution_count": null,
   "id": "a4a8bb76-dd5f-47a8-825f-189c44a75f9f",
   "metadata": {},
   "outputs": [],
   "source": [
    "class Gene:\n",
    "    def __init__(self, name, sequence):\n",
    "        self.name = name\n",
    "        self.sequence = sequence.upper()\n",
    "    \n",
    "    def transcribe(self):\n",
    "        \"\"\"Simulates transcription by converting DNA to mRNA.\"\"\"\n",
    "        return self.sequence.replace(\"T\", \"U\")  # mRNA uses Uracil instead of Thymine\n",
    "\n",
    "gene1 = Gene(\"HBB\", \"ATGGTG...TAA\")\n",
    "\n",
    "print(gene1.name, \"would be transcribed to:\", gene1.transcribe())\n"
   ]
  },
  {
   "cell_type": "markdown",
   "id": "87f90c0a-a12c-4dab-aa2c-a81e2b6ad784",
   "metadata": {},
   "source": [
    "### Inheritance is Like Gene Duplication & Mutation\n",
    "\n",
    "In genetics, gene duplication and mutation lead to new genes with modified functions. \n",
    "<br>\n",
    "In OOP, inheritance allows a new class to inherit properties from an existing class but modify or extend its behavior."
   ]
  },
  {
   "cell_type": "code",
   "execution_count": null,
   "id": "98f03fa7-1039-4c5f-aaa6-cef05af2b20d",
   "metadata": {},
   "outputs": [],
   "source": [
    "class ProteinCodingGene(Gene):  #notice that the declaration of the gene class did not include anything in parentheses.\n",
    "    def translate(self):\n",
    "        \"\"\"Simulates translation into a protein (simplified).\"\"\"\n",
    "        return \"Protein sequence based on \" + self.sequence   # Placeholder for actual translation logic that is not present\n",
    "\n",
    "gene2 = ProteinCodingGene(\"HBA1\", \"ATGGTG...TAG\")\n",
    "print(gene2.translate())  "
   ]
  },
  {
   "cell_type": "markdown",
   "id": "bcb966dc-7fb0-412c-a757-dd905a91096e",
   "metadata": {},
   "source": [
    "<u>Analogy:</u> ProteinCodingGene inherits properties from Gene (shown by including (Gene) in this class definition.\n",
    "<br>\n",
    "That is analogous to how HBA1 evolved from ancestral hemoglobin genes.\n",
    "\n",
    "The translate() method adds a new function, just like gene mutations can lead to new functions. Since ProteinCodingGene inherited EVERYTHING already in the Gene class, there is no need for the def __init__ or other things."
   ]
  },
  {
   "cell_type": "markdown",
   "id": "2c0431a4",
   "metadata": {},
   "source": [
    "### Test your Knowledge\n",
    "\n",
    "Please do a quick check of the vocabulary."
   ]
  },
  {
   "cell_type": "code",
   "execution_count": null,
   "id": "52e4226f-5773-4e03-989a-3e1daa94e94a",
   "metadata": {},
   "outputs": [],
   "source": [
    "from jupyterquiz import display_quiz\n",
    "vocab=\"PythonQuizQuestions/oop_vocab1.json\"\n",
    "display_quiz(vocab)"
   ]
  },
  {
   "cell_type": "markdown",
   "id": "4dc69382-963c-4c1f-b55f-5c741989bed2",
   "metadata": {},
   "source": [
    "\n",
    "<div class=\"alert alert-block alert-info\"> After the overview, now we delve deeper into the individual pieces.</a> </div>"
   ]
  },
  {
   "cell_type": "markdown",
   "id": "9a6ecdea",
   "metadata": {},
   "source": [
    "## The Object\n",
    "\n",
    "An “object” is an “instantiation” (or creation) of a variable based upon a class. We can then use the variable/object in our code.​\n",
    "\n",
    "Python has many default \"constructors\" that are used to make variables of standard classes (e.g., integers, strings) or the constructors can be written that have more complex properties, such as the Sequence type of variable from the Bio library (Submodule 1).\n",
    "\n",
    "Here is a set of information that might be part of the metadata for a patient. You will recognize that many of these are Strings while the last 2 are of type \"date\"\n",
    "\n",
    "|Variable\t       |Some Values               |\n",
    "|:----------------:|:-------------------------|\n",
    "|patient_id\t       |\"P123456\"                 |\n",
    "|name\t           |\"John Doe\"                |\n",
    "|age\t           |45                        |\n",
    "|Sex\t           |\"Male\", \"Female\", \"Other\" |\n",
    "|ethnicity\t\t   |\"Hispanic\", \"Caucasian\"   |\n",
    "|date_of_birth\t   |\"1979-06-15\"              |\n",
    "|date_of_diagnosis |\"2011-03-04\"              |\n",
    "\n",
    "One option for holding this kind of data would be a dictionary or, if we have lots of such data, a NumPy array. \n",
    "We will see that we can construct a particular data class, Patient, that would define all those attributes. \n",
    "\n",
    "Unlike a simple dictionary or an array, though, using a class definition instead means that we could also provide rules check to ensure that the patient's age (for example) was a positive integer between 0 and 120, and that the dates were in the correct format. \n",
    "\n",
    "It might look like this:\n",
    "\n",
    "**Patient1=Patient(\"P123456\", \"John Doe\",45,\"Male\", \"Hispanic\",\"1979-06-15\",\"2011-03-04\")**\n",
    "\n",
    "Let's look at how to make a new & useful Class. "
   ]
  },
  {
   "cell_type": "markdown",
   "id": "167be1df",
   "metadata": {},
   "source": [
    "## The Class\n",
    "\n",
    "A “class” is a design document (in software) we use to create objects. It defines methods, properties, permissions, behaviors and other object-related attributes.\n",
    "\n",
    "A class in Python is like a blueprint for creating objects. It defines a structure by bundling data (attributes) and functions (methods) that work together. Think of it as a recipe that describes what an object is and how it behaves.\n",
    "\n",
    "Earlier, we said a class was *like* a gene or a protein coding gene-- it has it's own attributes (like length) and functions (like transcription or an ORF). \n",
    "\n",
    "To create a class in Python, use the *class* keyword followed by the class name and a colon. If the class has inherited from another class, that class will be in parentheses before the colon.\n",
    "\n",
    "Then, one defines the class' methods and attributes within an indented block.\n",
    "\n",
    "But, let's start with the simplest class definitions."
   ]
  },
  {
   "cell_type": "code",
   "execution_count": null,
   "id": "226f9f54-eac2-4ace-8bd5-5305a2f0d1bb",
   "metadata": {},
   "outputs": [],
   "source": [
    "class Mutation:\n",
    "    \"\"\"A class to represent a genetic mutation.\"\"\"\n",
    "\n",
    "class PhylogeneticTree: \"\"\"Represents evolutionary relationships between species.\"\"\""
   ]
  },
  {
   "cell_type": "markdown",
   "id": "fb106e85-a18d-4a56-8047-405c83c13896",
   "metadata": {},
   "source": [
    "If you \"run\" that box, nothing obvious will happen. The classes have merely been defined.\n",
    "\n",
    "To each of these, we need to initialize an object.\n",
    "\n",
    "def __ init __ (self, x,y,z): \n",
    "<br>\n",
    "the __ are two underlines with no space before & after init\n",
    "\n",
    "**self** is the value you'll give the variable, and x, y & z represent the other values that will be part of the complex variable.\n",
    "\n",
    "for Patient, we'd have\n",
    "<br>\n",
    "def __init__(self, patient_id, name, age, sex, ethnicity, DOB, date_of_diagnosis)\n",
    "\n",
    "Let's work with a mutation class\n"
   ]
  },
  {
   "cell_type": "code",
   "execution_count": null,
   "id": "6f5c860c-b792-4504-a6be-28baf05ae25a",
   "metadata": {},
   "outputs": [],
   "source": [
    "class Mutation:  #A class to represent a genetic mutation.\n",
    "    def __init__(self, gene_name, position, original_base, mutated_base, mutation_type):\n",
    "        \"\"\"\n",
    "        Initialize a Mutation object with gene name, mutation position, \n",
    "        original base, mutated base, and type of mutation.\n",
    "        \"\"\"\n",
    "        self.gene_name = gene_name  # The affected gene\n",
    "        self.position = position  # Position in the DNA sequence\n",
    "        self.original_base = original_base.upper()  # The original nucleotide (A, T, C, G)\n",
    "        self.mutated_base = mutated_base.upper()  # The new nucleotide after mutation\n",
    "        self.mutation_type = mutation_type  # Example: \"Missense\", \"Nonsense\", \"Silent\", \"Frameshift\"\n",
    "\n",
    "# Make a mutation object\n",
    "mut1 = Mutation(\"BRCA1\", 123, \"A\", \"G\", \"Missense\")\n",
    "print(mut1.__dict__) # a way to get the whole mut1 dictionary\n",
    "print(mut1.mutation_type) # to report only the mutation type\n"
   ]
  },
  {
   "cell_type": "markdown",
   "id": "55b39816-9ce1-45ee-b384-b4c381521a68",
   "metadata": {},
   "source": [
    "<div class=\"alert alert-block alert-info\"> <b>Tip:</b> Try these in the above mutation class code block:\n",
    "\n",
    "    - make a second mutation object (mut2) \n",
    "    - querry other pieces of mut1 and mut2 such as the position.\n",
    "    - see what happens if you do NOT give all expected/required pieces of information. \n",
    "    - add a new element of the variable (\"disease_associated\")</a> </div>\n",
    "\n",
    "*You should be able to tell that Python is using known classes to deal with the values entered, such as integers or strings*\n"
   ]
  },
  {
   "cell_type": "markdown",
   "id": "83ff9854-5937-4017-8cee-1980b0a493f7",
   "metadata": {},
   "source": [
    "## Methods in classes\n",
    "\n",
    "**Methods** in a class are functions that define the behavior of an object. They allow objects to interact with their attributes and perform actions specific to their purpose. \n",
    "<br>\n",
    "Methods make classes more powerful and reusable by encapsulating logic within objects, keeping code organized, modular, and easy to maintain.\n",
    "<br>\n",
    "Each method typically includes <u>itself</u> as its first parameter, giving it access to the object's attributes. \n"
   ]
  },
  {
   "cell_type": "markdown",
   "id": "4e740b07-5a9c-4da3-aa37-ab08b7ebd1da",
   "metadata": {},
   "source": [
    "### How to create a method\n",
    "\n",
    "A method in Python is a function inside a class that defines behavior for an object. Every method must have a few key parts:\n",
    "\n",
    "**def keyword**\n",
    "\n",
    "🔹 Every method starts with def, just like we learned about for functions NOT inside a method.\n",
    "🔹 This keyword signals that we are defining a method inside the class.\n",
    "\n",
    "**Method Name**\n",
    "🔹 The name of the method should be descriptive of its purpose.\n",
    "🔹 Follows standard Python naming conventions (lowercase, with underscores if needed).\n",
    "\n",
    "In the Mutation class, we can make a method that will report the the type of mutation, with the keyword def, a logical name, and what information it would need (self) followed by a colon:\n",
    "\n",
    "**def get_type(self):**\n",
    "\n",
    "Next, we need to tell how to *get the type*\n",
    "\n",
    "**def get_type(self):\n",
    "   return self.mutation_type**\n",
    "\n",
    "the \"return\" tells python to immediately report the value \"self.mutation_type\" \n",
    "\n",
    "Add that function to the class definition below, then we'll make the mut 1 mutation object & query its mutation type"
   ]
  },
  {
   "cell_type": "code",
   "execution_count": null,
   "id": "8b90e39a-faeb-43f9-996e-38f709163b2a",
   "metadata": {},
   "outputs": [],
   "source": [
    "class Mutation:  #A class to represent a genetic mutation.\n",
    "    def __init__(self, gene_name, position, original_base, mutated_base, mutation_type):\n",
    "        \"\"\"\n",
    "        Initialize a Mutation object with gene name, mutation position, \n",
    "        original base, mutated base, and type of mutation.\n",
    "        \"\"\"\n",
    "        self.gene_name = gene_name  # The affected gene\n",
    "        self.position = position  # Position in the DNA sequence\n",
    "        self.original_base = original_base.upper()  # The original nucleotide (A, T, C, G)\n",
    "        self.mutated_base = mutated_base.upper()  # The new nucleotide after mutation\n",
    "        self.mutation_type = mutation_type  # Example: \"Missense\", \"Nonsense\", \"Silent\", \"Frameshift\"\n",
    "\n",
    "mut1 = Mutation(\"BRCA1\", 123, \"A\", \"G\", \"Missense\")\n",
    "\n"
   ]
  },
  {
   "cell_type": "markdown",
   "id": "74509e9a-c9c1-4bd1-baf5-d694848d0e89",
   "metadata": {},
   "source": [
    "<div class=\"alert alert-block alert-info\"> <b>Tip:</b> Try this above: it would be nice to have a well-formatted description of the enzyme.... so you could call mut1.describe</a> </div>\n",
    "\n",
    "So, create a method called describe that will give the following output for mut1:\n",
    "\n",
    "'Mutation in BRCA1: Position 123, A → G (Missense)'"
   ]
  },
  {
   "cell_type": "code",
   "execution_count": null,
   "id": "d0464b7d-89b4-4fa1-b1c6-212c35ce60a3",
   "metadata": {},
   "outputs": [],
   "source": [
    "#Code for good formatting\n",
    "def describe(self):\n",
    "        \"\"\"Returns a formatted description of the mutation.\"\"\"\n",
    "        return (f\"Mutation in {self.gene_name}: Position {self.position}, \"\n",
    "                f\"{self.original_base} → {self.mutated_base} ({self.mutation_type})\")\n"
   ]
  },
  {
   "cell_type": "markdown",
   "id": "6c0882d8-67df-4f9a-b028-de1761d74dfb",
   "metadata": {},
   "source": [
    "### \n",
    "\n",
    "Look at the next example, creating a class Enzyme that stores the name, EC number, Km and Vmax of an enzyme. AND it has some useful enzyme functions"
   ]
  },
  {
   "cell_type": "code",
   "execution_count": null,
   "id": "a1cabe4f-f7eb-487c-8e97-19e055130027",
   "metadata": {},
   "outputs": [],
   "source": [
    "class Enzyme:\n",
    "    \"\"\"A class to represent an enzyme with kinetic properties.\"\"\"\n",
    "    \n",
    "    def __init__(self, name, ec_number, km, vmax):\n",
    "        \"\"\"Initialize an enzyme with its name, EC number, Km, and Vmax.\"\"\"\n",
    "        self.name = name  # Enzyme name\n",
    "        self.ec_number = ec_number  # Enzyme Commission (EC) number\n",
    "        self.km = km  # Michaelis constant (substrate concentration at half Vmax)\n",
    "        self.vmax = vmax  # Maximum reaction velocity\n",
    "  \n",
    "    def get_kinetic_parameters(self):\n",
    "        \"\"\"Returns Km and Vmax as a tuple.\"\"\"\n",
    "        return self.km, self.vmax\n",
    "    \n",
    "    def calculate_velocity(self, substrate_concentration):\n",
    "        \"\"\"Calculates reaction velocity using the Michaelis-Menten equation: \n",
    "           v = (Vmax * [S]) / (Km + [S])\n",
    "        \"\"\"\n",
    "        v = (self.vmax * substrate_concentration) / (self.km + substrate_concentration)\n",
    "        return v\n",
    "\n",
    "# Creating an enzyme object\n",
    "enzyme1 = Enzyme(\"Hexokinase\", \"EC 2.7.1.1\", 0.15, 10.0)  #you can provide these parameters in order or by including =\n",
    "enzyme2= Enzyme(\"Alchol_dehydrogenase\", \"EC 1.1.1.1\", vmax=3.0, km=0.9)\n",
    "print(enzyme1.ec_number)\n",
    "v = enzyme2.calculate_velocity(0.3)\n",
    "print(v)"
   ]
  },
  {
   "cell_type": "markdown",
   "id": "b0b91da6-21b9-4a21-b197-39595d59245f",
   "metadata": {},
   "source": [
    "Try to do the following:\n",
    "1. Make another enzyme object\n",
    "2. Add a parameter **concentration** to the Enzyme class and be sure to adjust the def __init__\n",
    "3. Create a new method to change the units of concentration by a provided factor (e.g., to convert ug/mL to mg/mL by dividing by 1000)"
   ]
  },
  {
   "cell_type": "markdown",
   "id": "9b566bfe-d72f-42a8-a35c-846310fa5bc8",
   "metadata": {},
   "source": [
    "#### Test Your Knowledge\n",
    "\n",
    "After you work through those changes, take the following quiz:"
   ]
  },
  {
   "cell_type": "code",
   "execution_count": null,
   "id": "c4c87c1d-4531-40c4-a0f4-f2946f261f6c",
   "metadata": {},
   "outputs": [],
   "source": [
    "from jupyterquiz import display_quiz\n",
    "classquiz=\"PythonQuizQuestions/class_qz1.json\"\n",
    "display_quiz(classquiz)"
   ]
  },
  {
   "cell_type": "markdown",
   "id": "8dffc234-abe0-4ca2-a2ee-11f3abdfec11",
   "metadata": {},
   "source": [
    "#### Exercise 1: Create a Simple DNASequence Class\n",
    "\n",
    "**Goal:** <u>Construct</u> a class that represents a DNA sequence and includes basic operations.\n",
    "Now, using the template below to do the following: \n",
    "\n",
    "Steps:\n",
    "1. Define a class called RNASequence.\n",
    "2. Add an __init__ method that takes an RNA sequence as input and stores it.\n",
    "3. Create a method called get_length() that returns the length of the sequence.\n",
    "4. Create a method called RevTranscribe() that converts U → T (simulating cDNA production).\n",
    "\n",
    "THis will "
   ]
  },
  {
   "cell_type": "code",
   "execution_count": null,
   "id": "93450667-8875-4867-a980-b263b1bc42ea",
   "metadata": {},
   "outputs": [],
   "source": [
    "# Edit the following to match the exercise directions, you need to replace all ______________\n",
    "class ___________________:  \"\"\"A class to represent an RNA sequence.\"\"\"\n",
    "    \n",
    "    def __init__(_________________):  # what parameters must it take?\n",
    "        self.sequence = sequence.______()  # Ensure uppercase\n",
    "    \n",
    "    def get_length(self):\n",
    "        \"\"\"Returns the length of the sequence.\"\"\"\n",
    "        return _____  # Replace with the correct code for the length of a string\n",
    "    \n",
    "    def RevTranscribe(self):\n",
    "        \"\"\"Returns the DNA sequence (U → T).\"\"\"\n",
    "        return _____  # Replace with the correct code"
   ]
  },
  {
   "cell_type": "markdown",
   "id": "d331f522-028c-4248-bf63-7d84bba20eff",
   "metadata": {},
   "source": [
    "#### Test your code for RNAsequence\n",
    "Create an RNA object to test the class and its methods with RNA sequence augcguua to make sure your code works. "
   ]
  },
  {
   "cell_type": "code",
   "execution_count": null,
   "id": "3dc163cb-c579-4f32-8a07-83e709303663",
   "metadata": {},
   "outputs": [],
   "source": [
    "#Code to test your class\n",
    "#rna = \n",
    "print(\"Sequence length:\", rna.get_length())  # Expected output: 8\n",
    "print(\"cDNA sequence:\", rna.transcribe())  # Expected output: ATGCGTTA"
   ]
  },
  {
   "cell_type": "markdown",
   "id": "725bf20e-abae-4a35-a167-b82e511b1e0b",
   "metadata": {},
   "source": [
    "## Conclusion\n",
    "\n",
    "In this tutorial, you have:\n",
    "- learned some OOP vocabulary.\n",
    "- defined a new class.\n",
    "- written your own object.\n",
    "\n",
    "You may be ready to try some advanced techniques in OOP in [Tutorial 2: OOP2](Submodule_3_Tutorial_2_OOP2.ipynb)\n",
    "\n",
    "OR\n",
    "\n",
    "Work with [modules and packages](Submodule_3_Tutorial_3_Modules&Packages.ipynb)."
   ]
  },
  {
   "cell_type": "markdown",
   "id": "661ba3b9-6e06-4cd3-949d-2f8948a7485f",
   "metadata": {},
   "source": [
    "## Clean up\n",
    "Remember to shut down your Jupyter Notebook instance when you are done for the day to avoid unnecessary charges. You can do this by stopping the notebook instance from the Cloud console."
   ]
  }
 ],
 "metadata": {
  "kernelspec": {
   "display_name": "Python 3 (ipykernel)",
   "language": "python",
   "name": "python3"
  },
  "language_info": {
   "codemirror_mode": {
    "name": "ipython",
    "version": 3
   },
   "file_extension": ".py",
   "mimetype": "text/x-python",
   "name": "python",
   "nbconvert_exporter": "python",
   "pygments_lexer": "ipython3",
   "version": "3.12.9"
  }
 },
 "nbformat": 4,
 "nbformat_minor": 5
}
