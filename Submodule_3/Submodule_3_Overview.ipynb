{
 "cells": [
  {
   "cell_type": "markdown",
   "id": "71797b6e-6170-4f01-9578-0e16390e75c8",
   "metadata": {},
   "source": [
    "# Submodule 3 Overview: Python and Object-oriented programming"
   ]
  },
  {
   "cell_type": "markdown",
   "id": "e252562b-2628-41bc-8b80-6a33b15c2695",
   "metadata": {},
   "source": [
    "## Overview\n",
    "Up to this point we have been importing Python libraries and writing short, step-by-step tools to accomplish bioinformatics tasks. \n",
    "\n",
    "The lessons have not described this key feature of Python. You may need to save Python scripts to use again or to understand how to edit scripts written by others.\n",
    "\n",
    "Object-Oriented Programming (OOP) in Python helps bioinformaticians organize and manage their data efficiently by creating reusable and modular code. For example, objects can represent biological entities like genes, proteins, or sequences, each with their own properties and functions. This makes it easier to handle large-scale data and develop flexible analysis tools.\n",
    "\n",
    "Additionally, writing and editing Python scripts is essential because bioinformatics workflows often involve automating repetitive tasks, processing large datasets, and integrating multiple tools. Saving scripts ensures reproducibility and allows scientists to share and refine their code, making research more efficient and collaborative.\n",
    "\n",
    "This module is designed for those individuals with some background in Python (such as what you would have obtained in Submodule 1 & 2) who want to understand and/or write Python scripts or to interpret Class definitions and methods which they might encounter in new Python tools that others have written.\n",
    " \n",
    "## Prerequisites\n",
    "- Introductory Python (Module 1)\n",
    "\n",
    "## Getting Started\n",
    "Start with [Tutorial 1, about OOP](Submodule_3_Tutorial_1_OOP.ipynb). \n"
   ]
  },
  {
   "cell_type": "code",
   "execution_count": null,
   "id": "c9312bad-cda7-4c68-93ce-30c9ec18d655",
   "metadata": {},
   "outputs": [],
   "source": []
  }
 ],
 "metadata": {
  "kernelspec": {
   "display_name": "Python 3 (ipykernel)",
   "language": "python",
   "name": "python3"
  },
  "language_info": {
   "codemirror_mode": {
    "name": "ipython",
    "version": 3
   },
   "file_extension": ".py",
   "mimetype": "text/x-python",
   "name": "python",
   "nbconvert_exporter": "python",
   "pygments_lexer": "ipython3",
   "version": "3.12.9"
  }
 },
 "nbformat": 4,
 "nbformat_minor": 5
}
