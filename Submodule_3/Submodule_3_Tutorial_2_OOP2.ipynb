{
 "cells": [
  {
   "cell_type": "markdown",
   "id": "81a299a1",
   "metadata": {},
   "source": [
    "# Submodule 3 Tutorial 2: Advanced Object-Oriented Programming in Python\n",
    "---------------------------------------------------------------"
   ]
  },
  {
   "cell_type": "markdown",
   "id": "7d3f6c22-aa6a-4bf1-a5d8-0311c09ae633",
   "metadata": {},
   "source": [
    "### Overview\n",
    "Creating a class object is a foundational task in OOP. In this tutorial, we will expand the way a class works to include useful checks on the attributes and define new methods. This module is not *necessary* for using classes, but will allow you to ease the use of bioinformatics datasets and avoid confusing behavior in your Python programs\n",
    "\n",
    "### Learning Objectives\n",
    "\n",
    "*After this tutorial, you should be able to*\n",
    "\n",
    "- Recognize the difference between variable behavior within objects\n",
    "- Use getters and setters\n",
    "- Decorate attributes\n",
    "- Create nested functions\n",
    "- Use functions as parameters\n",
    "\n",
    "### Prerequisites\n",
    "\n",
    "Introductory level python\n",
    "Introduction to OOP (Tutorial 1)\n",
    "\n",
    "### Getting Started\n",
    "\n",
    "Run the next code box to install needed libraries."
   ]
  },
  {
   "cell_type": "code",
   "execution_count": null,
   "id": "b9eaee57-25b3-4b95-b8bb-2c550e818f4f",
   "metadata": {},
   "outputs": [],
   "source": [
    "%pip install jupyterquiz\n",
    "from jupyterquiz import display_quiz\n",
    "from datetime import date,datetime"
   ]
  },
  {
   "cell_type": "markdown",
   "id": "f92c9b95",
   "metadata": {},
   "source": [
    "## Instance Variables\n",
    "\n",
    "Now that we've worked with objects, let's take another look at variables and how they behave inside classes. Just like in bioinformatics, where data is stored at different levels (e.g., genome-wide vs. within a single gene), Python uses different types of variables depending on where and how they are used.\n",
    "\n",
    "1️⃣ Global Variables – Always Available\n",
    "<br>\n",
    "🔹 These exist outside of any class or function and stay in memory for the entire session.\n",
    "<br>\n",
    "🔹 In bioinformatics, this could be a global setting for a sequencing run or a common reference genome used throughout an analysis.\n",
    "\n",
    "2️⃣ Local Variables – Temporary & Limited\n",
    "<br>\n",
    "🔹 These are created inside a method and only exist while the method is running.\n",
    "<br>\n",
    "🔹 In bioinformatics, this could be a temporary list of nucleotide changes when analyzing a mutation.\n",
    "\n",
    "3️⃣ Class Variables – Shared by All Objects\n",
    "<br>\n",
    "🔹 Declared inside the class but outside any method.\n",
    "<br>🔹 Shared by all objects of the class—meaning if one object changes it, all objects see the update.\n",
    "<br>🔹 In bioinformatics, this could be a global mutation database that all Mutation objects use.\n",
    "\n",
    "4️⃣ Instance Variables – Unique to Each Object\n",
    "<br>🔹 Created inside the constructor (__init__) using self.\n",
    "<br>🔹 Each object gets its own copy—changes to one object do not affect others.\n",
    "<br>🔹 In bioinformatics, this could be an individual patient's genetic mutation record.\n",
    "\n",
    "<br>\n",
    "In the next box, you can see an example of the fact that \"translated codon\" is not a global variable, so it cannot be accessed outside of the class, as well as examples of other variable types."
   ]
  },
  {
   "cell_type": "code",
   "execution_count": null,
   "id": "6b1d021c-f592-4012-9c87-b94278a75ebc",
   "metadata": {},
   "outputs": [],
   "source": [
    "# Global variable: Exists outside any class or method and can be accessed anywhere\n",
    "global_genetic_code = {\"ATG\": \"Methionine\", \"TAA\": \"Stop\", \"TAG\": \"Stop\", \"TGA\": \"Stop\"}\n",
    "\n",
    "class DNAAnalyzer:\n",
    "    # Class attribute: Shared across all instances of this class\n",
    "    species_name = \"Unknown Species\"\n",
    "\n",
    "    def __init__(self, sequence):\n",
    "        # Instance attribute: Unique to each object created from this class\n",
    "        self.instance_sequence = sequence\n",
    "\n",
    "    def find_start_codon(self):\n",
    "        # Method-local variables: Exist only within this method during execution\n",
    "        local_start_codon = self.instance_sequence[:3]\n",
    "        translated_codon = global_genetic_code.get(local_start_codon, \"No start codon found\")\n",
    "\n",
    "        return translated_codon\n",
    "\n",
    "# Example usage:\n",
    "sample = DNAAnalyzer(\"ATGCGTACG\")  # Create an instance with a DNA sequence\n",
    "\n",
    "# Accessing different variable types\n",
    "print(f\"Global variable (genetic code dictionary): {global_genetic_code}\")  # ✅ Accessible\n",
    "print(f\"Class attribute (shared across instances): {DNAAnalyzer.species_name}\")  # ✅ Accessible\n",
    "print(f\"Instance attribute (unique per object): {sample.instance_sequence}\")  # ✅ Accessible\n",
    "print(f\"Method-local variable output: {sample.find_start_codon()}\")  # ✅ Accessible via method\n",
    "\n",
    "# 🚨 Attempting to access a method-local variable directly (WILL CAUSE AN ERROR but won't crash the code box because we just \"tried\")\n",
    "try:\n",
    "    print(f\"Trying to access 'translated_codon' directly: {sample.translated_codon}\")  # ❌ Not possible\n",
    "except AttributeError:\n",
    "    print(\"Error: 'translated_codon' is a method-local variable and cannot be accessed outside the method!\")\n"
   ]
  },
  {
   "cell_type": "markdown",
   "id": "9a4c3e5c-174f-44ab-8728-2818dcbf9275",
   "metadata": {},
   "source": [
    "### Why Is It Important to Understand Variable Access in Python?\n",
    "Understanding how variables are accessed in Python is crucial because it determines how data is stored, modified, and shared across different parts of a program. In bioinformatics, just like in programming, data security, scope, and organization matter when handling sensitive or large datasets.\n",
    "\n",
    "Here are just two examples of why you need to understand variable access:\n",
    "\n",
    "1️⃣ <u>Avoiding Unintended Data Changes</u>\n",
    "<br>If a class variable (shared by all objects) is mistakenly used instead of an instance variable (unique to each object), changes to one object can affect all objects, leading to unexpected bugs.\n",
    "<br>\n",
    "🔹 Example: Incorrect Use of Class Variable (Bug!)"
   ]
  },
  {
   "cell_type": "code",
   "execution_count": null,
   "id": "50cd65dd-19dd-454d-94f1-3486a5d7067d",
   "metadata": {},
   "outputs": [],
   "source": [
    "class Patient:\n",
    "    mutations = []  # Shared class variable (BAD practice!)\n",
    "\n",
    "    def __init__(self, patient_id, mutation):\n",
    "        self.patient_id = patient_id\n",
    "        self.mutations.append(mutation)  # This modifies the shared list\n",
    "\n",
    "# Creating two patient objects\n",
    "p1 = Patient(\"P001\", \"BRCA1 A→G\")\n",
    "p2 = Patient(\"P002\", \"TP53 C→T\")\n",
    "\n",
    "print(p1.mutations)  # Both patients now share the same mutation list!\n",
    "print(p2.mutations)  # Output: ['BRCA1 A→G', 'TP53 C→T'] (Oops!)\n"
   ]
  },
  {
   "cell_type": "markdown",
   "id": "8f5ff4a1-937b-4f5c-8a04-928e8be54a62",
   "metadata": {},
   "source": [
    "📌 Problem: The mutations list was meant to be unique for each patient, but instead, all patients share the same list because it's a class variable.\n",
    "<br>\n",
    "✅ Fix: Use an instance variable (self.mutations) inside __init__ instead."
   ]
  },
  {
   "cell_type": "markdown",
   "id": "7fa2f08e-7e39-4323-9c2d-901f5994b709",
   "metadata": {},
   "source": [
    "2️⃣<u>Controlling Variable Scope and Security</u>\n",
    "<br>In Python, variables can be public, protected, or private. In bioinformatics, patient data is sensitive, and it's important to prevent accidental changes to critical information.\n",
    "\n",
    "🔹 Example: Protecting Patient Data with Private Variables"
   ]
  },
  {
   "cell_type": "code",
   "execution_count": null,
   "id": "50a3a895-da40-44b0-bd4f-3ac91bb8f1f6",
   "metadata": {},
   "outputs": [],
   "source": [
    "class Patient:\n",
    "    def __init__(self, patient_id, diagnosis):\n",
    "        self.patient_id = patient_id  # Public attribute\n",
    "        self.__diagnosis = diagnosis  # Private attribute (Cannot be accessed directly-- it has 2 underscores)\n",
    "\n",
    "    def get_diagnosis(self):\n",
    "        \"\"\"Allows controlled access to the diagnosis.\"\"\"\n",
    "        return self.__diagnosis\n",
    "\n",
    "# Creating a patient object\n",
    "p = Patient(\"P123\", \"Breast Cancer\")\n",
    "print(p.get_diagnosis())  # Allowed ✅ \n",
    "#print(p.diagnosis) # ❌ AttributeError: While it was entered as a diagnosis, note that it was renamed in the __init__\n",
    "#print(p.__diagnosis)  # ❌ AttributeError: Private variable cannot be accessed directly!"
   ]
  },
  {
   "cell_type": "markdown",
   "id": "ea048186-8d8f-409f-b91e-9a4d6ad6b806",
   "metadata": {},
   "source": [
    "#### Why is this important?\n",
    "<ul>\n",
    "<li>Prevents accidental modifications of sensitive data.\n",
    "<li>Encourages using getter methods (get_diagnosis()) for controlled access.\n",
    "</ul>\n"
   ]
  },
  {
   "cell_type": "markdown",
   "id": "24e5ee89-6f56-4de5-ba2c-b8eccada4eae",
   "metadata": {},
   "source": [
    "### Test your Understanding\n",
    "Time for a quiz to see how well you understand variables and how to control them in Python.\n",
    "\n",
    "Question 2 refers to this code: (feel free to create the class in a code box to evaluate)\n",
    "class Example:\n",
    "    value = 10 \n",
    "\n",
    "    def __init__(self):\n",
    "        self.value = 20 \n",
    "        self.__mutation =\"rs45677\"\n",
    "\n",
    "obj=Example()"
   ]
  },
  {
   "cell_type": "code",
   "execution_count": null,
   "id": "06b8fb24-df01-47dd-9781-f8cf52f96c4a",
   "metadata": {},
   "outputs": [],
   "source": [
    "from jupyterquiz import display_quiz\n",
    "variable_vocab=\"PythonQuizQuestions/var_qz.json\"\n",
    "display_quiz(variable_vocab)"
   ]
  },
  {
   "cell_type": "markdown",
   "id": "12380422",
   "metadata": {},
   "source": [
    "## Attributes\n",
    "Attributes act as a window into a class’s internal data. They allow objects to store and manage information, such as a patient's diagnosis, genetic data, or calculated age. In some programming languages, attributes are called properties, serving as a way to interact with the data inside a class.\n",
    "<br>\n",
    "Typically, when we declare variables inside the __init__ constructor, we are creating instance attributes—these belong to each individual object and are referenced using an underscore (_) to indicate they should not be accessed directly. However, not all attributes need to be set manually; some, like age, can be calculated dynamically based on stored information.\n",
    "\n",
    "In the following example, we will create some attributes manually (using __init__) and others with a \"decorator\"\n",
    "\n",
    "Instead of storing a patient’s age as a fixed value (which would become outdated), we store their date of birth (_dob) and use a calculated property to determine their age whenever it is needed. This ensures that age is always accurate without requiring manual updates. \n",
    "\n",
    "We introduce here a new symbol & vocabulary: @property   \n",
    "\n",
    "The **@property** decorator in Python allows you to <u>define a method that behaves like an attribute.</u> This means you can access it without parentheses, just like a normal variable, but it calculates or retrieves data dynamically.\n",
    "\n",
    "In our case, we used @property to calculate age based on date of birth (_dob). This way, we don’t have to store or manually update age—it updates automatically every time we access it.\n"
   ]
  },
  {
   "cell_type": "code",
   "execution_count": null,
   "id": "4a48cf7e-b615-4f2f-9087-e307371923e1",
   "metadata": {},
   "outputs": [],
   "source": [
    "from datetime import date,datetime\n",
    "\n",
    "class Patient:\n",
    "    \"\"\"Represents a patient with calculated age and protected attributes.\"\"\"\n",
    "    \n",
    "    #Class Attributes, characteristics of ALL patients\n",
    "    hospital=\"Community General\"\n",
    "    informed_consent=\"Y\"\n",
    "    study_ID = \"F-2720\"\n",
    "    \n",
    "    def __init__(self, name, dob, diagnosis):\n",
    "        \"\"\"Initialize patient with name, date of birth, and diagnosis.\"\"\"\n",
    "        self.name = name\n",
    "        self._dob = dob  # Store date of birth as a protected attribute\n",
    "        self._diagnosis = diagnosis  # Store diagnosis as a protected attribute\n",
    "\n",
    "    @property\n",
    "    def age(self):\n",
    "        \"\"\"Calculates the patient's age dynamically from date of birth.\"\"\"\n",
    "        today = date.today()\n",
    "        dob_date = datetime.strptime(self._dob, \"%Y-%m-%d\") #this tool knows how to turn date strings into a Date object\n",
    "        return today.year - dob_date.year - ((today.month, today.day) < (dob_date.month, dob_date.day))\n",
    "\n",
    "    def get_diagnosis(self):\n",
    "        \"\"\"Allows controlled access to the diagnosis.\"\"\"\n",
    "        return self._diagnosis\n",
    "\n",
    "# Creating an instance of Patient\n",
    "p = Patient(\"John Doe\", \"1980-05-12\", \"Congestive Heart Failure\")\n",
    "\n",
    "# Accessing calculated age\n",
    "print(f\"{p.name} is {p.age} years old.\")  # ✅ Output depends on today's date\n",
    "\n",
    "# Accessing diagnosis safely\n",
    "print(\"Diagnosis:\", p.get_diagnosis())  # ✅ Output: Congestive Heart Failure\n",
    "\n",
    "# Access the class attribute\n",
    "print(\"Study ID:\",p.study_ID)"
   ]
  },
  {
   "cell_type": "markdown",
   "id": "15300fff-56e4-4530-9106-d3d402fb3e66",
   "metadata": {},
   "source": [
    "You can see above that you can access the instance attributes using the “dot” syntax. Try to use the same technique for the diagnosis nor the date of birth (dob) which we made protected attributes."
   ]
  },
  {
   "cell_type": "code",
   "execution_count": null,
   "id": "2b129d2e-4545-484a-a390-82713102bd68",
   "metadata": {},
   "outputs": [],
   "source": [
    "p.name\n",
    "#p.age\n",
    "#p.dob\n",
    "#p.diagnosis"
   ]
  },
  {
   "cell_type": "markdown",
   "id": "40565850-6e85-4a3a-a80a-5fa524bd02c7",
   "metadata": {},
   "source": [
    "We *can* access those attributes, however. They are only slightly protected:"
   ]
  },
  {
   "cell_type": "code",
   "execution_count": null,
   "id": "5e33dfe9-3cc6-41cc-b09f-fdc142443be9",
   "metadata": {},
   "outputs": [],
   "source": [
    "p._dob\n",
    "#p._diagnosis"
   ]
  },
  {
   "cell_type": "markdown",
   "id": "fb135a4f-d61a-4f55-be62-17fb3071ce5f",
   "metadata": {},
   "source": [
    "<div class=\"alert alert-block alert-info\"> <b>Try this:</b> Edit the code above to take date of diagnosis date as an attribute of Patient. Then, calculate the years since diagnosis as a decorator before printing it along with the diagnosis</a> </div>"
   ]
  },
  {
   "cell_type": "code",
   "execution_count": null,
   "id": "775bd736-f5ee-4b05-952e-262430ccf0b8",
   "metadata": {},
   "outputs": [],
   "source": [
    "#enter your code here"
   ]
  },
  {
   "cell_type": "code",
   "execution_count": null,
   "id": "cd714909-9fa6-431b-8d85-3602b2e5de4f",
   "metadata": {},
   "outputs": [],
   "source": [
    "#example code to make that calculation\n",
    "    def __init__(self, name, dob, dod, diagnosis):\n",
    "        \"\"\"Initialize patient with name, date of birth, date of diagnosis (dod) and diagnosis.\"\"\"\n",
    "        self.name = name\n",
    "        self._dob = dob  # Store date of birth as a protected attribute\n",
    "        self._dod = dod #Store date of diagnosis as a protected attribute \n",
    "        self._diagnosis = diagnosis  # Store diagnosis as a protected attribute\n",
    "\n",
    "    @property\n",
    "    def years_since_diagnosis(self):\n",
    "        \"\"\"Calculates the time since diagnosis dynamically from diagnosis.\"\"\"\n",
    "        today = date.today()\n",
    "        date_of_diag = datetime.strptime(self._dod, \"%Y-%m-%d\") \n",
    "        return today.year - date_of_diag.year - ((today.month, today.day) < (date_of_diag.month, date_of_diag.day))\n",
    "\n",
    "p2 = Patient(\"John Mendez\", \"1981-05-12\", \"2023-07-14\", \"Cancer\") #test patient"
   ]
  },
  {
   "cell_type": "markdown",
   "id": "1aa257aa",
   "metadata": {},
   "source": [
    "## Error Checking in the Constructor\n",
    "\n",
    "Our code works well for calculating age, but look how it handles dates in the future (probably a typo in the data entry):\n"
   ]
  },
  {
   "cell_type": "code",
   "execution_count": null,
   "id": "426bb020-f935-4eb8-9d27-75d0caca7289",
   "metadata": {},
   "outputs": [],
   "source": [
    "p1=Patient(\"p001\",\"2090-12-02\", \"Congestive Heart Failure\")\n",
    "p1.age"
   ]
  },
  {
   "cell_type": "markdown",
   "id": "165452c8-e242-4947-a5fd-754ae98d347b",
   "metadata": {},
   "source": [
    "If we were to get the average age of patients, including negative values, that could cause substantial problems!  \n",
    "\n",
    "We will examine two types of **error checking**: in the constructor and in a decorator.\n",
    "\n",
    "Error checking in the constructor (__init__) ensures that invalid data is caught immediately when an object is created. \n",
    "\n",
    "Let's examine how to validate that the <u>diagnosis</u> is from an allowed list.\n",
    "\n",
    "You can see that **before** we store the provided diagnosis value in self.diagnosis, we first eliminate issues with capitalization (the interpretation of strings is VERY literal, as you remember, such that diabetes is not Diabetes).\n",
    "\n",
    "We also check that the provided diagnosis is in our short list of options. **If** it is, then we can store it as self._diagnosis\n"
   ]
  },
  {
   "cell_type": "code",
   "execution_count": null,
   "id": "9b27ffb8",
   "metadata": {},
   "outputs": [],
   "source": [
    "from datetime import date,datetime\n",
    "\n",
    "class Patient:\n",
    "    \"\"\"Represents a patient with calculated age and protected attributes.\"\"\"\n",
    "    \n",
    "    #Class Attributes, characteristics of ALL patients\n",
    "    hospital=\"Community General\"\n",
    "    informed_consent=\"Y\"\n",
    "    study_ID = \"F-2720\"\n",
    "   \n",
    "    # Define allowed diagnoses\n",
    "    ALLOWED_DIAGNOSES = {\"healthy\", \"diabetes\", \"cancer\"}\n",
    "        \n",
    "    def __init__(self, name, dob, diagnosis):\n",
    "        \"\"\"Initialize patient with name, date of birth, and diagnosis.\"\"\"\n",
    "        self.name = name\n",
    "        self._dob = dob  # Store date of birth as a protected attribute\n",
    " \n",
    "        # ✅ Validate diagnosis (must be in allowed list)\n",
    "        if diagnosis.lower() not in self.ALLOWED_DIAGNOSES:\n",
    "            raise ValueError(f\"Error: '{diagnosis}' is not a valid diagnosis. Choose from {self.ALLOWED_DIAGNOSES}.\")\n",
    "        self._diagnosis = diagnosis  # Store valid diagnosis\n",
    "    \n",
    "\n",
    "    @property\n",
    "    def age(self):\n",
    "        \"\"\"Calculates the patient's age dynamically from date of birth.\"\"\"\n",
    "        today = date.today()\n",
    "        dob_date = datetime.strptime(self._dob, \"%Y-%m-%d\") #this tool knows how to turn date strings into a Date object\n",
    "        return today.year - dob_date.year - ((today.month, today.day) < (dob_date.month, dob_date.day))\n",
    "\n",
    "    def get_diagnosis(self):\n",
    "        \"\"\"Allows controlled access to the diagnosis.\"\"\"\n",
    "        return self._diagnosis\n",
    "\n",
    "# Creating an instance of Patient\n",
    "#p = Patient(\"John Doe\", \"1980-05-12\", \"Congestive Heart Failure\")\n",
    "p1= Patient(\"p001\",\"1990-12-02\", \"Cancer\")\n",
    "p1.get_diagnosis()\n"
   ]
  },
  {
   "cell_type": "markdown",
   "id": "17b8c11d-139d-4069-97b7-904bf41e18a1",
   "metadata": {},
   "source": [
    "<div class=\"alert alert-block alert-info\"> <b>Try this:</b> Edit the code above to take sex as an attribute of Patient. Limit the options to your own definition in the constructor. ADVANCED: convert a range of options to common values such as male or m or Male--> M </a></div>"
   ]
  },
  {
   "cell_type": "code",
   "execution_count": null,
   "id": "e7bd3e08-52d0-4bd8-aa8e-a4bc18d89c53",
   "metadata": {},
   "outputs": [],
   "source": [
    "#suggested code for the Try this\n",
    "from datetime import date,datetime\n",
    "\n",
    "class Patient:\n",
    "    \"\"\"Represents a patient with calculated age and protected attributes.\"\"\"\n",
    "    \n",
    "    #Class Attributes, characteristics of ALL patients\n",
    "    hospital=\"Community General\"\n",
    "    informed_consent=\"Y\"\n",
    "    study_ID = \"F-2720\"\n",
    "   \n",
    "    # Define allowed diagnoses\n",
    "    ALLOWED_DIAGNOSES = {\"healthy\", \"diabetes\", \"cancer\"}\n",
    "    sexes= {\"MALE\",\"FEMALE\",\"OTHER\"}\n",
    "    sex_abbrev={\"M\",\"F\",\"O\"}\n",
    "        \n",
    "    def __init__(self, name, dob, sex, diagnosis):\n",
    "        \"\"\"Initialize patient with name, date of birth, and diagnosis.\"\"\"\n",
    "        self.name = name\n",
    "        self._dob = dob  # Store date of birth as a protected attribute\n",
    " \n",
    "        # ✅ Validate diagnosis (must be in allowed list)\n",
    "        if diagnosis.lower() not in self.ALLOWED_DIAGNOSES:\n",
    "            raise ValueError(f\"Error: '{diagnosis}' is not a valid diagnosis. Choose from {self.ALLOWED_DIAGNOSES}.\")\n",
    "        self._diagnosis = diagnosis  # Store valid diagnosis\n",
    "\n",
    "        if sex.upper() not in self.sexes:\n",
    "            if sex not in self.sex_abbrev:\n",
    "                raise ValueError(f\"Error: '{sex}' is not a valid designation for this study. Choose from {self.sexes}.\")\n",
    "        self.sex=sex[0].upper()\n",
    "\n",
    "    @property\n",
    "    def age(self):\n",
    "        \"\"\"Calculates the patient's age dynamically from date of birth.\"\"\"\n",
    "        today = date.today()\n",
    "        dob_date = datetime.strptime(self._dob, \"%Y-%m-%d\") #this tool knows how to turn date strings into a Date object\n",
    "        return today.year - dob_date.year - ((today.month, today.day) < (dob_date.month, dob_date.day))\n",
    "\n",
    "    def get_diagnosis(self):\n",
    "        \"\"\"Allows controlled access to the diagnosis.\"\"\"\n",
    "        return self._diagnosis\n",
    "\n",
    "p3=Patient(\"jack sprat\",\"1970-08-21\",\"female\",\"Cancer\")\n",
    "p3.sex"
   ]
  },
  {
   "cell_type": "markdown",
   "id": "73fe30bb-d9e7-419a-acfe-673ad7bdba04",
   "metadata": {},
   "source": [
    "We should build into our class some error checking for the dates. In this case, we know that the birth date should be in the future (in Python that means today > date of birth). We will add this as an attribute.\n",
    "\n",
    "A technique we can use is a *try block*, which lets you test some code for errors, without crashing the code if an error is encountered. Then,\n",
    "\n",
    "- The *except block* lets you handle the error.\n",
    "- The *else block* lets you execute code when there is no error.\n",
    "\n",
    "See how it works in the date check. Look at the  def _validate_dob(self, dob). \n",
    "\n",
    "The datetime tool will convert a text string, in a provided format (e.g., \"%Y-%m-%d\") into a variable of the date class. As before, we'll call on today's date to make sure that the date of birth is in the past (but you could check to make sure the person is within an age range or over 18 yrs old, for example)"
   ]
  },
  {
   "cell_type": "code",
   "execution_count": null,
   "id": "bfb93b1e-8372-4c9d-b6bc-b1ae06788d2a",
   "metadata": {},
   "outputs": [],
   "source": [
    "from datetime import datetime\n",
    "\n",
    "class Patient:\n",
    "    \"\"\"Represents a patient with error-checked attributes.\"\"\"\n",
    "\n",
    "    # Define allowed diagnoses\n",
    "    ALLOWED_DIAGNOSES = {\"healthy\", \"diabetes\", \"cancer\", \"congestive heart failure\"}\n",
    "    \n",
    "    def __init__(self, name, dob, diagnosis):\n",
    "        \"\"\"Initialize patient with name, date of birth, and diagnosis.\"\"\"\n",
    "        self.name = name # Always valid\n",
    "        self._dob = self._validate_dob(dob)  # Validate and store DOB\n",
    "     \n",
    "        # ✅ Validate diagnosis (must be in allowed list or NA)\n",
    "        if diagnosis.lower() not in self.ALLOWED_DIAGNOSES:\n",
    "            self.diagnosis = \"NA\"\n",
    "        else:\n",
    "            self.diagnosis = diagnosis  # Store valid diagnosis\n",
    "\n",
    "    def _validate_dob(self, dob):\n",
    "        \"\"\"Private method to validate DOB format and ensure it's not in the future.\"\"\"\n",
    "        today = datetime.today()\n",
    "        try:\n",
    "            # Parse the date to check format\n",
    "            dob_date = datetime.strptime(dob, \"%Y-%m-%d\")\n",
    "        except ValueError:\n",
    "            return \"❌ Error: Invalid format! Use YYYY-MM-DD.\"\n",
    "             # Check if it's before today's date      \n",
    "        if dob_date >= today:\n",
    "            return \"❌ Error: Date of birth cannot be in the future.\"\n",
    "        \n",
    "        return dob\n",
    "    \n",
    "    @property\n",
    "    def age(self):\n",
    "        \"\"\"Calculates the patient's age dynamically from date of birth.\"\"\"\n",
    "        today = datetime.today()\n",
    "        try:\n",
    "            dob_date = datetime.strptime(dob, \"%Y-%m-%d\")\n",
    "        except ValueError:\n",
    "            return \"DOB format problem or in the future\"\n",
    "        return today.year - dob.year - ((today.month, today.day) < (dob.month, dob.day))\n",
    "\n",
    "p1=Patient(\"p001\",\"2000-12-02\", \"COPD\")\n",
    "p1._diagnosis"
   ]
  },
  {
   "cell_type": "markdown",
   "id": "7836f954-528c-45e4-b340-f2d36bb8ab8e",
   "metadata": {},
   "source": [
    "<div class=\"alert alert-block alert-info\"> <b>Try these:</b> (1) Edit the code above to make diagnosis a private variable by adding a getter-- to get_diagnosis as above  (2) </a> </div>"
   ]
  },
  {
   "cell_type": "markdown",
   "id": "cb213fa4-7c3b-4999-a016-91a2fd5eb2f5",
   "metadata": {},
   "source": [
    "#### Test your knowledge\n",
    "Just a quick check!"
   ]
  },
  {
   "cell_type": "code",
   "execution_count": null,
   "id": "35210b04-b59f-4712-be0f-261d48160497",
   "metadata": {},
   "outputs": [],
   "source": [
    "from jupyterquiz import display_quiz\n",
    "var2=\"PythonQuizQuestions/var2.json\"\n",
    "display_quiz(var2)"
   ]
  },
  {
   "cell_type": "markdown",
   "id": "135e2f55",
   "metadata": {},
   "source": [
    "## Nested Functions"
   ]
  },
  {
   "cell_type": "markdown",
   "id": "8880db62",
   "metadata": {},
   "source": [
    "Let's go back to functions for a minute. A nested function is a function defined inside another function. The inner function is only accessible within the outer function, meaning it cannot be called independently. Nested functions help organize code, encapsulate logic, and avoid unnecessary global variables, for example."
   ]
  },
  {
   "cell_type": "code",
   "execution_count": null,
   "id": "27669815",
   "metadata": {},
   "outputs": [],
   "source": [
    "# Example of a nested function\n",
    "def transcribe_dna(dna_sequence):\n",
    "    \"\"\"Outer function that processes a DNA sequence for transcription.\"\"\"\n",
    "\n",
    "    def convert_to_mrna(seq):\n",
    "        \"\"\"Inner function that replaces 'T' with 'U' to create mRNA.\"\"\"\n",
    "        return seq.replace(\"T\", \"U\")\n",
    "\n",
    "    # Display original DNA sequence\n",
    "    print(\"Original DNA:\", dna_sequence)\n",
    "\n",
    "    # Convert and display transcribed mRNA\n",
    "    mrna_sequence = convert_to_mrna(dna_sequence)\n",
    "    print(\"Transcribed mRNA:\", mrna_sequence)\n",
    "\n",
    "# Example Usage\n",
    "transcribe_dna(\"ATGCTTGA\")\n"
   ]
  },
  {
   "cell_type": "markdown",
   "id": "352d7e0d",
   "metadata": {},
   "source": [
    "There are several benefits from creating and using nested functions\n",
    "<br>✅ Encapsulated logic – The inner function exists only within the outer function.\n",
    "<br>✅ Modular & readable – Helps break down complex tasks into smaller parts.\n",
    "<br>✅ Avoids global clutter – Variables inside the inner function don’t affect the rest of the program.\n",
    "<br>✅ Provides closures - they can maintain state after the outermost function has finished executing.\n"
   ]
  },
  {
   "cell_type": "markdown",
   "id": "6aad5d26-ee1b-45af-8775-cf2181f9617f",
   "metadata": {},
   "source": [
    "### Test your knowledge\n",
    "<div class=\"alert alert-block alert-info\"> <b>Try this:</b> Write a Python function called nucleotide_analysis(dna_sequence) that:\n",
    "<br> - Defines a nested function to calculate the frequency of each nucleotide (A, T, C, G).\n",
    "<br> - Uses the nested function to generate and return a dictionary with nucleotide counts.\n",
    "<br> - Prints the results as a formatted table.\n",
    "</a> </div>\n",
    "<br>\n",
    "<br><b>What the Function Should Do</b>\n",
    "<br>✔ Accepts a DNA sequence (e.g., \"ATGCGATCGT\"):  nucleotide_analysis(\"ATGCGATCGT\")\n",
    "<br>✔ Uses a nested function to count nucleotides\n",
    "<br>✔ Returns and prints a table of nucleotide frequencies\n",
    "<br>\n",
    "<i>Solution at the end of this tutorial</i>\n",
    "\n",
    "<b>Suggestions</b>\n",
    "<ul>\n",
    "<li>The outer function takes in a DNA sequence.\n",
    "<li>The inner function (nested function) creates and fills a dictionary {A: count, T: count, C: count, G: count}.\n",
    "<li>Use .count(nucleotide) to count each nucleotide.\n",
    "<li>Format the table using a loop.\n",
    "</ul>\n"
   ]
  },
  {
   "cell_type": "code",
   "execution_count": null,
   "id": "979738e5-d97c-4fbb-9502-9b726705204e",
   "metadata": {},
   "outputs": [],
   "source": [
    "#Try your code here"
   ]
  },
  {
   "cell_type": "markdown",
   "id": "32e498be-2aed-4f57-8405-ebe567da73bd",
   "metadata": {},
   "source": [
    "## Other Python Programming Objects"
   ]
  },
  {
   "cell_type": "markdown",
   "id": "0fb0bbe7",
   "metadata": {},
   "source": [
    "### Closures\n",
    "A *closure* is a function that defines a nested function and returns it, allowing the inner function to be used outside its original scope while retaining access to variables from the outer function.\n",
    "The term closure comes from the idea that a function \"closes over\" variables from its outer scope, keeping them alive even after the outer function has finished executing.\n",
    "\n",
    "Closures improve code flexibility by enabling function factories, decorators, and callback functions. Here’s how they are commonly used:\n",
    "\n",
    "- Closures power decorators – Decorators modify the behavior of functions without changing their code.\n",
    "- Closures generate callback functions – Common in event-driven programming (e.g., GUI applications), where functions respond dynamically to user actions.\n",
    "- Closures act as function \"factories\" – They create multiple functions from a template, each customized with specific behavior.\n",
    "\n",
    "Here is a simple closure (a \"function factory\")"
   ]
  },
  {
   "cell_type": "code",
   "execution_count": null,
   "id": "e47c7f1b",
   "metadata": {},
   "outputs": [],
   "source": [
    "# Here's a simple example of a function factory\n",
    "# It's a simple \"rooter\" that takes a number n and creates a function\n",
    "# That will generate the nth root of an input.\n",
    "# Hence, we can create a whole slew of root functions on the fly.\n",
    "def root_factory(root_value):\n",
    "    def root_function(number):\n",
    "        return number ** (1/root_value) # remember that ** makes the next value an exponent\n",
    "    return root_function\n",
    "\n",
    "# Create specific functions using the factory, square root, cube root, fourth root\n",
    "square_root = root_factory(2)\n",
    "cube_root = root_factory(3)\n",
    "fourth_root = root_factory(4)\n",
    "\n",
    "# Test the functions\n",
    "print(square_root(25))\n",
    "print(cube_root(27))\n",
    "print(fourth_root(256))\n"
   ]
  },
  {
   "cell_type": "markdown",
   "id": "707d0bef-b4e0-4c9d-bcca-34143047830c",
   "metadata": {},
   "source": [
    "The key benefit to the above root_factory() is that it technically creates multiple functions without rewriting the logic, making it efficient and reusable.\n",
    "<br>\n",
    "Below, we demonstrate creating a custom sequence filter using a closure\n",
    "<br>\n",
    "Closures are useful in bioinformatics when we need to generate filtering functions dynamically. For example, we may want to filter DNA sequences based on length, GC content, or the presence of specific motifs. Instead of writing multiple filter functions manually, we can use a closure to generate them on demand.\n",
    "<br>\n",
    "<br>\n",
    "📌 Problem: We need a function that can generate <b>different</b> filtering functions based on criteria such as:\n",
    "<ul>\n",
    "<li>Minimum sequence length\n",
    "<li>Minimum GC content\n",
    "</ul>"
   ]
  },
  {
   "cell_type": "code",
   "execution_count": null,
   "id": "839b7a33-1ee3-4dc1-b272-9d5ce2ca217b",
   "metadata": {},
   "outputs": [],
   "source": [
    "def sequence_filter_factory(min_length=0, min_gc_content=0):\n",
    "    \"\"\"Creates a function that filters DNA sequences based on length and GC content.\n",
    "    The user will supply numbers in place of zeroes\"\"\"\n",
    "    \n",
    "    def filter_sequence(dna_sequence):\n",
    "        \"\"\"Inner function that applies filtering criteria.\"\"\"\n",
    "        dna_sequence = dna_sequence.upper()\n",
    "        # Check sequence length\n",
    "        if len(dna_sequence) < min_length:\n",
    "            return False\n",
    "        \n",
    "        # Calculate GC content\n",
    "        gc_content = (dna_sequence.count(\"G\") + dna_sequence.count(\"C\")) / len(dna_sequence) * 100\n",
    "        if gc_content < min_gc_content:\n",
    "            return False\n",
    "        \n",
    "        return True  # Sequence meets all criteria, since False was not returned by any inner function\n",
    "    \n",
    "    return filter_sequence  # Return the inner function (closure)\n",
    "\n",
    "# ✅ Example Usage\n",
    "\n",
    "# Create a filter for sequences of at least 10 bases and 50% GC content\n",
    "filter_10bp_50gc = sequence_filter_factory(min_length=10, min_gc_content=50)\n",
    "\n",
    "# Test sequences\n",
    "sequences = [\"ATGC\", \"GCGCGCGC\", \"ATGCGTACGTGCA\", \"ATATATAT\", \"CGCGCGAUGAAA\"]\n",
    "\n",
    "# Apply filter as part of a short iterator over sequences\n",
    "filtered_sequences = [seq for seq in sequences if filter_10bp_50gc(seq)]  #remember that any variable name works in place of seq\n",
    "print(filtered_sequences)  # ✅ Output for 10 & 50: ['ATGCGTACGTGCA', 'CGCGCGAAAA']\n"
   ]
  },
  {
   "cell_type": "markdown",
   "id": "2c828e56-f58d-40c6-b8f1-92e7fe95be71",
   "metadata": {},
   "source": [
    "Notice that the inner filters are all pass-filters: if a criteria is NOT met, then False is returned and the sequence will not be included in the final output.\n",
    "\n",
    "Perhaps you could imagine other features you could add to this filter factory? \n",
    "\n",
    "- Only ones with a start codon?  sequence_filter_factory(min_length=0, min_gc_content=0, start_codon=False) (code provided below)\n",
    "- only ones with the AUG at a particular location in the sequence, provided by the user?\n",
    "\n",
    "You can see the efficiency of writing closures!"
   ]
  },
  {
   "cell_type": "code",
   "execution_count": null,
   "id": "f98fa919",
   "metadata": {},
   "outputs": [],
   "source": [
    "#Example code here\n",
    "def sequence_filter_factory(min_length=0, min_gc_content=0, start_codon=False):\n",
    "    \"\"\"Creates a function that filters DNA sequences based on provided length, GC content, and if an AUG is present.\n",
    "    The user will supply numbers in place of zeroes\"\"\"\n",
    "    \n",
    "    def filter_sequence(dna_sequence):\n",
    "        dna_sequence = dna_sequence.upper()\n",
    "        \"\"\"Inner function that applies filtering criteria.\"\"\"\n",
    "        # Check sequence length\n",
    "        if len(dna_sequence) < min_length:\n",
    "            return False\n",
    "        \n",
    "        # Calculate GC content\n",
    "        gc_content = (dna_sequence.count(\"G\") + dna_sequence.count(\"C\")) / len(dna_sequence) * 100\n",
    "        if gc_content < min_gc_content:\n",
    "            return False\n",
    "\n",
    "        # Is there a start codon, if requested\n",
    "        if start_codon:\n",
    "            count_AUG = dna_sequence.count(\"AUG\")\n",
    "            if count_AUG == 0:\n",
    "                return False\n",
    "        \n",
    "        return True  # Sequence meets all criteria, since all inner \"questions\" were answered TRUE\n",
    "    \n",
    "    return filter_sequence  # Return the inner function (closure)\n",
    "\n",
    "# ✅ Example Usage\n",
    "\n",
    "# Create a filter for sequences of at least 10 bases and 50% GC content, with a start codon\n",
    "filter_10bp_50gc_start = sequence_filter_factory(min_length=10, min_gc_content=50, start_codon=True)\n",
    "\n",
    "# Test sequences\n",
    "sequences = [\"CGCGCGAUGAAA\",\"ATGC\", \"GCGCGCGC\", \"ATGCGTACGTGCA\", \"ATATATAT\", \"CGCGCGAUGAAA\"]\n",
    "\n",
    "# Apply filter as part of a short iterator over sequences\n",
    "filtered_sequences = [seq for seq in sequences if filter_10bp_50gc_start(seq)]  #remember that any variable name works in place of seq\n",
    "print(filtered_sequences)  # ✅ Output for 10 & 50: ['ATGCGTACGTGCA', 'CGCGCGAAAA']\n"
   ]
  },
  {
   "cell_type": "markdown",
   "id": "216cd65a-25ee-49c7-be16-2bdeb0aa93ca",
   "metadata": {},
   "source": [
    "### Test your understanding\n",
    "\n",
    "Run the next code box for a quiz"
   ]
  },
  {
   "cell_type": "code",
   "execution_count": null,
   "id": "f601a648-bc38-4d97-9c8a-0648f8c6e644",
   "metadata": {},
   "outputs": [],
   "source": [
    "from jupyterquiz import displayquiz\n"
   ]
  },
  {
   "cell_type": "markdown",
   "id": "add23693",
   "metadata": {},
   "source": [
    "## Functions as Parameters"
   ]
  },
  {
   "cell_type": "markdown",
   "id": "b58d4914",
   "metadata": {},
   "source": [
    "Because functions are an object like any other variable, Python allows us to pass them just as we would any other variable.\n",
    "- We have already seen functions used as paramters in closures, but it is even simpler than that. You can just create functions and pass them to any other function:"
   ]
  },
  {
   "cell_type": "code",
   "execution_count": null,
   "id": "41198628",
   "metadata": {},
   "outputs": [],
   "source": [
    "# Create a couple of simple functions.\n",
    "def myUpper(mystr):\n",
    "    return mystr.upper()\n",
    "\n",
    "def myLower(mystr):\n",
    "    return mystr.lower()\n",
    "\n",
    "# New create a function that takes as a parameter another function.\n",
    "# This is a pretty common practice in data science. We often want to create data-dependent functions during the feature engineering process\n",
    "# to handle data from independent sources or data that varies widely under certain conditions.\n",
    "# An example would be sales data of say, beachware, in summer and winter seasons.\n",
    "\n",
    "def worldVirus(myfunc):\n",
    "    virus = myfunc(\"Covid-19\")\n",
    "    print(virus)\n",
    "\n",
    "# Test\n",
    "worldVirus(myUpper)\n",
    "worldVirus(myLower)\n"
   ]
  },
  {
   "cell_type": "markdown",
   "id": "725bf20e-abae-4a35-a167-b82e511b1e0b",
   "metadata": {},
   "source": [
    "## Conclusion\n",
    "\n",
    "In this tutorial, you have learned:\n",
    "- Some OOP vocabulary\n",
    "- Defined a new class\n",
    "- Added attributes and decorators\n",
    "- Created nested functions and Closures\n",
    "\n",
    "Obviously, there are many other ways that you can use *and reuse* objects in Python to make your coding efficient. After this short introduction, though, it is hoped that you can read other code to interpret how a class or other objects are being used to simplify the hard work of coding for bioinformatics.\n",
    "\n",
    "You are ready for the project \n"
   ]
  },
  {
   "cell_type": "markdown",
   "id": "661ba3b9-6e06-4cd3-949d-2f8948a7485f",
   "metadata": {},
   "source": [
    "## Clean up\n",
    "Remember to shut down your compute instance when you are done for the day to avoid unnecessary charges. You can do this by stopping the notebook instance from the Cloud console."
   ]
  },
  {
   "cell_type": "code",
   "execution_count": null,
   "id": "b1c7ed60-7a5d-4f90-ba46-dedb285e4ddb",
   "metadata": {},
   "outputs": [],
   "source": [
    "#Solution to nested function\n",
    "def nucleotide_analysis(dna_sequence):\n",
    "    \"\"\"Outer function that processes a DNA sequence and calculates nucleotide frequencies.\"\"\"\n",
    "\n",
    "    def count_nucleotides(seq):\n",
    "        \"\"\"Inner function that returns a dictionary of nucleotide counts.\"\"\"\n",
    "        counts = {\"A\": 0, \"T\": 0, \"C\": 0, \"G\": 0}  # Initialize dictionary\n",
    "        for nucleotide in seq:\n",
    "            if nucleotide in counts:  # Ensure only valid nucleotides are counted\n",
    "                counts[nucleotide] += 1\n",
    "        return counts\n",
    "\n",
    "    # Get nucleotide counts from the inner function\n",
    "    nucleotide_counts = count_nucleotides(dna_sequence)\n",
    "\n",
    "    # Print results as a table\n",
    "    print(\"\\nNucleotide Counts:\")\n",
    "    for nucleotide, count in nucleotide_counts.items():\n",
    "        print(f\"{nucleotide}: {count}\")\n",
    "\n",
    "    return nucleotide_counts  # Return dictionary for further use if needed\n",
    "\n",
    "# Example Usage\n",
    "nucleotide_analysis(\"ATGCGATCGT\")\n"
   ]
  }
 ],
 "metadata": {
  "kernelspec": {
   "display_name": "Python 3 (ipykernel)",
   "language": "python",
   "name": "python3"
  },
  "language_info": {
   "codemirror_mode": {
    "name": "ipython",
    "version": 3
   },
   "file_extension": ".py",
   "mimetype": "text/x-python",
   "name": "python",
   "nbconvert_exporter": "python",
   "pygments_lexer": "ipython3",
   "version": "3.12.9"
  }
 },
 "nbformat": 4,
 "nbformat_minor": 5
}
