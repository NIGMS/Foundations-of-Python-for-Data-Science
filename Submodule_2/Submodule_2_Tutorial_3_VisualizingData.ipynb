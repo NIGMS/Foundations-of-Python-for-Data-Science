{
 "cells": [
  {
   "cell_type": "markdown",
   "id": "7c73d63b-45c6-4e52-bc17-d40186fc602b",
   "metadata": {},
   "source": [
    "# Tutorial 3: Visualizing Data\n",
    "------------------------------------------------------------------------------------"
   ]
  },
  {
   "cell_type": "markdown",
   "id": "84b38cc9-6d8b-4969-ad11-02c6d3a91952",
   "metadata": {},
   "source": [
    "Pictures can tell the story much more efficiently than text, particularly showing relationships between variables. Surely, you have made many plots of data in the past using Excel or other (expensive) statistical software packages. The purpose of this tutorial is to enable you to use the powerful Python libraries which will create plots that represent the data in the best possible ways. It is assumed that you already understand the kinds of plots that might be useful for your data and are just learning how to translate that from plotting tools to Python.\n",
    "\n",
    "## Learning Objectives\n",
    "- Make plots with Matplotlib\n",
    "- Make plots with Pandas\n",
    "\n",
    "## Prerequisites\n",
    "- Foundations in Python coding\n",
    "- Pandas & NumPy\n",
    "- Knowledge of plot types\n",
    "\n",
    "## Getting Started\n",
    "import the required libraries in the next code box."
   ]
  },
  {
   "cell_type": "code",
   "execution_count": null,
   "id": "0c666fb8-76ea-40cc-a652-f69d44893349",
   "metadata": {},
   "outputs": [],
   "source": [
    "%pip install jupyterquiz\n",
    "%pip install matplotlib\n",
    "from jupyterquiz import display_quiz\n",
    "import numpy as np\n",
    "import matplotlib.pyplot as plt\n",
    "print(\"All packages installed\")"
   ]
  },
  {
   "cell_type": "markdown",
   "id": "c43721d6-1e42-454d-a546-10a869ff51a3",
   "metadata": {},
   "source": [
    "# Matplotlib\n",
    "The main plotting set of libraries in Python is **Matplotlib** . It can do 2D and 3D plotting in \"Matlab\" style, and even [animate plots](https://matplotlib.org/stable/users/explain/animations/animations.html#sphx-glr-users-explain-animations-animations-py) (Although that is beyond the scope of this introduction). \n",
    "\n",
    "It is typical to import the libraries (matplotlib.pyplot) as plt to simplify it's use, much like we have been using np and pd as shorthand for NumPy and Pandas in this module. \n",
    "\n",
    "You could devote a whole course to [Matplotlib](https://matplotlib.org/stable/tutorials/index) as there are so many ways to plot but we will briefly cover mechanics and a few examples.\n",
    "\n",
    "While it may seem easier to use Excel and its drop-down menus to make plots, there are some fantastic advantages with Matplotlib.\n",
    "1. You can print in a format with enough dots per inch (dpi) to make publication-qualitity images: fig.saveas('fig.tiff',dpi=600)\n",
    "2. While it takes a few more steps than excel:\n",
    " - you CAN control all the characteristics\n",
    " - the code is re-usable and can be applied to the next plot vs. having to start from scratch for each excel or even SigmaPlot figure.\n",
    " - python is free\n",
    " - you can plot much larger datasets\n"
   ]
  },
  {
   "cell_type": "markdown",
   "id": "775f3c08-02c2-4d66-a36d-cc0f089c69eb",
   "metadata": {},
   "source": [
    "## Making a plot with PyPlot\n",
    "\n",
    "With Pyplot, we establish a figure, then annotate it and/or add all the necessary plotting elements. By default, the plot() function draws a line from point to point. \n",
    "\n",
    "   'Dose µM0, 0.1, 0.5, 1, 5, 10, 50, 100, 200, 5000    'Cell Viabilit drug 1y ()': [100, 98, 92, 85, 70, 60, 40, 25, 5Cell Viability with drug 2: 100, 99, 97, 94, 90, 85, 80, 75, 70, 65print(df)\r\n"
   ]
  },
  {
   "cell_type": "code",
   "execution_count": null,
   "id": "e1a2339b-36da-4ba4-8e06-8c7bf1a50b36",
   "metadata": {},
   "outputs": [],
   "source": [
    "# Basic plotting \n",
    "import numpy as np\n",
    "x=np.array((0, 0.1, 0.5, 1, 5, 10, 50, 100, 200, 500))\n",
    "y=np.array((100, 98, 92, 85, 70, 60, 40, 25, 15, 5))\n",
    "plt.plot(x,y)\n",
    "\n",
    "# Change the points to red circles\n",
    "#plt.plot(x,y,\"ro\")\n",
    "\n",
    "#Add a 2nd dose-response curve\n",
    "#drug2=np.array((100, 99, 97, 94, 90, 85, 80, 75, 70, 65))\n",
    "#plt.plot(x,drug2)\n"
   ]
  },
  {
   "cell_type": "markdown",
   "id": "18beba21-8bb9-443e-817d-37d11d8d9994",
   "metadata": {},
   "source": [
    "## Matplotlib Object Hierarchy\n",
    "It might help you to have a mental map of how matplotlib organizes information to make the plot. Most of this is built into the pyplot module.\n",
    "\n",
    "<img alt=\"Anatomy of a Matplotlib figure\" src=\"https://matplotlib.org/stable/_images/anatomy.png\" width=\"400\" height=\"400\">\n",
    "\n",
    "At the top of the hierarchy is the **Figure** object, holding one or more **Axes**\n",
    "\n",
    "Below that are individual lines, grids, legends and text boxes, ticks and labels\n",
    "\n",
    "This gives us a fine granularity and level of control over the plot\n"
   ]
  },
  {
   "cell_type": "markdown",
   "id": "49858cdf-b8fc-4d5a-94b8-b41c10462c2b",
   "metadata": {},
   "source": [
    "### Adding to Plots\n",
    "In plt.plot(), we can indicate line styles with a text string and add many chart elements. \n",
    "\n",
    "Additional data can be added\n",
    "\n",
    "<div class=\"alert alert-block alert-info\"> <b>Tip:</b> Try adding and changing the plot elements</a>. </div>"
   ]
  },
  {
   "cell_type": "code",
   "execution_count": null,
   "id": "99a3eab3-25f2-4474-8750-79c04685655f",
   "metadata": {},
   "outputs": [],
   "source": [
    "# axes look funny, change range?\n",
    "fig = plt.figure()             #Create a figure, to which all parts need to be added\n",
    "plt.title(\"Dose-response Curve\")    #Plot title\n",
    "plt.xlim(-10, 500)                  #x axis range\n",
    "plt.plot(x,y,\"--\")             #line style\n",
    "plt.plot(x,y,\"mo\")             #point style and color\n",
    "plt.ylabel(\"Cell Viability %\")       #Y axis label\n",
    "plt.xlabel(\"Dose (µM)\") #X-axis label"
   ]
  },
  {
   "cell_type": "markdown",
   "id": "8601d386-e4ed-4c86-bb07-b51d09553b4d",
   "metadata": {},
   "source": [
    "There are many built-in marker options (far more than this short list)\n",
    "<table>\n",
    "    <tr>\n",
    "        <th>Marker</th>\n",
    "        <th>Description</th>\n",
    "        <th>Marker</th>\n",
    "        <th>Description</th>\n",
    "    </tr>\n",
    "    <tr>\n",
    "        <td>o</td>\n",
    "        <td>circle</td>\n",
    "        <td>*</td>\n",
    "        <td>star</td>\n",
    "    </tr>\n",
    "    <tr>\n",
    "        <td>.</td>\n",
    "        <td>point</td>\n",
    "        <td>s</td>\n",
    "        <td>square</td>     \n",
    "    </tr>\n",
    "    <tr>\n",
    "        <td>x</td>\n",
    "        <td>X</td>\n",
    "        <td>D</td>\n",
    "        <td>diamond</td>\n",
    "    </tr>\n",
    "    <tr>\n",
    "        <td>'v'</td>\n",
    "        <td>triangle down</td>\n",
    "        <td>'^'</td>\n",
    "        <td>triangle up</td>\n",
    "    </tr>\n",
    "</table>\n",
    "\n",
    "You can also choose from standard colors:\n",
    "![colors](https://matplotlib.org/stable/_images/sphx_glr_named_colors_001.png)'\n",
    "<div class=\"alert alert-block alert-info\"> <b>Tip:</b> Try using the color and symbol information to customize the plot above</a>. </div>"
   ]
  },
  {
   "cell_type": "markdown",
   "id": "03a37ba3-dd48-436d-bece-cdb8ab6ec7d6",
   "metadata": {},
   "source": [
    "## Histograms\n",
    "\n",
    "A histogram is a type of bar plot where the X-axis represents the bin ranges while the Y-axis gives information about frequency\n",
    "\n",
    "Data that is appropriate for a histogram is continuous. Histograms show us the overall distribution of numerical data, so you are displaying the *density* of data points. \n",
    "\n",
    "The key variables of histograms that affect their appearance are \n",
    "1. Bins: The range of values is divided into a set of intervals called bins. The height of each bin represents the frequency of data points falling within that interval\n",
    "2. \n",
    "X-axis: Represents the values or ranges of the data being plotetd.\n",
    "3.\r\n",
    "Y-axis: Represents the frequency or count of data points within eachin \n",
    "\n",
    "\n",
    "The histogram plots an array of data. In this first demonstration, we will just create rayars os random distributions me bady NumPy\n",
    "\n",
    "Matplotlib will automatically create bins, but you CAN choose the size. Play around with the # of bins and look at the alternative (exponential) array\n",
    "\n",
    "You have a lot of options for how your histogram could look. Here are some examples: \n",
    "![HistogramTypes./images/](mpl_hist.bmp)\n",
    "\n",
    "\n"
   ]
  },
  {
   "cell_type": "code",
   "execution_count": null,
   "id": "a031c9d8-3c90-46fc-9853-fdcde1e94824",
   "metadata": {},
   "outputs": [],
   "source": [
    "# Make a Histogram\n",
    "binom = np.random.binomial(100,0.2,1000)\n",
    "plt.figure(figsize=(4, 2))\n",
    "plt.title(\"Binomial Distribution Simulation\")\n",
    "plt.hist(binom)\n",
    "#plt.hist(binom, bins=3)\n",
    "#plt.hist(binom, bins=50)\n",
    "#expon= np.random.exponential(1,1000)\n",
    "#plt.hist(expon)"
   ]
  },
  {
   "cell_type": "markdown",
   "id": "e376a4d2-32f9-4dfe-baa0-0c41494e4466",
   "metadata": {},
   "source": [
    "More than one set of data may be compared with a histogram. As with line plots, a second set of data is easy to add to a plot.\n"
   ]
  },
  {
   "cell_type": "code",
   "execution_count": null,
   "id": "af5ff077-1b3a-49d2-97ae-c2838a236673",
   "metadata": {},
   "outputs": [],
   "source": [
    "import os\n",
    "import numpy as np\n",
    "import pandas as pd\n",
    "\n",
    "# Load simulated protein expression levels for two groups\n",
    "prot_df=pd.read_csv(\".\"+ os.sep + \"Datasets\"+ os.sep + \"sim_prot_exp.csv\")\n",
    "# Plot histograms for \"Control\" and \"Treated\"\n",
    "plt.figure(figsize=(10, 6))\n",
    "\n",
    "#The first one will appear behind whichever one is added 2nd.\n",
    "plt.hist(prot_df[prot_df['Group'] == 'Control']['Protein Expression (AU)'], bins=15, alpha=0.7, label='Control', color='blue', edgecolor='black')\n",
    "plt.hist(prot_df[prot_df['Group'] == 'Treated']['Protein Expression (AU)'], bins=15, alpha=0.7, label='Treated', color='green', edgecolor='black')\n",
    "\n",
    "plt.title('Protein Expression Levels: Control vs. Treated')\n",
    "plt.xlabel('Protein Expression (AU)')\n",
    "plt.ylabel('Frequency')\n",
    "plt.legend()\n",
    "plt.grid(axis='y', linestyle='--', linewidth=0.3)\n",
    "plt.show()\n"
   ]
  },
  {
   "cell_type": "markdown",
   "id": "6f752f35-9dca-4e96-bbf5-68a180fa0c04",
   "metadata": {},
   "source": [
    "We can use Cancer expression dataset we used in the Pandas tutorial. It can be part of quality control to examine the histogram for expression data to ensure that there are no obvious outliers. \n"
   ]
  },
  {
   "cell_type": "code",
   "execution_count": null,
   "id": "85a1dc9e-c681-4200-a92d-5d47eb90b6a9",
   "metadata": {},
   "outputs": [],
   "source": [
    "# Make a Histogram with Cancer Data\n",
    "import pandas as pd\n",
    "import os\n",
    "cancer=pd.read_csv(\".\" + os.sep + \"Datasets\" + os.sep +\"cancer.csv\")     # data is from Science 286:531-537\n",
    "cancer.index=cancer.iloc[:,1]  #make the gene accession numbers, column 2, the indices of the dataframe\n",
    "cancer.drop(cancer.columns[0:2], axis=1, inplace=True)     #drop the two columns of gene name and information\n",
    "#cancer.head(n=3)"
   ]
  },
  {
   "cell_type": "markdown",
   "id": "829fe16a-b666-4140-907b-149ef3218179",
   "metadata": {},
   "source": [
    "### Histograms in Pandas\n",
    "The central wrapper is DataFrame.plot() The default value is line plots You can change this with the kind argument: ‘bar’, ‘scatter’, ‘pie’ and others Thus, you can call for a histogram directly (the other plots require X and Y)\n",
    "\n",
    "df.plot.typeofplot\n"
   ]
  },
  {
   "cell_type": "code",
   "execution_count": null,
   "id": "30f8aa9f-3c8e-42e4-993f-21352279ea2f",
   "metadata": {},
   "outputs": [],
   "source": [
    "cancer.plot.hist(legend=False)\n",
    "\n",
    "# Show the plot\n",
    "plt.show()"
   ]
  },
  {
   "cell_type": "code",
   "execution_count": null,
   "id": "f803c0d0-e7bc-4cf9-b39c-a6bf7892355a",
   "metadata": {},
   "outputs": [],
   "source": [
    "# Normalize each gene's expression levels (row-wise normalization)\n",
    "cancer_norm = cancer.div(cancer.sum(axis=1), axis=0)\n",
    "cancer_norm.plot.hist(legend=False)\n",
    "\n",
    "# Show the plot\n",
    "plt.show()"
   ]
  },
  {
   "cell_type": "markdown",
   "id": "dfb612af-c55d-4ef6-ab1c-0b997402b2f5",
   "metadata": {},
   "source": [
    "### Histogram Styles\n",
    "We can add arguments to plt.hist() for different styles.\n",
    "Check help for plt.hist() "
   ]
  },
  {
   "cell_type": "code",
   "execution_count": null,
   "id": "041ceb34-2033-4452-ab14-285d793dd487",
   "metadata": {},
   "outputs": [],
   "source": [
    "# Histogram with Various Arguments\n",
    "plt.figure()\n",
    "plt.title(\"Binomial Distribution Simulation\")\n",
    "plt.grid(True)\n",
    "plt.hist(binom,bins=20, align=\"left\",\n",
    "         orientation = \"horizontal\",\n",
    "         color=\"r\",alpha=0.75);"
   ]
  },
  {
   "cell_type": "markdown",
   "id": "9462912e-7ff0-4250-99c4-6471f7e76f0b",
   "metadata": {},
   "source": [
    "### Plot Legends\n",
    "Legends accessed with plt.legend()\n",
    "We can use existing label arguments, or provide them. "
   ]
  },
  {
   "cell_type": "code",
   "execution_count": null,
   "id": "f5835613-feff-4130-a5e5-19a0e4b1808c",
   "metadata": {},
   "outputs": [],
   "source": [
    "# Legend\n",
    "plt.figure()\n",
    "plt.plot(x,x,label=\"identity\")\n",
    "plt.plot(x,x**2,label=\"square\")\n",
    "plt.plot(x,x*2,label=\"scale\")\n",
    "plt.legend(loc=\"upper left\")\n",
    "#help(plt.legend)"
   ]
  },
  {
   "cell_type": "markdown",
   "id": "6063ce47-bfba-46e3-9e5b-0db905d0532c",
   "metadata": {},
   "source": [
    "The central wrapper is DataFrame.plot()\n",
    "The default value is line plots\n",
    "You can change this with the kind argument: ‘bar’, ‘scatter’, ‘pie’ and others\n",
    "You can also call hist directly "
   ]
  },
  {
   "cell_type": "code",
   "execution_count": null,
   "id": "7bd1ca1e-9354-4a6d-ba9f-07bb22c143b8",
   "metadata": {},
   "outputs": [],
   "source": [
    "# Import Dataframe\n",
    "import os\n",
    "file= \".\" + os.sep + \"Data\"\n",
    "states = pd.read_csv(\".\" + os.sep +\"Datasets\" + os.sep + \"states.csv\")\n",
    "states[\"Income_cat\"] = pd.qcut(states.Income,3,labels=[\"low\",\"med\",\"high\"])\n",
    "\n",
    "# Histograms \n",
    "states.Income.plot(kind=\"hist\")\n",
    "states.Income.hist(color='k', alpha=0.5, bins=50)"
   ]
  },
  {
   "cell_type": "markdown",
   "id": "0e6aebb9-9d88-4610-b8dc-6d75002313ca",
   "metadata": {},
   "source": [
    "Pandas - Annotate Title\n",
    "Set the blank canvas in order to annotate it."
   ]
  },
  {
   "cell_type": "markdown",
   "id": "1529cef6-3ce5-4a9a-8402-d06704b4a0f1",
   "metadata": {},
   "source": [
    "## Scatter Plot\n",
    "\n",
    "Scatterplots are powerful tools for visualizing the relationship between two variables by plotting individual data points on a two-dimensional plane, enabling you to uncover patterns, trends, or clusters in your data.\n",
    "\n",
    "To create a scatterplot in Matplotlib, you need to provide two arrays (or similar structures) that represent the x-coordinates and y-coordinates of the data points. These arrays determine the position of each point on the plot.\n",
    "\n",
    "**Basic Requirements for Matplotlib**\n",
    "1. Two Arrays:\n",
    " * One for the x-axis (independent variable).\n",
    " * One for the y-axis (dependent variable).\n",
    "The arrays must be of the same length.\n",
    "\n",
    "2. Optional Enhancements:\n",
    " * Additional arguments for customization, such as color (c), size (s), labels, etc.\n",
    "\n",
    "**If you use pandas** you use df.plot(x='Column', y='Column, kind='scatter')\n",
    "Pandas uses the column labels for X & Y axis.\n",
    "\n",
    "See this use for our states data."
   ]
  },
  {
   "cell_type": "code",
   "execution_count": null,
   "id": "2f119518-23a3-4953-b541-c4efb49bc0a6",
   "metadata": {},
   "outputs": [],
   "source": [
    "states=pd.read_csv(\".\" + os.sep + \"Datasets\" + os.sep +\"states.csv\")  \n",
    "\n",
    "#Matplotlib version\n",
    "\n",
    "plt.figure()\n",
    "plt.scatter(states[\"Population\"],states[\"Murder\"])\n",
    "plt.title('US states relationship between Murder rate and Population')\n",
    "plt.xlabel('Population (10K)')\n",
    "plt.ylabel('Murder rate per 100K')"
   ]
  },
  {
   "cell_type": "code",
   "execution_count": null,
   "id": "9dea499d-e9ba-4cb0-bfac-d765eb81b3be",
   "metadata": {},
   "outputs": [],
   "source": [
    "# Pandas version\n",
    "# plot life expectancy versus illiteracy\n",
    "#states.plot(x=\"Life Exp\",y=\"Illiteracy\")  #The default is a line plot\n",
    "states.plot(x=\"Life Exp\", y=\"Illiteracy\", kind=\"scatter\")"
   ]
  },
  {
   "cell_type": "markdown",
   "id": "80b04975-0eeb-4611-8612-5cbf80bbb0b6",
   "metadata": {},
   "source": [
    "### Scatter matrix\n",
    "\n",
    "This is a popular way to view univariate and bivariate distributions\n",
    "The diagonal is histograms, and the off diagonals are scatterplots of **all** variables. "
   ]
  },
  {
   "cell_type": "code",
   "execution_count": null,
   "id": "fd36790e-dc32-4289-9772-4394ce289dd9",
   "metadata": {},
   "outputs": [],
   "source": [
    "# Scatter matrix\n",
    "from pandas.plotting import scatter_matrix\n",
    "scatter_matrix(states);  # The semicolon suppresses a long array listing all the components\n",
    "#states.corr()"
   ]
  },
  {
   "cell_type": "markdown",
   "id": "97fc1e2e-c2fe-4a7c-be30-c30052e8f306",
   "metadata": {},
   "source": [
    "## Test your knowledge\n",
    "\n",
    "Write Python code to do the following (answers at the end) then run the quiz in the subsequent python code box\n",
    "1. Make a HORIZONTAL histogram of the illiteracy data across the states (from the states dataset) with 5 bins\n",
    "2. Add a title & choose a new color.\n",
    "3. Load the diabetes dataset as a Pandas dataframe (https://www4.stat.ncsu.edu/~boos/var.select/diabetes.tab.txt\", sep=\"\\t\"). *Y is blood glucose level*\n",
    "4. Create a scatter plot showing BMI with age, with each sex in a different color"
   ]
  },
  {
   "cell_type": "code",
   "execution_count": null,
   "id": "2dd12dcb-cc74-4845-bb95-1aa66c966b1d",
   "metadata": {},
   "outputs": [],
   "source": [
    "#Write your plot code here"
   ]
  },
  {
   "cell_type": "code",
   "execution_count": null,
   "id": "431ae771-4d78-4c54-aa96-a9fe72c62233",
   "metadata": {},
   "outputs": [],
   "source": [
    "from jupyterquiz import display_quiz\n",
    "plotqz= \"PythonQuizQuestions/matplot.json\"\n",
    "display_quiz(plotqz)"
   ]
  },
  {
   "cell_type": "markdown",
   "id": "b39f0261-7e2d-40de-be05-155ce57b3969",
   "metadata": {},
   "source": [
    "## Multiple Figures per Plot\n",
    "Subplots allow you to create multiple plots (axes) within a single figure in Matplotlib. They are particularly useful when you want to display related plots side by side for comparison or when visualizing multiple aspects of a dataset.\n",
    "\n",
    "There are two main ways to create subplots\n",
    "1. plt.subplot() (Simple Grid-Based Subplots):\n",
    "\n",
    "  - Specify a grid layout (e.g., 2x2) and plot in a specific cell.\n",
    "  - Example: plt.subplot(2, 2, 1) means a 2x2 grid, and the plot is in the first cell.\n",
    "\n",
    "2. plt.subplots() (More Flexible and Modern):\n",
    "\n",
    "  - Creates a grid layout and returns figure and axes objects for better control.\n",
    "  - Use axes[i, j] to reference individual subplots."
   ]
  },
  {
   "cell_type": "code",
   "execution_count": null,
   "id": "3893d75b-8051-4331-a3a1-f6a752aa46a3",
   "metadata": {},
   "outputs": [],
   "source": [
    "# Multiple Figures Per Plot\n",
    "x = np.arange(0,4*np.pi,0.01)\n",
    "plt.figure()\n",
    "plt.subplot(211)\n",
    "plt.plot(x,np.sin(x),\"k--\")\n",
    "plt.ylim(-1.2,1.2)\n",
    "plt.title('Time variations')\n",
    "plt.subplot(212)\n",
    "plt.plot(x,x**2,\"b-\")\n",
    "\n",
    "\n",
    "# Save figure \n",
    "#plt.savefig(\"myplot.png\")"
   ]
  },
  {
   "cell_type": "markdown",
   "id": "033c8420-381d-4327-8167-35535f9368f8",
   "metadata": {},
   "source": [
    "## Boxplots\n",
    "Boxplots and bar plots are used for different purposes in data visualization. \n",
    "\n",
    "A bar plot represents categorical data using bars, where the height of each bar shows a summary statistic like the mean or count. \n",
    "\n",
    "In contrast, a boxplot displays the **distribution** of numerical data, showing key statistics like the median, quartiles, and potential outliers, making it ideal for comparing variability and spread across groups.\n",
    "\n",
    "While bar plots focus on central tendencies, boxplots emphasize the range and shape of the data.\n",
    "\n",
    "The shape and location of the box and whiskers in a boxplot provide insights into the distribution of the data:\n",
    "\n",
    "1. **Box (Middle 50% of Data):**The box represents the interquartile range (IQR), which is the range between the 25th percentile (Q1) and the 75th percentile (Q3). A wide box indicates high variability in the middle 50% of the data, while a narrow box suggests low variability.\n",
    "2. **Line Inside the Box (Median):** The line inside the box shows the median (50th percentile), giving the central tendency of the data.\n",
    "If the median is closer to one end of the box, it indicates a skewed distribution.\n",
    "3. **Whiskers:** The whiskers extend from the box to the smallest and largest data points within 1.5 times the IQR.\n",
    "Short whiskers indicate that most data is tightly clustered around the median, while long whiskers suggest a wider spread.\n",
    "4. **Outliers** (Points Beyond Whiskers): Any individual points outside the whiskers are considered outliers, representing unusual or extreme values.\n",
    "\n",
    "We have already seen a histogram of the prot_df (\"cancer expression\") pandas dataframe we made for this tutorial.  \n"
   ]
  },
  {
   "cell_type": "code",
   "execution_count": null,
   "id": "2f3da6cc-8f90-4938-8a1b-09fa23267e19",
   "metadata": {},
   "outputs": [],
   "source": [
    "prot_df.boxplot(column=\"Protein Expression (AU)\", by=\"Group\", grid=False)\n",
    "\n",
    "# Add title and labels\n",
    "plt.title(\"Protein expression with treatment\")\n",
    "plt.suptitle(\"\")  # Remove default \"by\" subtitle\n",
    "plt.ylabel(\"Protein Expression\")\n",
    "plt.show()"
   ]
  },
  {
   "cell_type": "markdown",
   "id": "8956bc8b-4333-4926-a6eb-eb290ed657a1",
   "metadata": {},
   "source": [
    "### Seaborn approach\n",
    "If you want to show the data on the boxplot, it is very easy to do with seaborn libraries (matplotlib requires an iteration on the dataframe to add each point).\n",
    "You can see that seaborn is even more intuitive with how it assumes the labels you want on the figure"
   ]
  },
  {
   "cell_type": "code",
   "execution_count": null,
   "id": "861c8095-82cd-47c7-8bc2-50175e6ff6b6",
   "metadata": {},
   "outputs": [],
   "source": [
    "import seaborn as sns\n",
    "# Create boxplot\n",
    "sns.boxplot(x=\"Group\", y=\"Protein Expression (AU)\", data=prot_df)\n",
    "\n",
    "# Overlay data points\n",
    "sns.stripplot(x=\"Group\", y=\"Protein Expression (AU)\", data=prot_df, color=\"red\", alpha=0.6, jitter=True)"
   ]
  },
  {
   "cell_type": "markdown",
   "id": "6ce39ae4-a186-410f-b331-c7da838f009b",
   "metadata": {},
   "source": [
    "## Heatmaps\n",
    "\n",
    "Heatmaps are useful for visualizing correlations, distributions, or other matrix-like data. They have been used extensively in bioinformatics because they are an intuitive way to show large amounts of related data. They are really quite simple to create with matplotlib.\n",
    "\n",
    "Heatmaps:\n",
    "- Display abundance levels of proteins or metabolites across conditions or treatments.\n",
    "- Show the levels of DNA methylation at different CpG sites across samples.\n",
    "- Show the statistical significance (e.g., p-values) of enriched pathways or gene sets for different conditions.\n",
    "- Display the expression levels of thousands of genes across multiple samples.\n",
    "\n",
    "The key parameters needed for matplotlib are\n",
    "- **data:** A 2D array or matrix to visualize.\n",
    "- **cmap:** Colormap (e.g., 'viridis', 'coolwarm', etc.).\n",
    "- **interpolation:** Determines how values are smoothed (e.g., 'nearest' avoids smoothing)."
   ]
  },
  {
   "cell_type": "code",
   "execution_count": null,
   "id": "6aab8638-ed6c-4286-b55a-c4a35eee3e03",
   "metadata": {},
   "outputs": [],
   "source": [
    "# Example data\n",
    "data = np.array([[1.0, 0.8, 0.5],\n",
    "                 [0.8, 1.0, 0.3],\n",
    "                 [0.5, 0.3, 1.0]])\n",
    "\n",
    "# Row and column labels\n",
    "labels = ['Gene1', 'Gene2', 'Gene3']\n",
    "\n",
    "# Create the heatmap\n",
    "plt.figure(figsize=(6, 6))\n",
    "plt.imshow(data, cmap='coolwarm', interpolation='nearest')\n",
    "plt.colorbar(label='Correlation Coefficient')\n",
    "\n",
    "# Add labels\n",
    "plt.xticks(range(len(labels)), labels, rotation=45, ha='right')\n",
    "plt.yticks(range(len(labels)), labels)\n",
    "plt.title('Heatmap with Labels')\n",
    "plt.show()"
   ]
  },
  {
   "cell_type": "markdown",
   "id": "3ce4bb0d-5a90-4324-9fe0-c555afb0a45b",
   "metadata": {},
   "source": [
    "# Conclusion\n",
    "\n",
    "You should now be able to make effective plots with Matplotlib. It might be nice, though to print a copy of the [Matplotlib cheatsheet](https://matplotlib.org/cheatsheets/_images/cheatsheets-1.png) now that you know how to use the syntax.\n",
    "\n",
    "The next Tutorial will explore using [Inferential Statistics](./Submodule_2_Tutorial_4_InferentialStatistics.ipynb)\n"
   ]
  },
  {
   "cell_type": "markdown",
   "id": "b31e0f29-c32a-46b4-a544-9ccfd2d02465",
   "metadata": {},
   "source": [
    "## Clean up\n",
    "Remember to shut down your Jupyter Notebook compute instance when you are done for the day to avoid unnecessary charges. "
   ]
  },
  {
   "cell_type": "markdown",
   "id": "19a87d00-7e0d-42eb-989b-ef37552ef203",
   "metadata": {},
   "source": [
    "## Solutions to Test your Knowledge"
   ]
  },
  {
   "cell_type": "code",
   "execution_count": null,
   "id": "c235b754-15fe-49ca-9c3f-4064303cf243",
   "metadata": {},
   "outputs": [],
   "source": [
    "# Histogram of states data with Various Arguments\n",
    "plt.figure()\n",
    "plt.title(\"Illiteracy\")\n",
    "plt.grid(True)\n",
    "plt.hist(states['Illiteracy'], bins=5, align=\"left\",\n",
    "         orientation = \"horizontal\",\n",
    "         color=\"m\",alpha=0.75);\n",
    "plt.xlabel=('Frequency')\n",
    "plt.ylabel=('Illiteracy rate (%)')\n",
    "plt.show()"
   ]
  },
  {
   "cell_type": "code",
   "execution_count": null,
   "id": "efa9348f-0bf6-4a4b-b4fa-b2141fd7ea11",
   "metadata": {},
   "outputs": [],
   "source": [
    "import pandas as pd\n",
    "\n",
    "#get diabetes data and add the file into a DataFrame\n",
    "# Use \\t as the delimiter for tab-separated values\n",
    "diabetes = pd.read_csv(\"https://www4.stat.ncsu.edu/~boos/var.select/diabetes.tab.txt\", sep=\"\\t\")\n",
    "# Display the DataFrame\n",
    "print(diabetes.head())"
   ]
  },
  {
   "cell_type": "code",
   "execution_count": null,
   "id": "2d65baa9-6e08-4971-b9d8-92cb7c231fbf",
   "metadata": {},
   "outputs": [],
   "source": [
    "# Basic plotting \n",
    "diabetes.plot.scatter(x=[\"AGE\"],y=[\"BMI\"],c=\"SEX\", colormap='viridis', colorbar=False);\n",
    "plt.title('Diabetic Subjects BMI with Age')"
   ]
  }
 ],
 "metadata": {
  "kernelspec": {
   "display_name": "Python 3 (ipykernel)",
   "language": "python",
   "name": "python3"
  },
  "language_info": {
   "codemirror_mode": {
    "name": "ipython",
    "version": 3
   },
   "file_extension": ".py",
   "mimetype": "text/x-python",
   "name": "python",
   "nbconvert_exporter": "python",
   "pygments_lexer": "ipython3",
   "version": "3.12.4"
  }
 },
 "nbformat": 4,
 "nbformat_minor": 5
}
