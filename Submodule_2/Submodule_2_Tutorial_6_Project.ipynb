{
 "cells": [
  {
   "cell_type": "markdown",
   "id": "3c16d197-b287-4bf2-af0c-d1712bc0f655",
   "metadata": {},
   "source": [
    "# Submodule 2 Project: Predictors of Diabetes"
   ]
  },
  {
   "cell_type": "markdown",
   "id": "44066136-fb08-4aee-a597-f9fb559a2a76",
   "metadata": {},
   "source": [
    "## Overview\n",
    "\n",
    "In this project, students will analyze a dataset containing information about various factors related to diabetes. They will use Python libraries such as NumPy, Pandas, and Matplotlib/Seaborn for data wrangling and visualization, and apply statistical inference techniques to explore relationships between variables and diabetes. The goal is to identify potential causes of diabetes through single and multiple regression analysis.\n",
    "\n",
    "A [solved version](./Submodule_2_Tutorial_7_ProjectSolutions.ipynb) of this exercise is also provided.\n",
    "\n",
    "## Learning Objectives\n",
    "In this project, you will practice the skills obtained in this module to understand the basis for diabetes. These skills include:\n",
    "1. Working with Pandas Dataframes with NumPy skills\n",
    "2. Visualizing the datsets\n",
    "3. Performing regression and statistical analysis to assess the relationships between biological characteristics and diabetes.\n",
    "\n",
    "## Prerequisites\n",
    "\n",
    "You should have completed all the tutorials in Module 2 and developed some level of comfort with the tools.\n",
    "\n",
    "## Getting Started\n",
    "The 5 tasks are described below. Solutions for each part are provided in a [solved version](./Submodule_2_Tutorial6_ProjectSolutions.ipynb) of this notebook"
   ]
  },
  {
   "cell_type": "markdown",
   "id": "66739a3b-c65e-495f-b903-f3064ce0428e",
   "metadata": {},
   "source": [
    "# Investigating Possible Causes of Diabetes Using Data Analysis and Statistical Inference \n",
    "\n",
    "Many clinical measurements have been associated with the risk of developing diabetes. We will use your newly developed skills to assess this dataset to evaluate the efficacy of each parameter as a predictor of diabetes. The final column (\"Diabetes\") is already dummy coded with diabetes =1. Thus, simple linear regression analysis will provide a kind of measure of the fraction of disease risk associated with that factor. \n",
    "\n",
    "Of course, more than one factor may be interacting and relating. \n",
    "\n",
    "In your bioinformatics or biological/clinical work, you might expect to do similar kinds of analysis. You should find that, compared to running these analyses in Excel or some (commercial) statistical package, you will be able to rapidly and reproducibly analyze, numerically and visually, any size dataset. In the cloud, you could analyze the kinds of datasets which could be created from the Million Veteran project or UK Biobank. \n"
   ]
  },
  {
   "cell_type": "markdown",
   "id": "cc343f03-068c-4358-868b-188a77ed2751",
   "metadata": {},
   "source": [
    "These are the columns of the diabetes data table\n",
    "1. **Pregnancies** This column represents the number of pregnancies the individual has had\r\n",
    "2. **Glucose** This column represents the glucose (blood sugar) level measured in the individual, often in mg/dL\r\n",
    "3. **Diastolic** This represents the diastolic blood pressure of the individual, measured in mmHg (millimeters of mercury)\r\n",
    "4. **Triceps** This might refer to the thickness of the skinfold at the triceps (back of the upper arm), often used as a measure of body fat percentage\r\n",
    "5. **Insulin** This column represents insulin levels measured in the individual, often in µU/mL (micro-units per milliliter).\r\n",
    "6. **BMI** BMI stands for Body Mass Index, a calculated value derived from an individual's weight and height (weight in kilograms divided by the square of height in meters)\r\n",
    "7. **DPF** DPF refers to a Diabetes Pedigree Function, a measure estimating diabetes heredity based on family history\r\n",
    "8. **Age** This column represents the age of the individual\r\n",
    "9. **Diabetes** This column indicates the presence or absence of diabetes, coded as 0 (absence) and 1 (presence) of diabetes"
   ]
  },
  {
   "cell_type": "markdown",
   "id": "8e5243d0-b454-430a-a2dd-9aa1415b40f5",
   "metadata": {},
   "source": [
    "## Task 1: Data Exploration and Cleaning\n",
    "\n",
    "**Objective** Get familiar with the dataset and ensure it is ready for analysis.\n",
    "\n",
    "1. Load the dataset (diabetes.csv) using pandas and display the first few rows.\n",
    "2. Summarize the dataset by using df.describe() to check for mean, median, and standard deviation.\n",
    "3. Identify any missing or invalid values (e.g., 0 values in BMI, Glucose, etc., where they may not make sense).\n",
    "4. Handle missing or invalid values by replacing invalid zeros in relevant columns (e.g., BMI, Glucose, Blood Pressure) with the column's mean or median.\n",
    "5. Create histograms and boxplots for each numeric column to visualize the distribution and detect potential outliers.\n"
   ]
  },
  {
   "cell_type": "code",
   "execution_count": null,
   "id": "8dffe251-18b3-4594-a558-5774a25080d5",
   "metadata": {},
   "outputs": [],
   "source": []
  },
  {
   "cell_type": "markdown",
   "id": "024cfd96-1f13-4697-bb17-21816359b49e",
   "metadata": {},
   "source": [
    "## Task 2: Visualizing Relationships Between Variables\n",
    "**Objective** Explore correlations between independent variables and diabetes.\n",
    "1. Create pairplots or scatterplots (e.g., using Seaborn.pairplot) for all numeric columns against the Diabetes column.\n",
    "2. Calculate the correlation matrix using np.corrcoef or pandas.corr() and visualize it with a heatmap (e.g., using Seaborn.heatmap).\n",
    "3. Identify the top 3 variables that have the strongest correlations with the Diabetes column."
   ]
  },
  {
   "cell_type": "code",
   "execution_count": null,
   "id": "22c07d1e-bb16-4f47-a402-1951d0e2b0e3",
   "metadata": {},
   "outputs": [],
   "source": []
  },
  {
   "cell_type": "markdown",
   "id": "70d5b16e-c273-4227-920e-fab79bd385a0",
   "metadata": {},
   "source": [
    "## Task 3: Single Linear Regression Analysis\n",
    "\n",
    "**Objective** Assess the relationship between individual predictors and diabetes.\n",
    "1. Perform single linear regression using statsmodels or sklearn to predict Diabetes (as a continuous variable) based on Glucose, BMI, Insulin\n",
    "2. Interpret the results, such as\n",
    "   - Coefficients and their significance (p-values).\n",
    "   - values (goodness of fit) for each predictor.\n",
    "3. Determine which single variable is the most important in explaining diabetes risk."
   ]
  },
  {
   "cell_type": "code",
   "execution_count": null,
   "id": "cbd49d25-de0c-4777-b43b-eb87118be9b7",
   "metadata": {},
   "outputs": [],
   "source": []
  },
  {
   "cell_type": "markdown",
   "id": "b9723730-d471-42fb-a717-bb29623c0b5b",
   "metadata": {},
   "source": [
    "## Task 4: Multiple Linear Regression\n",
    "\n",
    "**Objective** Build a comprehensive model to predict diabetes.\n",
    "1. Perform multiple linear regression using all independent variables (Pregnancies, Glucose, Diastolic, Triceps, Insulin, BMI, DPF, and Age)\n",
    "2. Evaluate the model, finding rsquared, rsquared_adj, coefficients\n",
    "3. Check coefficients and their significance.\n",
    "4. Perform a backward elimination process by remove variables with high p-values (> 0.05) and re-run the regression to refine the model\n",
    "5. Check the models (final vs. single linear regression) using AIC to find the **best** predictors of diabetes from this dataset"
   ]
  },
  {
   "cell_type": "code",
   "execution_count": null,
   "id": "18e5624c-cf38-44bc-a25e-ed51e01f9862",
   "metadata": {},
   "outputs": [],
   "source": []
  },
  {
   "cell_type": "markdown",
   "id": "6325a22b-0e83-479b-b611-1c52efff45c6",
   "metadata": {},
   "source": [
    "## Task 5 Statistical Inference and Hypothesis Testing\n",
    "\n",
    "**Objective** Draw statistical conclusions about the dataset.\n",
    "1. Perform hypothesis tests\n",
    "   - Conduct a t-test to compare the mean Glucose levels between individuals with and without diabetes.\n",
    "   - Perform ANOVA to check if there are significant differences in BMI across multiple age groups (e.g., group ages into <30, 30-50, >50).\n",
    "2. Interpret the results and assess the significance of findings."
   ]
  },
  {
   "cell_type": "markdown",
   "id": "d83354fe-82eb-44a6-ba12-ce5bf56a6c0b",
   "metadata": {},
   "source": [
    "## Conclusion\n",
    "You have demonstrated your ability to use Python for common data science tasks using NumPy, Pandas, matplotlib, Seaborn, and Statsmodel. \n",
    "\n",
    "The next module builds on this to use machine learning to expand the analysis of data beyond what a human can hypothesize to identify underling relationships. \n",
    "\n",
    "The final [Module](../Submodule_3_Overview.ipynb) will enable you to effectively use object oriented programming in python.  \n",
    "\n",
    "### Clean up\n",
    "In order to avoid unnecessary charges, be sure to stop your compute instance when you are done working with Jupyter notebooks for the day."
   ]
  },
  {
   "cell_type": "code",
   "execution_count": null,
   "id": "d33c7a81-3d5f-4dd8-9d5f-b91722932bc5",
   "metadata": {},
   "outputs": [],
   "source": []
  }
 ],
 "metadata": {
  "kernelspec": {
   "display_name": "Python 3 (ipykernel)",
   "language": "python",
   "name": "python3"
  },
  "language_info": {
   "codemirror_mode": {
    "name": "ipython",
    "version": 3
   },
   "file_extension": ".py",
   "mimetype": "text/x-python",
   "name": "python",
   "nbconvert_exporter": "python",
   "pygments_lexer": "ipython3",
   "version": "3.12.9"
  }
 },
 "nbformat": 4,
 "nbformat_minor": 5
}
