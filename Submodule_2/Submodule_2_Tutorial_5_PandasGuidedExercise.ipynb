{
 "cells": [
  {
   "cell_type": "markdown",
   "id": "2dc1dc2d-bc4d-4d95-943a-f6e4ab7bd141",
   "metadata": {},
   "source": [
    "# Pandas RNA-seq exercise\n",
    "\n",
    "## Overview\n",
    "\n",
    "## Learning Objectives\n",
    "In this exercise, you will use a real RNA-seq dataset to apply your Python coding skills to:\n",
    "- Loading and inspecting data.\n",
    "- Data cleaning (handling duplicates/NaN values).\n",
    "- Subsetting and reshaping.\n",
    "- Visualizing gene expression patterns (violin plots, PCA scatterplots).\n",
    "\n",
    "**While you may not know what to do to write the code for each step, you should be able to follow what methods are being used!**\n",
    "\n",
    "## Prerequisites\n",
    "- Pandas & Numpy modules\n",
    "- Some [background on RNA-seq](https://pmc.ncbi.nlm.nih.gov/articles/PMC6096346/) would be very help\n",
    "\n",
    "## Getting Started\n",
    "- <mark>This exercise needs to be performed in a cloud environment. The files are too big for PCs</mark>\n",
    "- Run the next code box to install required tools"
   ]
  },
  {
   "cell_type": "code",
   "execution_count": null,
   "id": "09dfda29-5f3f-4c9a-bd5a-e5139840281b",
   "metadata": {},
   "outputs": [],
   "source": [
    "%pip install jupyterquiz\n",
    "import pandas as pd\n",
    "import numpy as np\n",
    "import os\n",
    "from jupyterquiz import display_quiz"
   ]
  },
  {
   "cell_type": "markdown",
   "id": "8876a962-9bc7-4bfa-8a02-66932c29e4e9",
   "metadata": {},
   "source": [
    "## Pandas Exercise: Analyzing RNA-seq Data\n",
    "Scenario: You have obtained RNA-seq data from NCBI,and you need to analyze it using Pandas. The dataset contains information about gene expression levels across different samples. Your tasks involve data cleaning, normalization, and exploratory analysis.\n",
    "\n",
    "*You should be able to use other datasets, including your own!*\n",
    "\n",
    "**Recommended Dataset:**\n",
    "GEO Series Accession: GSE198050\n",
    "Title: Transcriptome (RNA-Seq) of HEK293T and HEK293TΔALKBH5ΔFTO cells\n",
    "Organism: Homo sapiens\n",
    "\n",
    "<p style=\"background:blue;color:white;font-family:arial\"> This dataset investigates the impact of knocking out two key RNA demethylases (ALKBH5 and FTO) on the transcriptome. These enzymes remove the m6A modification, a widely studied RNA methylation mark that regulates RNA stability, splicing, and translation. By comparing normal HEK293T cells with double-knockout (ΔALKBH5ΔFTO) cells, you can explore how epitranscriptomic regulation affects gene expression, connecting Pandas data analysis with biological insights </p>\n",
    "\n",
    "The steps of RNA-seq processing are more involved, and there are other tutorials which can help you to use them. Here, remember, we are mainly trying to practice python (Pandas) tools in **steps 1-4.**\n",
    "\n",
    "Summary of Steps and some tools you'll practice\n",
    "\n",
    "1. Load RNA-seq Data: Import raw gene counts and metadata.      *pd.read_csv()*\n",
    "2. Clean Data: Remove duplicate rows and handle NaN values.     *df.drop_duplicates(), df.dropna()*\n",
    "3. Normalize: Convert raw counts to Counts Per Million (CPM).   *iterating, merge, df.sum() and df.div() math functions*\n",
    "4. Filter Genes: Remove lowly expressed genes with CPM < 1.     *df.mask()*\n",
    "5. Encode Groups: Map sample groups and perform dummy coding.   *df.groupby()*\n",
    "6. PCA Analysis: Perform PCA and visualize sample clustering.   *df.T(), PCA, making dataframes, plotting*\n",
    "7. Differential Expression: Test for differential expression using linear regression or GLMs.\n",
    "8. Adjust for Multiple Testing: Apply FDR correction to identify significant genes.\n",
    "\n",
    "Some later steps will use techniques we have not yet covered in the tutorials.\n",
    "\n",
    "If you get stuck, all the required coding can be found at the end. BUT, you should focus on **trying it yourself.**\n"
   ]
  },
  {
   "cell_type": "markdown",
   "id": "e388e067-e8dc-4617-871f-97b4ce88cd6f",
   "metadata": {},
   "source": [
    "## Step 1: Get a data set\n",
    "**Task:** \n",
    "Download the file into a pandas dataframe. Inspect the first few rows to understand the structure and identify column names corresponding to gene identifiers and sample counts.\n",
    "\n",
    "The dataset includes a TSV file containing gene counts which is compressed (*.gz) but Pandas can handle that (see code starter in the next box)\n",
    "\n",
    "File Name: [GSE198050_HEK293T_dALKBH5dFTO_genecounts.tsv.gz](https://ftp.ncbi.nlm.nih.gov/geo/series/GSE198nnn/GSE198050/suppl/GSE198050_HEK293T_dALKBH5dFTO_genecounts.tsv.gz)\n",
    "\n",
    "The file is downloaded into the Datasets folder as: GSE198050_HEK293T_dALKBH5dFTO_genecounts.tsv.gz  or you can use the link above in the Python code."
   ]
  },
  {
   "cell_type": "code",
   "execution_count": null,
   "id": "1bdbd0b0-6368-4b43-8de7-40c6261a4b92",
   "metadata": {},
   "outputs": [],
   "source": [
    "# Read a .gz file directly into a DataFrame\n",
    "df = pd.read_csv('path/to/your/file.tsv.gz', compression='gzip',sep='\\t')  #replace the file name!\n",
    "print(df.head())"
   ]
  },
  {
   "cell_type": "code",
   "execution_count": null,
   "id": "7bfec1a2-50a1-476d-9afd-aed88656ec26",
   "metadata": {},
   "outputs": [],
   "source": [
    "# Read a .gz file directly into a DataFrame\n",
    "df = pd.read_csv('.\\Datasets\\GSE198050_HEK293T_dALKBH5dFTO_genecounts.tsv.gz', compression='gzip', sep='\\t')\n",
    "\n",
    "print(df.head())"
   ]
  },
  {
   "cell_type": "markdown",
   "id": "9627ceb8-ac21-4ec4-abb6-8d08921656a8",
   "metadata": {},
   "source": [
    "## Step 2: Data Cleaning\n",
    "\n",
    "1. Remove duplicate rows from the DataFrame.\n",
    "2. Remove rows with NaN values in any column.\n"
   ]
  },
  {
   "cell_type": "code",
   "execution_count": null,
   "id": "baaf1d33-556c-4202-ad2c-ff5b80f11717",
   "metadata": {},
   "outputs": [],
   "source": [
    "# Remove duplicate rows\n",
    "\n",
    "\n",
    "\n",
    "# Remove rows with NaN values\n",
    "\n",
    "\n",
    "print(f\"Cleaned data shape: {df.shape}\")    #did the total number of genes change?\n",
    "\n"
   ]
  },
  {
   "cell_type": "code",
   "execution_count": null,
   "id": "a062058b-b397-40e8-8c3a-d068a81ee902",
   "metadata": {},
   "outputs": [],
   "source": [
    "# Remove duplicate rows\n",
    "\n",
    "df = df.drop_duplicates()\n",
    "\n",
    "\n",
    "# Remove rows with NaN values\n",
    "df = df.dropna()\n",
    "\n",
    "\n",
    "print(f\"Cleaned data shape: {df.shape}\")    #did the total number of genes change?\n",
    "\n"
   ]
  },
  {
   "cell_type": "markdown",
   "id": "aaaeecaf-5d22-4af2-86ad-2c70330d45c7",
   "metadata": {},
   "source": [
    "## Step 3. Normalize the Data\n",
    "\n",
    "A standard normalization technique for RNA-seq is to use counts-per-million:\n",
    "\n",
    "$CPM= \\dfrac{Raw Counts}{Total Counts for the Sample} × 10^6 $\n",
    "\n",
    "Since the columns are samples and the rows are genes, this normalization can be done in two simple steps. \n",
    "1. Create a variable to hold the sum of each column (df.sum())\n",
    "2. Divide the data (axis=1) by these count values & multiply by 1 million\n",
    "\n",
    "The only challenge is that the first column (or 2?) is gene names. Remove the gene name columns, merging them back onto the dataframe after doing the math. "
   ]
  },
  {
   "cell_type": "code",
   "execution_count": null,
   "id": "12276aa5-4243-410a-90f5-8a900bd326a6",
   "metadata": {},
   "outputs": [],
   "source": [
    "# Exclude the 'Gene' column & copy the rest of the information into a dataframe for normalization\n",
    "\n",
    "# Calculate the total counts per sample (column sums)\n",
    "\n",
    "\n",
    "# Normalize to CPM in a new dataframe by using the df.div() function\n",
    "\n",
    "# Add the 'Gene' column back on the left by merging  \n",
    "df_cpm=\n",
    "print(\"CPM Normalized Data:\")\n",
    "print(df_cpm)"
   ]
  },
  {
   "cell_type": "code",
   "execution_count": null,
   "id": "00731806-3d0f-4e84-a4bc-b88e9a92a452",
   "metadata": {},
   "outputs": [],
   "source": [
    "# Exclude the 'Gene' column for normalization\n",
    "count_data = df.iloc[:, 1:]\n",
    "\n",
    "# Calculate the total counts per sample (column sums)\n",
    "total_counts = count_data.sum(axis=0)\n",
    "\n",
    "# Normalize to CPM\n",
    "cpm_data = count_data.div(total_counts, axis=1) * 1e6\n",
    "\n",
    "# Add the 'Gene' column back\n",
    "df_cpm = pd.concat([df[['Gene']], cpm_data], axis=1)\n",
    "\n",
    "print(\"CPM Normalized Data:\")\n",
    "print(df_cpm)"
   ]
  },
  {
   "cell_type": "markdown",
   "id": "be241354-4e99-4bc7-8293-493c1c25d6f9",
   "metadata": {},
   "source": [
    "## Step 4: Filter out genes with low expression\n",
    "Remove genes with an average expression (across samples) below a threshold of 0.5CPM\n",
    "\n",
    "In the pandas tutorial, we accomplished this by replacing values with NaN, then dropping those rows (genes)\n"
   ]
  },
  {
   "cell_type": "code",
   "execution_count": null,
   "id": "00e9c304-873a-4cc5-b299-d364e69d51f5",
   "metadata": {},
   "outputs": [],
   "source": [
    "# Remove rows with expression values <0.5 CPM\n",
    "\n"
   ]
  },
  {
   "cell_type": "code",
   "execution_count": null,
   "id": "2b94a45e-56ff-435c-ab48-a3a6cef77514",
   "metadata": {},
   "outputs": [],
   "source": [
    "# Remove rows with sum of the row <0.5 CPM\n",
    "\n"
   ]
  },
  {
   "cell_type": "markdown",
   "id": "59c4e3a9-a9ca-4b8b-851e-49a89a13be2b",
   "metadata": {},
   "source": [
    "## Advanced steps\n",
    "The rest of the steps are provided below. You will need to adjust your variable names (or the ones below) to enable you to demonstrate the remaining steps!"
   ]
  },
  {
   "cell_type": "markdown",
   "id": "16e6d90e-1ff6-4833-b96e-122fca406761",
   "metadata": {},
   "source": [
    "### Principal component analysis\n",
    "\n",
    "PCA requires genes as columns and samples as rows, so we'll transpose the data before performing the PCA"
   ]
  },
  {
   "cell_type": "code",
   "execution_count": null,
   "id": "16fdc67f-2fc9-424a-9aaf-b535405ab810",
   "metadata": {},
   "outputs": [],
   "source": [
    "from sklearn.decomposition import PCA\n",
    "import matplotlib.pyplot as plt\n",
    "import seaborn as sns\n",
    "\n",
    "# Transpose the CPM data (samples as rows, genes as columns)\n",
    "pca_data = df_cpm.set_index('Gene').T\n",
    "\n",
    "# Perform PCA\n",
    "pca = PCA(n_components=2)  # Reduce to 2 principal components\n",
    "pca_result = pca.fit_transform(pca_data)\n",
    "\n",
    "# Create a PCA DataFrame\n",
    "pca_df = pd.DataFrame(pca_result, columns=['PC1', 'PC2'], index=pca_data.index)\n",
    "\n",
    "# Add experimental groups to PCA DataFrame\n",
    "pca_df['Group'] = metadata.set_index('Sample').loc[pca_df.index, 'Group']\n",
    "\n",
    "print(\"\\nPCA Results:\")\n",
    "print(pca_df.head())\n"
   ]
  },
  {
   "cell_type": "markdown",
   "id": "64dc5b40-f37d-4e94-9bac-8ff93fda4514",
   "metadata": {},
   "source": [
    "Now, we can use a scatterplot to visualize the first two principal components, with points colored by experimental group."
   ]
  },
  {
   "cell_type": "code",
   "execution_count": null,
   "id": "4efc9b35-a132-4692-bdaa-20e6fcbddfa6",
   "metadata": {},
   "outputs": [],
   "source": [
    "# Plot PCA results\n",
    "plt.figure(figsize=(8, 6))\n",
    "sns.scatterplot(x='PC1', y='PC2', hue='Group', data=pca_df, palette='Set2')\n",
    "plt.title('PCA: RNA-seq (CPM Normalized)')\n",
    "plt.xlabel(f'Principal Component 1 ({pca.explained_variance_ratio_[0]*100:.2f}% variance)')\n",
    "plt.ylabel(f'Principal Component 2 ({pca.explained_variance_ratio_[1]*100:.2f}% variance)')\n",
    "plt.legend(title='Group')\n",
    "plt.show()\n"
   ]
  },
  {
   "cell_type": "markdown",
   "id": "e0b13ab6-d309-4148-b16a-cf93d6e6d302",
   "metadata": {},
   "source": [
    "### Step 5: Add Experimental Group Information\n",
    "To analyze differential expression, you'll need to encode the experimental groups. For example:\n",
    "\n",
    "The dataset contains two groups: \"Control\" and \"Knockout\".\n",
    "Use/create a metadata file (metadata.tsv) containing sample IDs and their corresponding groups."
   ]
  },
  {
   "cell_type": "code",
   "execution_count": null,
   "id": "8f16cf9e-316a-403f-94b8-c4c0a4bf41de",
   "metadata": {},
   "outputs": [],
   "source": [
    "# Load metadata with sample groups\n",
    "metadata = pd.read_csv('metadata.tsv', sep='\\t')\n",
    "print(\"\\nMetadata:\")\n",
    "print(metadata)\n",
    "\n",
    "# Map sample groups to columns in the data\n",
    "sample_to_group = dict(zip(metadata['Sample'], metadata['Group']))\n",
    "\n",
    "# Add the group information to the CPM DataFrame\n",
    "df_long = df_cpm.melt(id_vars='Gene', var_name='Sample', value_name='CPM')\n",
    "df_long['Group'] = df_long['Sample'].map(sample_to_group)\n",
    "\n",
    "print(\"\\nLong Format Data with Group Information:\")\n",
    "print(df_long.head())"
   ]
  },
  {
   "cell_type": "markdown",
   "id": "ec48f55e-0a9d-44e1-8d4d-5f1d8b66959a",
   "metadata": {},
   "source": [
    "### Step 6: Dummy Coding for Statistical Analysis\n",
    "Dummy code the Group variable for regression-based differential expression analysis."
   ]
  },
  {
   "cell_type": "code",
   "execution_count": null,
   "id": "d4a81653-de72-45fd-bf81-892e7a2a351a",
   "metadata": {},
   "outputs": [],
   "source": [
    "# Dummy coding (0 for Control, 1 for Knockout)\n",
    "df_long['Group_Code'] = df_long['Group'].map({'Control': 0, 'Knockout': 1})\n",
    "\n",
    "print(\"\\nDummy-Coded Data:\")\n",
    "print(df_long.head())\n"
   ]
  },
  {
   "cell_type": "markdown",
   "id": "ed0b1d46-0e2c-4b87-9329-6f0399e21d24",
   "metadata": {},
   "source": [
    "### Step 7: Perform differential expression analysis on all genes\n",
    "\n",
    "We will use **statsmodel.api**, a Python library for statistical modeling and hypothesis testing. It provides tools to perform a wide range of statistical analyses, including linear models and t-tests. \n",
    "\n",
    "The steps here are:\n",
    "1. Iterate Over Genes: For each gene, perform linear regression using statsmodels to compare expression between groups.\n",
    "2. Store Results: Collect the p-values, coefficients, and other statistics for all genes in a new DataFrame.\n",
    "3. Adjust for Multiple Testing: Apply False Discovery Rate (FDR) correction to the p-values to identify significant genes."
   ]
  },
  {
   "cell_type": "code",
   "execution_count": null,
   "id": "99baa15f-1614-4752-9ad7-5ce737685939",
   "metadata": {},
   "outputs": [],
   "source": [
    "import pandas as pd\n",
    "import statsmodels.api as sm\n",
    "from statsmodels.stats.multitest import multipletests\n",
    "\n",
    "# Example data: Long format with columns ['Gene', 'Sample', 'CPM', 'Group', 'Group_Code']\n",
    "# df_long is already created in previous steps\n",
    "\n",
    "# Initialize lists to store results\n",
    "results = []\n",
    "\n",
    "# Iterate over each unique gene\n",
    "for gene in df_long['Gene'].unique():\n",
    "    # Subset data for the current gene\n",
    "    gene_data = df_long[df_long['Gene'] == gene]\n",
    "\n",
    "    # Define X (independent variable: Group_Code) and y (dependent variable: CPM)\n",
    "    X = sm.add_constant(gene_data['Group_Code'])  # Add intercept\n",
    "    y = gene_data['CPM']\n",
    "\n",
    "    # Fit the linear model\n",
    "    model = sm.OLS(y, X).fit()\n",
    "\n",
    "    # Extract statistics\n",
    "    pval = model.pvalues['Group_Code']\n",
    "    coef = model.params['Group_Code']\n",
    "    results.append({'Gene': gene, 'pval': pval, 'coef': coef})\n",
    "\n",
    "# Convert results to a DataFrame\n",
    "results_df = pd.DataFrame(results)\n",
    "\n",
    "# Adjust p-values for multiple testing (FDR correction)\n",
    "results_df['adjusted_pval'] = multipletests(results_df['pval'], method='fdr_bh')[1]\n",
    "\n",
    "# Add a significance column\n",
    "results_df['significant'] = results_df['adjusted_pval'] < 0.05\n",
    "\n",
    "print(\"\\nDifferential Expression Results (Top Genes):\")\n",
    "print(results_df.head(n=50))\n"
   ]
  },
  {
   "cell_type": "markdown",
   "id": "4b69d067-0c10-4187-8ff3-9b850370257f",
   "metadata": {},
   "source": [
    "The resulting results_df DataFrame will have the following columns:\n",
    "\n",
    "- Gene: The gene name.\n",
    "- pval: The raw p-value from the linear regression test.\n",
    "- coef: The effect size (difference in CPM between groups).\n",
    "- adjusted_pval: The FDR-corrected p-value.\n",
    "- significant: A boolean indicating whether the gene is significantly differentially expressed (adjusted p-value < 0.05)."
   ]
  },
  {
   "cell_type": "markdown",
   "id": "fc0bd293-1909-4a52-af1c-67fbf18bd574",
   "metadata": {},
   "source": [
    "### Final steps: Visualization\n",
    "It is common to show differential expression with a Volcano plot, with insigificant genes plotted in gray and significant in red. "
   ]
  },
  {
   "cell_type": "code",
   "execution_count": null,
   "id": "e1f3e14b-7193-4aa7-953c-702cf18e8475",
   "metadata": {},
   "outputs": [],
   "source": [
    "import matplotlib.pyplot as plt\n",
    "import numpy as np\n",
    "\n",
    "# Volcano plot: Effect size (coef) vs -log10(adjusted p-value)\n",
    "plt.figure(figsize=(8, 6))\n",
    "results_df['log_pval'] = -np.log10(results_df['adjusted_pval'])\n",
    "\n",
    "# Plot significant and non-significant genes\n",
    "plt.scatter(results_df['coef'], results_df['log_pval'], c='gray', label='Not Significant')\n",
    "plt.scatter(\n",
    "    results_df[results_df['significant']]['coef'],\n",
    "    results_df[results_df['significant']]['log_pval'],\n",
    "    c='red', label='Significant'\n",
    ")\n",
    "\n",
    "plt.axhline(-np.log10(0.05), color='blue', linestyle='--', label='p=0.05 (adjusted)')\n",
    "plt.title('Volcano Plot of Differential Expression')\n",
    "plt.xlabel('Effect Size (Coef)')\n",
    "plt.ylabel('-log10(Adjusted p-value)')\n",
    "plt.legend()\n",
    "plt.show()\n"
   ]
  },
  {
   "cell_type": "markdown",
   "id": "6bbf0b86-4d36-4cf0-937c-93739665ddc7",
   "metadata": {},
   "source": [
    "## Conclusion\n",
    "\n",
    "This exercise demonstrated some of the power of Python libraries (NumPy, Pandas, matplotlib, & statsmodel) to perform complex bioinformatics tasks and protein visualizations. After this guided exercise, it is time to tackle the [submodule 2 bioinformatics project](./Submodule_2_Tutorial_6_Project.ipynb) using the many skills you've learned in this module (or jump to the [solved version](./Submodule_2_Tutorial_7_ProjectSolutions.ipynb) of the project)!\n",
    "\n",
    "### Clean up\n",
    "\n",
    "Remember to stop your Jupyter Notebook compute instance to avoid unnecessary charges."
   ]
  }
 ],
 "metadata": {
  "kernelspec": {
   "display_name": "Python 3 (ipykernel)",
   "language": "python",
   "name": "python3"
  },
  "language_info": {
   "codemirror_mode": {
    "name": "ipython",
    "version": 3
   },
   "file_extension": ".py",
   "mimetype": "text/x-python",
   "name": "python",
   "nbconvert_exporter": "python",
   "pygments_lexer": "ipython3",
   "version": "3.12.9"
  }
 },
 "nbformat": 4,
 "nbformat_minor": 5
}
