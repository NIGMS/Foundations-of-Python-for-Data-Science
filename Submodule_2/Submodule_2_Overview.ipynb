{
 "cells": [
  {
   "cell_type": "markdown",
   "id": "7a3f8dfb-4998-421c-a5ab-386ef7b55c6e",
   "metadata": {},
   "source": [
    "# Overview: Foundations of Data Science in Python\n",
    "\n",
    "Module 2 takes us from introducing fundamental Python characteristics and functions towards data science. \n",
    "\n",
    "The goal is to be able to use Python programming language to perform data analysis, manipulation, and visualization. This will enable you to use Python to extract meaningful insights from large datasets using the Python libraries NumPy, Pandas, and Matplotlib.\n",
    "\n",
    "The **NumPy** library expands Python's functionality, focusing on arrays of one or more dimensions. These are the foundation for scientific computing and processing of, especially, numerical data. \n",
    "\n",
    "**Pandas** provides fast and flexible tools to make working with large data sets (think: huge spreadsheets) easy and intuitive. It has functions for analyzing, cleaning, exploring, and manipulating data.\n",
    "\n",
    "**Matplotlib** is a comprehensive plotting library for creating static, animated, or even interactive, visualizations in Python. You can create plots (line & scatter plots, bar charts, histograms, pie charts, etc.). "
   ]
  },
  {
   "cell_type": "markdown",
   "id": "1b98fc3d-53ec-4e80-af15-6d90b9b41324",
   "metadata": {},
   "source": [
    "## Prerequisites\n",
    "\n",
    "You should have completed the introductory module for Python or have a strong foundation in Python.\n",
    "\n",
    "## Learning Objectives\n",
    "\n",
    "- Build and manipulate NumPy Arrays\n",
    "- Build and manipulate Pandas datasets\n",
    "- Visualize data sets\n",
    "- Perform inferential statistical analysis on large datasets with NumPy and Pandas\n",
    "\n",
    "## Getting Started\n",
    "\n",
    "- install matplotlib if you have not, since it is not included with the standart Python installation\n"
   ]
  },
  {
   "cell_type": "code",
   "execution_count": null,
   "id": "217cced0-b845-4210-b29f-cd48dc6f7fb0",
   "metadata": {},
   "outputs": [],
   "source": [
    "# Install matplot lib\n",
    "!pip install matplotlib"
   ]
  },
  {
   "cell_type": "markdown",
   "id": "e7213200-ea9f-4c9f-80e4-43ec5805d51e",
   "metadata": {},
   "source": [
    "# Summary\n",
    "\n",
    "This module is intended to teach you how to use Python for quantitative functions and for manipulation of large datasets (e.g., an RNAseq file). You <i>can</i> use it as a cookbook for techniques and tools, or you can work through each of the exercises. In the end, you should realize that it is wise to use Python vs. a GUI tool (like excel) because it is faster, you can write scripts to do the same function mulitiple times, and, because this runs in the cloud, you can process enormous data sets quickly and reproducibly.\n",
    "\n",
    "Lets start with the tools in the [NumPy library](./Submodule_2_Tutorial_1_NumPy.ipynb)."
   ]
  },
  {
   "cell_type": "markdown",
   "id": "7da0305c-cc83-42e1-b910-3ce8d984e861",
   "metadata": {},
   "source": [
    "## Clean up\n",
    "\n",
    "Remember to shut down your Jupyter Notebook instance when you are done for the day to avoid unnecessary charges. You can do this by stopping the notebook instance in the **Cloud console**"
   ]
  }
 ],
 "metadata": {
  "kernelspec": {
   "display_name": "Python 3 (ipykernel)",
   "language": "python",
   "name": "python3"
  },
  "language_info": {
   "codemirror_mode": {
    "name": "ipython",
    "version": 3
   },
   "file_extension": ".py",
   "mimetype": "text/x-python",
   "name": "python",
   "nbconvert_exporter": "python",
   "pygments_lexer": "ipython3",
   "version": "3.12.9"
  }
 },
 "nbformat": 4,
 "nbformat_minor": 5
}
