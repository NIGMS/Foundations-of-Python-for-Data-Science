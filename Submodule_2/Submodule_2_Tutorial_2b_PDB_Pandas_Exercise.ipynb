{
 "cells": [
  {
   "cell_type": "markdown",
   "id": "3f8474ac-b300-433b-91c7-4b4a6ce2a560",
   "metadata": {},
   "source": [
    "# Biopandas for PDB files\n",
    "-----------------------------------------------------------------------------\n",
    "## Overview\n",
    "If you are a structural biologist working with molecular structure files, a fantastic way to process pdb files is with Pandas dataframes. The tools are beyond the scope of this Introduction to Python course, but we include it here to give you a taste of how you can use traditional programming to query and calculate with these complex file types.\n",
    "\n",
    "## Learning objectives\n",
    "After this submodule, you will be able to:\n",
    "1. Import at pdb file from the rcsb using biopandas\n",
    "2. Access dataframes within the file\n",
    "3. Calculate from and analyze series\n",
    "4. Carry out an exercise identifying a ligand binding site in a structure\n",
    "\n",
    "## Prerequisites\n",
    "- Knowledge of pandas\n",
    "\n",
    "## Getting Started\n",
    "Run the next code box to install pandas, numpy, and biopandas"
   ]
  },
  {
   "cell_type": "code",
   "execution_count": null,
   "id": "d5fb2753-1aa0-48a0-9746-836a4047e737",
   "metadata": {},
   "outputs": [],
   "source": [
    "%pip install pandas\n",
    "%pip install biopandas\n",
    "\n",
    "import pandas as pd\n",
    "import numpy as np\n",
    "from biopandas.pdb import PandasPdb"
   ]
  },
  {
   "cell_type": "markdown",
   "id": "55d98241-46fa-4d30-9a7d-7f82f17a310b",
   "metadata": {},
   "source": [
    "# Importing a pdb file into a pandas dataframe\n",
    "\n",
    "As with Biopython, biopandas has functions that are well adapted for biological data types. The protein data bank format (PDB) is a large data file that contains the position and identity of every atom in the 3D structure. \n",
    "\n",
    "The file can be imported directly from the RCSB using fetch_pdb as shown. "
   ]
  },
  {
   "cell_type": "code",
   "execution_count": null,
   "id": "822a1b93-6a15-43f6-b6c2-cf6ee7bd8b98",
   "metadata": {},
   "outputs": [],
   "source": [
    "ppdb = PandasPdb().fetch_pdb('3eiy')\n",
    "ppdb.df['ATOM'].tail()"
   ]
  },
  {
   "cell_type": "code",
   "execution_count": null,
   "id": "4f09c043-af16-4206-8cce-49ecf907e271",
   "metadata": {},
   "outputs": [],
   "source": [
    "ppdb.df['ATOM'][\"residue_name\"].unique()"
   ]
  },
  {
   "cell_type": "code",
   "execution_count": null,
   "id": "48ea9ea4-9564-4b03-a5c9-6903405bcbef",
   "metadata": {},
   "outputs": [],
   "source": [
    "ppdb.df['ATOM'][\"b_factor\"].mean()"
   ]
  },
  {
   "cell_type": "code",
   "execution_count": null,
   "id": "77dee613-c76b-4c0b-b997-5f74cd173d2a",
   "metadata": {},
   "outputs": [],
   "source": [
    "ppdb.df['HETATM'].head()"
   ]
  },
  {
   "cell_type": "markdown",
   "id": "75910ef7-d35c-46c0-b957-dfe2f2ff4369",
   "metadata": {},
   "source": [
    "It is easy to identify all the heteroatoms in this structure file:"
   ]
  },
  {
   "cell_type": "code",
   "execution_count": null,
   "id": "0b86a118-132a-44ee-b4ed-004522eb7235",
   "metadata": {},
   "outputs": [],
   "source": [
    "ppdb.df['HETATM']['residue_name'].unique()"
   ]
  },
  {
   "cell_type": "markdown",
   "id": "c74019ff-fe2c-4332-886d-25cad1e5e3d2",
   "metadata": {},
   "source": [
    "Because this is a pandas **series** rather than a type count works on (that is, strings, lists, tuples, sets and dictionaries), the tool to 'count' items is slightly different: df.value_counts()\\[value]\n",
    "\n",
    "Can you also identify how many sodium atoms are in the structure file?"
   ]
  },
  {
   "cell_type": "code",
   "execution_count": null,
   "id": "2f64e47f-9172-46d8-bd1b-1ac3d9ac78ce",
   "metadata": {},
   "outputs": [],
   "source": [
    "ppdb.df['HETATM']['residue_name'].value_counts()['HOH']"
   ]
  },
  {
   "cell_type": "markdown",
   "id": "673a30b4-5a41-40df-89c1-ed198928eb06",
   "metadata": {},
   "source": [
    "## Exercise: Identifying the ligand binding residues \n",
    "In this project, you'll analyze a protein-ligand complex from a PDB file to:\n",
    "\n",
    "1. Extract and explore atomic information.\n",
    "2. Identify the binding site of the ligand.\n",
    "3. Calculate distances between the ligand and nearby protein residues.\n",
    "4. Visualize the results using Python.\n",
    "\n",
    "You should re-run it with a different pdb file and ligand to see how it can work for you.\n",
    "\n",
    "On a PC, many of these steps take ~10min to run. This is where cloud computing shows it's power & utility!"
   ]
  },
  {
   "cell_type": "markdown",
   "id": "aee0ab49-7d48-4150-b839-97105cf8e79f",
   "metadata": {},
   "source": [
    "### Step one: Get the file\n",
    "Assign the pdb file to the variable pdb  PDB ID: 4AKE (adenylate kinase with a bound ligand). \n",
    "\n",
    "As always, look at the first few lines of the file to make sure it is what you expected and to see the column names"
   ]
  },
  {
   "cell_type": "code",
   "execution_count": null,
   "id": "ccd0aa7e-1bb4-4147-81fa-5f6b51d1ffe4",
   "metadata": {},
   "outputs": [],
   "source": [
    "# Load the PDB file\n",
    "pdb = PandasPdb().fetch_pdb('4CFF')\n",
    "\n",
    "# View the ATOM and HETATM data\n",
    "print(pdb.df['ATOM'].head())  # Protein atoms\n",
    "print(pdb.df['HETATM'].head())  # Ligand or non-standard residues\n",
    "pdb.df['HETATM']['residue_name'].unique()"
   ]
  },
  {
   "cell_type": "markdown",
   "id": "daa7fbe3-cbf3-4fc2-83f9-25a51b1e2d8c",
   "metadata": {},
   "source": [
    "### Step two: Filter the Ligand Data\n",
    "Identify and extract the ligand information (from the HETATM section)."
   ]
  },
  {
   "cell_type": "code",
   "execution_count": null,
   "id": "47b0eca3-c18c-479f-b216-96fe29fb9485",
   "metadata": {},
   "outputs": [],
   "source": [
    "# Extract the ligand (e.g., \"AMP\" for adenylate)\n",
    "amp_ligand = pdb.df['HETATM'][pdb.df['HETATM']['residue_name'] == 'AMP']\n",
    "print(amp_ligand.iloc[1:5,1:8])\n"
   ]
  },
  {
   "cell_type": "markdown",
   "id": "6cb4259b-5b4b-4327-a4ee-33659a1e582d",
   "metadata": {},
   "source": [
    "### Step three: Identify Nearby Protein Atoms\n",
    "Calculate the distance between the ligand and nearby protein atoms to identify potential binding site residues."
   ]
  },
  {
   "cell_type": "code",
   "execution_count": null,
   "id": "4736ed85-8b1a-40f4-b61c-3172356dfb18",
   "metadata": {},
   "outputs": [],
   "source": [
    "# Extract protein atoms\n",
    "protein_atoms = pdb.df['ATOM']\n",
    "\n",
    "# Define a function to calculate distances\n",
    "def calculate_distance(coord1, coord2):\n",
    "    return np.linalg.norm(coord1 - coord2)\n",
    "\n",
    "# Find nearby protein atoms within 5Å of the ligand\n",
    "binding_site = []\n",
    "for _, ligand_row in amp_ligand.iterrows():\n",
    "    ligand_coords = np.array([ligand_row['x_coord'], ligand_row['y_coord'], ligand_row['z_coord']])\n",
    "    for _, protein_row in protein_atoms.iterrows():\n",
    "        protein_coords = np.array([protein_row['x_coord'], protein_row['y_coord'], protein_row['z_coord']])\n",
    "        distance = calculate_distance(ligand_coords, protein_coords)\n",
    "        if distance <= 5.0:\n",
    "            binding_site.append(protein_row)\n",
    "\n",
    "# Convert the binding site data to a DataFrame\n",
    "binding_site_df = pd.DataFrame(binding_site)\n",
    "print(binding_site_df)"
   ]
  },
  {
   "cell_type": "markdown",
   "id": "5ebdbef1-f6fe-474f-b323-e1d8306ed59e",
   "metadata": {},
   "source": [
    "### Step 4: Visualize the Results\n",
    "Plot the ligand and the binding site residues in 3D using Matplotlib."
   ]
  },
  {
   "cell_type": "code",
   "execution_count": null,
   "id": "8a304d26-e71e-4ee4-b22f-ff47685a3a5c",
   "metadata": {},
   "outputs": [],
   "source": [
    "import matplotlib.pyplot as plt\n",
    "from mpl_toolkits.mplot3d import Axes3D\n",
    "\n",
    "# Extract coordinates\n",
    "ligand_coords = amp_ligand[['x_coord', 'y_coord', 'z_coord']].values\n",
    "protein_coords = binding_site_df[['x_coord', 'y_coord', 'z_coord']].values\n",
    "\n",
    "# Create a 3D scatter plot\n",
    "fig = plt.figure()\n",
    "ax = fig.add_subplot(111, projection='3d')\n",
    "\n",
    "# Plot ligand\n",
    "ax.scatter(ligand_coords[:, 0], ligand_coords[:, 1], ligand_coords[:, 2], color='red', label='Ligand')\n",
    "\n",
    "# Plot binding site residues\n",
    "ax.scatter(protein_coords[:, 0], protein_coords[:, 1], protein_coords[:, 2], color='blue', label='Binding Site')\n",
    "\n",
    "# Label the plot\n",
    "ax.set_title(\"Protein-Ligand Binding Site\")\n",
    "ax.set_xlabel(\"X\")\n",
    "ax.set_ylabel(\"Y\")\n",
    "ax.set_zlabel(\"Z\")\n",
    "ax.legend()\n",
    "\n",
    "plt.show()"
   ]
  },
  {
   "cell_type": "markdown",
   "id": "ee34061b-ad72-4650-9307-ce9707c5f7c4",
   "metadata": {},
   "source": [
    "You can see the 4 AMP molecules (in red) with the nearby atoms. "
   ]
  },
  {
   "cell_type": "markdown",
   "id": "181a77d4-9a74-493a-91b5-231c01e9666e",
   "metadata": {},
   "source": [
    "### Step 5: Get a dataframe of the nearby amino acids\n",
    "In the previous steps we identified all the nearby **atoms**. Here, we collect the names of the nearby residues. We are putting the residue information into a SET which  will only add (add()) unique elements. *This step can take some time.*"
   ]
  },
  {
   "cell_type": "code",
   "execution_count": null,
   "id": "79539b62-64fa-4a2d-a58f-58dbf1bbc751",
   "metadata": {},
   "outputs": [],
   "source": [
    "# Find amino acids near AMP ligand\n",
    "nearby_residues = set()  # To store unique residues\n",
    "distance_threshold = 3.0  # Distance threshold in Å. Consider adding a user input to ask you for the distance\n",
    "\n",
    "for _, ligand_row in amp_ligand.iterrows():\n",
    "    ligand_coords = np.array([ligand_row['x_coord'], ligand_row['y_coord'], ligand_row['z_coord']])\n",
    "    for _, protein_row in protein_atoms.iterrows():\n",
    "        protein_coords = np.array([protein_row['x_coord'], protein_row['y_coord'], protein_row['z_coord']])\n",
    "        distance = calculate_distance(ligand_coords, protein_coords)\n",
    "        if distance <= distance_threshold:\n",
    "            # Add residue information to the set\n",
    "            residue_info = f\"{protein_row['residue_name']} {protein_row['residue_number']} {protein_row['chain_id']}\"\n",
    "            nearby_residues.add(residue_info)\n",
    "\n",
    "# Display the nearby residues\n",
    "print(\"Amino acids near AMP ligand:\")\n",
    "residue_set=set()\n",
    "for residue in sorted(nearby_residues):\n",
    "    residue_set.add(residue) #only adds unique elements\n",
    "\n",
    "print(\"Residue # Chain\")\n",
    "for line in residue_set:\n",
    "    print(line)"
   ]
  },
  {
   "cell_type": "markdown",
   "id": "fa44d2d5-a0f1-4612-9f1c-81d344c20cc3",
   "metadata": {},
   "source": [
    "# Conclusion\n",
    "You should see the potential power of Pandas to process even complex structure data files.  Perhaps you can envision using a python script to collect and compare hundreds of AMP binding sites from protein files. Hopefully, you edited the scripts above to look at a protein of your choice or to use other tools from previous tutorials!\n",
    "\n",
    "You should now learn about more about the tools available in python for [visualizing your data](\"./Submodule_2_Tutorial_3_VisualizingData.ipynb\")\n",
    "\n",
    "## Clean up\n",
    "After you are done, be sure to stop the compute instance for this Jupyter notebook to avoid unnecessary charges."
   ]
  }
 ],
 "metadata": {
  "kernelspec": {
   "display_name": "Python 3 (ipykernel)",
   "language": "python",
   "name": "python3"
  },
  "language_info": {
   "codemirror_mode": {
    "name": "ipython",
    "version": 3
   },
   "file_extension": ".py",
   "mimetype": "text/x-python",
   "name": "python",
   "nbconvert_exporter": "python",
   "pygments_lexer": "ipython3",
   "version": "3.12.4"
  }
 },
 "nbformat": 4,
 "nbformat_minor": 5
}
