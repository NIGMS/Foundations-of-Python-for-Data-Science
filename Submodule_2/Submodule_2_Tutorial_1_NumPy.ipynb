{
 "cells": [
  {
   "cell_type": "markdown",
   "id": "e7cccaee",
   "metadata": {},
   "source": [
    "# Tutorial 1: Numerical Python (NumPy)\n",
    "\n",
    "-----------------------------------------------------------"
   ]
  },
  {
   "cell_type": "markdown",
   "id": "74511b88-6f08-4cad-85e2-8f544fe4555e",
   "metadata": {},
   "source": [
    "## Overview\n",
    "\n",
    "Are you ready to supercharge your research and data analysis? As a biologist, you're swimming in data—DNA sequences, protein structures, population stats, or experimental results. Processing all that manually or with spreadsheets? That’s the slow lane. Let me introduce you to NumPy, your new powerhouse for scientific computing!\n",
    "\n",
    "**Why Should a Biologist Care About NumPy?**\n",
    "1. Handle Biological Data Like a Pro\n",
    "\n",
    "Whether you’re analyzing gene expression data, creating protein matrices, or modeling population dynamics, NumPy makes it seamless to store, manipulate, and analyze huge datasets—faster and cleaner than Excel or vanilla Python.\n",
    "\n",
    "2. Speed Up Your Workflow\n",
    "\n",
    "NumPy is like the Ferrari of data handling. Instead of painfully iterating through lists, NumPy’s vectorized operations handle massive datasets in milliseconds. Run that alignment calculation or simulation without breaking a sweat.\n",
    "\n",
    "3. Crunch Numbers with Ease\n",
    "\n",
    "Biologists often need statistical measures: mean, standard deviation, correlations… NumPy gives you all that in a few lines of code. It’s like having a mini statistical lab built into Python.\n",
    "\n",
    "4. Visualize Patterns in Your Data\n",
    "\n",
    "Pair NumPy with tools like matplotlib, and you can visualize trends in gene frequencies, protein concentrations, or ecological patterns beautifully and intuitively.\n",
    "\n",
    "## Learning Objectives\n",
    "In this lesson, you’ll discover how to:\n",
    "\n",
    "- Build and manipulate arrays to represent anything from a DNA sequence to a cell population matrix.\n",
    "- Reshape and organize your data to suit your experimental needs.\n",
    "- Perform fast, efficient calculations on biological datasets without writing endless loops.\n",
    "- Dummy-code (one-hot-encode) categorical data into numerical data with a protein sequence\n",
    "\n",
    "## Prerequisites\n",
    "- basic python\n",
    "\n",
    "## Getting Started\n",
    "- Run the next code box to prepare the quiz\n",
    "- View the PowerPoint overview"
   ]
  },
  {
   "cell_type": "code",
   "execution_count": null,
   "id": "738e390f-d37a-4a43-952b-062ee1658c66",
   "metadata": {},
   "outputs": [],
   "source": [
    "#install the required packages\n",
    "%pip install --upgrade pip \n",
    "%pip install --upgrade numpy pandas\n",
    "%pip install matplotlib\n",
    "import requests\n",
    "import json\n",
    "import ipywidgets as widgets\n",
    "from IPython.display import display\n",
    "import random\n",
    "from jupyterquiz import display_quiz\n",
    "import os\n",
    "print(\"done installing required packages\")"
   ]
  },
  {
   "cell_type": "markdown",
   "id": "379832e3",
   "metadata": {},
   "source": [
    "----------------------------------------------------------------------------------\n"
   ]
  },
  {
   "cell_type": "markdown",
   "id": "8dcebcfb",
   "metadata": {},
   "source": [
    "## About Numpy\n",
    "Numerical Python​, or \"numpy\" is one of the most popular modules used in Python. Numpy is considered a foundational module for Python high-end scientific computing.​ \n",
    "<br>  ​\n",
    "The common standard in Python is to import numpy with the alias **np**.​ You will see how often you need to use this alias!\n"
   ]
  },
  {
   "cell_type": "code",
   "execution_count": null,
   "id": "0b03c2da",
   "metadata": {},
   "outputs": [],
   "source": [
    "# Standard import of numpy\n",
    "import numpy as np\n",
    "\n",
    "# check the version\n",
    "print(np.__version__)"
   ]
  },
  {
   "cell_type": "markdown",
   "id": "ea712fe4-0338-44df-ab36-c4d27345d027",
   "metadata": {},
   "source": [
    "## The Numpy Array \n",
    "Among the many components it provides is the **ndarray**.​\n",
    "\n",
    "  - This is a high-performance array or vector and serves as one of the main classes for scientific computing.​\n",
    "\n",
    "  - Only holds one type of element, much like a standard array.​\n",
    "\n",
    "  - It is created with the **array()** function.\n"
   ]
  },
  {
   "cell_type": "code",
   "execution_count": null,
   "id": "dba804b5",
   "metadata": {},
   "outputs": [],
   "source": [
    "# Example using numpy for arrays\n",
    "import numpy as np\n",
    "\n",
    "# Specify the elements of the arrays\n",
    "arr1 = np.array((1, 2, 3, 4, 5))\n",
    "#arr2 has arrays as elements\n",
    "arr2 = np.array([[1,2,3],[4,5,6]]) \n",
    "# Create an array using a range. Remember, range(20) will create an integer array of length 20\n",
    "arr3 = np.array(range(10))  \n",
    "\n",
    "print(arr1)\n",
    "print(arr2)\n",
    "print(arr3)"
   ]
  },
  {
   "cell_type": "markdown",
   "id": "f96a2ad1",
   "metadata": {},
   "source": [
    "### Other ways to create arrays\n",
    "\n",
    "There are some other functions to create convenient arrays that are needed for tasks\n",
    "\n",
    "**arange(start,stop,stepsize)**   is used to create arrays with evenly spaced values over a specified range. It is one of the most commonly used functions in NumPy for generating sequences of numbers. Start is optional (assumes zero) and stepsize default is 1\n",
    "\n",
    "**ones()**      creates an array of all ones\n",
    "\n",
    "**zeros()**     creates an array of all zeros. This would be useful for initializing a counting array\n",
    "\n",
    "**identity()**  creates an identity matrix\n",
    "<div class=\"alert alert-block alert-info\"> <b>Tip:</b> Try each of the following arrays by removing the #</a>. </div>"
   ]
  },
  {
   "cell_type": "code",
   "execution_count": null,
   "id": "643c769e",
   "metadata": {},
   "outputs": [],
   "source": [
    "# More array creation\n",
    "import numpy as np\n",
    "\n",
    "arr=np.arange(2,12, 2)\n",
    "print(arr)\n",
    "#np.ones((2,4))  # shortcut to create a 2x4 array and populate with 1's\n",
    "#np.zeros((2,3)) # shortcut to create a 2x3 array and populate with 0's\n",
    "#np.identity(5)  # shortcut to create identity array (1's on diagonal, 0's elswhere)"
   ]
  },
  {
   "cell_type": "markdown",
   "id": "6c6c8a92",
   "metadata": {},
   "source": [
    "## Test Your Knowledge\n",
    "\n",
    "Create an np array of the numbers 100 to 300, by sevens. "
   ]
  },
  {
   "cell_type": "code",
   "execution_count": null,
   "id": "830a58df-7b81-4792-bdd3-3c1c06876022",
   "metadata": {},
   "outputs": [],
   "source": [
    "import numpy as np\n",
    "#create an np array of numbers, x, with 100 to 300, by sevens\n"
   ]
  },
  {
   "cell_type": "code",
   "execution_count": null,
   "id": "fd09d944-afd6-4a5c-91ea-622569a49f99",
   "metadata": {},
   "outputs": [],
   "source": [
    "from jupyterquiz import display_quiz\n",
    "np_qz = \"PythonQuizQuestions/numpy_arrayQz.json\"\n",
    "display_quiz(np_qz)"
   ]
  },
  {
   "cell_type": "markdown",
   "id": "a2b058b3",
   "metadata": {},
   "source": [
    "## Indexing\n",
    "\n",
    "For these one dimensional arrays, we index as in other python arrays​. That is, you can identify individual elements of the array by position \\[#], counting backwards from the end \\[-#], by range, etc. \n",
    "\n",
    "The following code is several ways of slicing an array. Remove the # in front of each row to see the results of these ways to index.\n"
   ]
  },
  {
   "cell_type": "code",
   "execution_count": null,
   "id": "f367ca2a",
   "metadata": {},
   "outputs": [],
   "source": [
    "# Indexing (slicing)\n",
    "line = np.arange(100,310,10)\n",
    "line[0] #the zeroth element\n",
    "line[[1,2,1]] #returns an array of the elements in the 1, 2, and 1 (again) elements\n",
    "#line[:4] #for the first 4 elements\n",
    "#line[-1:-10:-1]  # the third number is the step, so this will return the last 10 elements of the array\n",
    "\n"
   ]
  },
  {
   "cell_type": "markdown",
   "id": "2eac9b73-ee86-4631-881c-c4f00288cd6c",
   "metadata": {},
   "source": [
    "### How to index with 2 or more dimensions\n",
    "\n",
    "To identify a single element of the array, start with the first axis value, separate from the 2nd with a comma:\n",
    "\n",
    "\\[row number, column number]\n",
    "\n",
    "You can also index a whole row or column using a colon, : , in place of the other dimension."
   ]
  },
  {
   "cell_type": "code",
   "execution_count": null,
   "id": "3889c80e",
   "metadata": {},
   "outputs": [],
   "source": [
    "test = np.arange(1,11,)\n",
    "reshaped= test.reshape(2,5)\n",
    "print(reshaped)\n",
    "# Indexing Multiple Dimensions\n",
    "#reshaped[1]\n",
    "#reshaped[0,:] # equivalent to square[0] because the other 2 dimensions are assumed\n",
    "#reshaped[:,2]"
   ]
  },
  {
   "cell_type": "markdown",
   "id": "07a0f0a7-b66d-406f-9f3f-5fe76e7ce2c4",
   "metadata": {},
   "source": [
    "## Mutability\n",
    "\n",
    "Numpy arrays are mutable (that is, can be edited). Simply provide a new value for the index. Remember, though, that numpy arrays can only have one type. \n",
    "<div class=\"alert alert-block alert-info\"> <b>Tip:</b> Try replacing a value in line with a 'string' to see the error</a>. </div>\n"
   ]
  },
  {
   "cell_type": "code",
   "execution_count": null,
   "id": "32678c86-0785-420c-9d7b-4006f0b203f2",
   "metadata": {},
   "outputs": [],
   "source": [
    "print(line[:7])"
   ]
  },
  {
   "cell_type": "code",
   "execution_count": null,
   "id": "338926c6-1334-440c-a1ae-7e3d8e09f394",
   "metadata": {},
   "outputs": [],
   "source": [
    "line[3]=0\n",
    "print(line[:7])"
   ]
  },
  {
   "cell_type": "markdown",
   "id": "0ae3ff91",
   "metadata": {},
   "source": [
    "# Test Your Knowledge\n",
    "(see the solution in the next markdown box)\n",
    "\n",
    ">  1. Create an np array (\"let_arr\") of 10 elements (letters a-j). Note: there is no shortcut for a range of letters\n",
    ">  2. Change the 2nd element to 'q' & print to the console\n",
    ">  3. Change the 4th element to the string 'cat'. (does it work, what type is it?)"
   ]
  },
  {
   "cell_type": "code",
   "execution_count": null,
   "id": "cfe3ed35-862b-4476-a14e-c37ec8b55748",
   "metadata": {},
   "outputs": [],
   "source": [
    "import numpy as np\n"
   ]
  },
  {
   "cell_type": "code",
   "execution_count": null,
   "id": "3cbcc1f1-fd59-4d22-a194-e7f05726f860",
   "metadata": {},
   "outputs": [],
   "source": [
    "#Answer Box\n",
    "import numpy as np\n",
    "\n",
    "let_arr = np.array(('a','b','c','d','e','f','g','h','i','j'))\n",
    "let_arr[1]='q'\n",
    "let_arr[3]= 'cat'\n",
    "print(let_arr)"
   ]
  },
  {
   "cell_type": "code",
   "execution_count": null,
   "id": "f36b9238-b7ea-4c26-9258-79d2bfc342ae",
   "metadata": {},
   "outputs": [],
   "source": [
    "#Run this code box for a quiz\n",
    "from jupyterquiz import display_quiz\n",
    "npqz2=\"PythonQuizQuestions/np_mutate.json\"\n",
    "display_quiz(npqz2)"
   ]
  },
  {
   "cell_type": "markdown",
   "id": "5b8ba3e2",
   "metadata": {},
   "source": [
    "# Reshaping\n",
    "\n",
    "Biological datasets come in many different forms—whether you’re working with gene expression matrices, 3D protein structures, or time-lapse imaging data. However, the structure of your data doesn’t always match the way you need to analyze or visualize it. That’s where reshaping a NumPy array comes in!\n",
    "\n",
    "**Reshape = Flexibility for Analysis**\n",
    "\n",
    "By reshaping your NumPy arrays, you adapt your data to fit specific tasks—statistical analysis, visualization, or preparing input for machine learning models. Instead of wasting time manually reorganizing data, you let NumPy do the heavy lifting so you can focus on your biology!\n",
    "\n",
    "Numpy has built-in tools, as we've said, to work with arrays. A single array can be rearranged \n",
    "We can reshape an array with **array.reshape()**"
   ]
  },
  {
   "cell_type": "code",
   "execution_count": null,
   "id": "4b8c0788",
   "metadata": {},
   "outputs": [],
   "source": [
    "# Reshaping array\n",
    "data = np.arange(1,2*4*2+1)  # data all in a long array of results\n",
    "print(data)\n",
    "reshaped = data.reshape(4, 4)  # reshaping the 16 data points into the 4 samples, 4 treatments\n",
    "print(reshaped)\n",
    "reshaped.shape\n",
    "#cube = line.reshape(2,4,4)\n",
    "#cube.shape"
   ]
  },
  {
   "cell_type": "markdown",
   "id": "f55d0493",
   "metadata": {},
   "source": [
    "## Test Your Knowledge\r",
    " 1. Create a 2x5 array of the numbers 1-0\n",
    "2.  Transpose the array, change rows to columns, columns to rws\n",
    "3. . Add the numbers 11 1 \n",
    "4. 4. Reshape the array, make it a 2x2x3 array"
   ]
  },
  {
   "cell_type": "code",
   "execution_count": null,
   "id": "27adf4b4-8f25-47e3-bf57-2bdf80cfc902",
   "metadata": {},
   "outputs": [],
   "source": [
    "#Run this box for a check of your coding \n",
    "from jupyterquiz import display_quiz\n",
    "codeqz=\"PythonQuizQuestions/codeNPqz.json\" \n",
    "display_quiz(codeqz)"
   ]
  },
  {
   "cell_type": "code",
   "execution_count": null,
   "id": "1448ec96-8452-48d9-8d06-64c982563b1d",
   "metadata": {},
   "outputs": [],
   "source": [
    "# A solution to Test Your Knowledge\n",
    "test = np.arange(1,11,)\n",
    "test1= test.reshape(2,5)\n",
    "test2=test1.transpose()\n",
    "test3=np.append(test2,[11,12])\n",
    "test4=test3.reshape(2,2,3)\n",
    "print(test4)"
   ]
  },
  {
   "cell_type": "markdown",
   "id": "f5cde1b4",
   "metadata": {},
   "source": [
    "## Boolean indexing\n",
    "\n",
    "A biologist might want to index a NumPy array with **booleans** to quickly and efficiently filter or manipulate data based on specific conditions. \n",
    "\n",
    "Boolean indexing allows you to select elements that meet certain criteria without needing complex loops. For example, if a biologist is analyzing gene expression data stored in a NumPy array, they could use a boolean condition (e.g., expression_levels > threshold) to isolate genes with high expression levels. \n",
    "\n",
    "Similarly, boolean indexing can help identify and replace invalid data, extract subsets (e.g., mutations with a particular property), or even compare experimental conditions. This method is not only concise but also highly optimized for performance, making it ideal for working with large biological datasets.\n",
    "\n",
    "We'll show it two different ways of using a Boolean array. \n",
    "1. We create a True/False array of the same length as the target array. Then, that functions to subset the line array\n",
    "2. We create a True/False array by evaluating an array for threshold values"
   ]
  },
  {
   "cell_type": "code",
   "execution_count": null,
   "id": "414a5e51",
   "metadata": {},
   "outputs": [],
   "source": [
    "# Boolean Index\n",
    "line = np.array([1,2,3,4,5])\n",
    "subset= np.array ([True, False, True, False, True])\n",
    "line[subset]\n",
    "#tf = line > 2 #this will create an array that can be used to select part of the line array\n",
    "#line[tf]"
   ]
  },
  {
   "cell_type": "code",
   "execution_count": null,
   "id": "eef06cfe-1a49-48a9-aea7-df24a27ed876",
   "metadata": {},
   "outputs": [],
   "source": [
    "import numpy as np\n",
    "\n",
    "# Example: Gene expression levels across 6 genes\n",
    "gene_names = np.array([\"GeneA\", \"GeneB\", \"GeneC\", \"GeneD\", \"GeneE\", \"GeneF\"])\n",
    "expression_levels = np.array([5.1, 0.3, 8.7, 1.2, 6.5, 0.0])  # Expression levels\n",
    "\n",
    "# Boolean indexing: Select genes with expression > 2.0\n",
    "high_expression = expression_levels > 2.0\n",
    "print(\"Note: the high_expression boolean array =\", high_expression)\n",
    "\n",
    "selected_genes = gene_names[high_expression]    #selects for the members of gene_names with \"true\" in the high_expression array\n",
    "selected_levels = expression_levels[high_expression]\n",
    "\n",
    "# Output\n",
    "print(\"Genes with high expression:\")\n",
    "for gene, level in zip(selected_genes, selected_levels):\n",
    "    print(f\"{gene}: {level}\")"
   ]
  },
  {
   "cell_type": "markdown",
   "id": "505cb827-2dde-4364-a13a-828154a6a583",
   "metadata": {},
   "source": [
    "<div class=\"alert alert-block alert-warning\"> <b>Attention:</b> We used the zip() function to format the results</a>. </div>\n",
    "\n",
    "Using zip(selected_genes, selected_levels) pairs each gene with its corresponding expression level. The zip() function lets you combine related data easily, making it cleaner and more intuitive than manually managing indices."
   ]
  },
  {
   "cell_type": "markdown",
   "id": "b3bf10ce-fe28-4539-b9ce-6f055ce92a53",
   "metadata": {},
   "source": [
    "You may need to limit your selection with two booleans (or more)"
   ]
  },
  {
   "cell_type": "code",
   "execution_count": null,
   "id": "450c3096-3bb3-4b32-9408-34f819fa023d",
   "metadata": {},
   "outputs": [],
   "source": [
    "not_too_high_expression = expression_levels < 6\n",
    "\n",
    "# Combine the boolean arrays using logical operators\n",
    "result_and = expression_levels[high_expression & not_too_high_expression]\n",
    "result_or = expression_levels[high_expression | not_too_high_expression] #should select all\n",
    "result_not = expression_levels[~not_too_high_expression] # should select everything that's \"too high\"\n",
    "print(result_and)"
   ]
  },
  {
   "cell_type": "markdown",
   "id": "2321f6a6-f6bd-4066-a13c-176f20e376e5",
   "metadata": {},
   "source": [
    "## Test your knowledge\n",
    "> -Although you could easily look through the list yourself, use the gene_names and expression_levels arrays again to create a new clean_gene_name array that has removed all genes with zero expression. *This kind of filtering is commonly needed in biological data sets.*"
   ]
  },
  {
   "cell_type": "code",
   "execution_count": null,
   "id": "594e9929-13cc-4bf2-9e08-5935e541533f",
   "metadata": {},
   "outputs": [],
   "source": [
    "#Test your knowledge here"
   ]
  },
  {
   "cell_type": "markdown",
   "id": "98f3c68c",
   "metadata": {},
   "source": [
    "# Iterating a NumPy array\n",
    "Bioinformaticists often deal with large, complex datasets, and iterating over a NumPy array can be incredibly useful in specific scenarios where you need fine-grained control over your data analysis. You can iterate in python, too, but Numpy is more efficient (that is, faster with fewer resources)\n",
    "\n",
    "A bioinformaticist might want to iterate over a NumPy array to analyze or process each row, column, or element individually. \n"
   ]
  },
  {
   "cell_type": "code",
   "execution_count": null,
   "id": "4fa1633c",
   "metadata": {},
   "outputs": [],
   "source": [
    "import numpy as np\n",
    "\n",
    "arr = np.array([1, 2, 3])  # 1-dimensional array\n",
    "\n",
    "for x in arr:\n",
    "    print(x)"
   ]
  },
  {
   "cell_type": "code",
   "execution_count": null,
   "id": "81fa15da",
   "metadata": {},
   "outputs": [],
   "source": [
    "# 2-dimensional array\n",
    "arr = np.array([[1, 2, 3], [4, 5, 6]])\n",
    "\n",
    "for x in arr:  #note: regardless of what variable you put in place of x, the same thing will be printed.\n",
    "    print(np.sin(x))\n",
    "\n",
    "# also 2-d array\n",
    "#for y in arr:\n",
    "#    for x in y:\n",
    "#        print(y)"
   ]
  },
  {
   "cell_type": "markdown",
   "id": "47035c7c-e922-45a3-9cca-2975c1d49011",
   "metadata": {},
   "source": [
    "One of the many uses of iteration might be to **normalize** the expression levels for each gene across different samples in a gene expression matrix. One of the normalization techniques is to divide ALL the expression levels by the sum of the whole row that is, across all the different cell samples or conditions. Another version would be to normalize by the mean of the expression (try that, too!)\n"
   ]
  },
  {
   "cell_type": "code",
   "execution_count": null,
   "id": "e49aa5e0-0751-4fcb-bb9f-6cd6edb64ab5",
   "metadata": {},
   "outputs": [],
   "source": [
    "import numpy as np\n",
    "\n",
    "# Create a tiny expression matrix (rows = genes, columns = conditions)\n",
    "expression_matrix = np.array([\n",
    "    [10, 15, 20, 25, 30, 35],  # Gene 1\n",
    "    [5, 10, 15, 20, 25, 30],   # Gene 2\n",
    "    [0, 50, 100, 150, 200, 250], # Gene 3\n",
    "    [8, 16, 24, 32, 40, 48],   # Gene 4\n",
    "    [3, 6, 9, 12, 15, 18]      # Gene 5\n",
    "])\n",
    "\n",
    "# Print the matrix\n",
    "print(\"Original Expression Matrix:\")\n",
    "print(expression_matrix)\n",
    "\n",
    "# Normalize each gene's expression levels (row-wise normalization)\n",
    "normalized_matrix = []   #initialize an empty array in python\n",
    "for row in expression_matrix:\n",
    "    normalized_row = row / np.sum(row)  # Normalize by dividing the sum of the row. sum() is a normal python function here used in its Numpy form\n",
    "    normalized_matrix.append(normalized_row)\n",
    "\n",
    "normalized_matrix = np.array(normalized_matrix)\n",
    "\n",
    "# Print the normalized matrix\n",
    "print(\"\\nNormalized Expression Matrix (row-wise):\")\n",
    "print(normalized_matrix)\n"
   ]
  },
  {
   "cell_type": "markdown",
   "id": "d31765ca-3a44-4a47-9148-3fccea2c6e8e",
   "metadata": {},
   "source": [
    "# NumPy Math Functions\n",
    "\n",
    "NumPy provides many functions you would expect in highly statistical applications such as data science. We have already been using some of them, such as enumerate and reshape\n",
    "\n",
    "Operations that would take several lines of nested loops in Python can be done in one line with NumPy. Whether you're doing matrix multiplication, statistical analysis, or random sampling, NumPy's tools simplify and accelerate your workflow. We will focus here on ones you might need for bioinformatics. Once you see how these work, you will easily be able to edit and use other functions. The full list is in the [numpy documentation](https://numpy.org/doc/2.1/reference/routines.math.html)\n",
    "\n",
    "- Mathematical functions\n",
    "    * np.sum: Calculates the sum of elements along a specific axis\n",
    "    * np.mean: Computes the mean (average) of array elements\n",
    "    * np.sqrt: Computes the square root of each element in an array\n",
    "    * np.min / np.max: Find the minimum and maximum values in an array\n",
    "    * np.std: Calculates the standard deviation\n",
    "    * np.log10: Calculates the log of the value *commonly needed in biolinformatics*\n",
    "    * \n",
    "- Logical and Comparison Functions\n",
    "    * np.where: Returns the indices of elements meeting a condition, or replaces elements based on a condition\n",
    "    * np.any / np.all: Checks if any or all elements of an array meet a condition\n",
    "- Tools to generate arrays\r\n",
    "    - np.random.normal\r\n",
    "- For multidimensional arrays\r\n",
    "    * row_means = np.mean(arr, axis=0)\r\n",
    "    * column_means= np.mean(arr, axis =1)\r\n",
    "- To convert string Numpy arrays to\r\n",
    "    * integer_array= arr.astype(np.int32)\r\n",
    "    * decimal_array= arr.astype(np.float64)\n"
   ]
  },
  {
   "cell_type": "code",
   "execution_count": null,
   "id": "28d74b08-3b48-42ab-ac0a-006bc639c070",
   "metadata": {},
   "outputs": [],
   "source": [
    "#You can make an array, s, which is a sample of the normal distribution \n",
    "x= 27 # the mean\n",
    "SD = 1.3 #the standard deviation\n",
    "s = np.random.normal(x, SD, 100)\n",
    "s[0:3]"
   ]
  },
  {
   "cell_type": "code",
   "execution_count": null,
   "id": "92b2d04d",
   "metadata": {},
   "outputs": [],
   "source": [
    "# NumPy Functions\n",
    "np.mean(s) #mean of the array\n",
    "#np.mean(s[20:30]) #mean of a subset of the array"
   ]
  },
  {
   "cell_type": "code",
   "execution_count": null,
   "id": "628d5843",
   "metadata": {},
   "outputs": [],
   "source": [
    "#calculate the standard deviation of the array\n",
    "np.std(s)       #Although the SD specified was 1.3, it is a random sampling"
   ]
  },
  {
   "cell_type": "markdown",
   "id": "a0d0c105-2b68-4ad0-a0e7-e7135fd5f699",
   "metadata": {},
   "source": [
    "<div class=\"alert alert-block alert-warning\"> <b>Attention:</b> We'll jump ahead in the tutorial to show a histogram of the array s created using the matplotlib.pyplot libraries</a>. </div>\n"
   ]
  },
  {
   "cell_type": "code",
   "execution_count": null,
   "id": "ecbc86ae-ca1f-4bbb-8548-5c403d63eb2a",
   "metadata": {},
   "outputs": [],
   "source": [
    "#Display the histogram of the samples, along with the probability density function:\n",
    "import matplotlib.pyplot as plt\n",
    "count, bins, ignored = plt.hist(s, 30, density=True)\n",
    "plt.plot(bins, 1/(SD * np.sqrt(2 * np.pi)) *\n",
    "               np.exp( - (bins - x)**2 / (2 * SD**2) ),\n",
    "         linewidth=2, color='r')\n",
    "plt.show()"
   ]
  },
  {
   "cell_type": "markdown",
   "id": "8d42bc68",
   "metadata": {},
   "source": [
    "<div style=\"font-size:18px\">More on Arrays</div> \n",
    "\n",
    "Arrays can also be split, i.e. taking a single array and breaking it up into multiple sub-arrays​\n",
    "\n",
    "The following code takes one array and splits it into 3 (equal parts)​"
   ]
  },
  {
   "cell_type": "code",
   "execution_count": null,
   "id": "281e41e9",
   "metadata": {},
   "outputs": [],
   "source": [
    "import numpy as np\n",
    "\n",
    "arr = np.array([1, 2, 3, 4, 5, 6])\n",
    "newarr = np.array_split(arr, 3)\n",
    "print(newarr)"
   ]
  },
  {
   "cell_type": "markdown",
   "id": "e22c5629",
   "metadata": {},
   "source": [
    "NumPy allows you to conduct array searches using a **where()** method​\n",
    "\n",
    "The return value is an array of indexes where the search condition was satisfied​"
   ]
  },
  {
   "cell_type": "code",
   "execution_count": null,
   "id": "c45932b4",
   "metadata": {},
   "outputs": [],
   "source": [
    "import numpy as np\n",
    "\n",
    "arr = np.array([1, 2, 3, 4, 5, 4, 4])\n",
    "x = np.where(arr == 4)\n",
    "print(x)"
   ]
  },
  {
   "cell_type": "markdown",
   "id": "97c395d4",
   "metadata": {},
   "source": [
    "Finally you can sort arrays using the sort() method​\n",
    "\n",
    "  - The return value is a copy of the array sorted​\n",
    "\n",
    "Note the sort is only ascending. To do a descending sort you need to reverse the array using slicing​"
   ]
  },
  {
   "cell_type": "code",
   "execution_count": null,
   "id": "49e2a75f",
   "metadata": {},
   "outputs": [],
   "source": [
    "import numpy as np\n",
    "arr = np.array([3, 2, 0, 1])\n",
    "print(np.sort(arr))\n",
    "print(np.sort(arr)[::-1])  # sort descending"
   ]
  },
  {
   "cell_type": "markdown",
   "id": "44348f20-95f6-48a2-9cf7-11b386d3b3c9",
   "metadata": {},
   "source": [
    "## Test Your Knowledge\r",
    "> - \n",
    "Use a version of our previous gene expression array (arr = np.array([\"GeneA\", \"GeneB\", \"GeneC\", \"GeneD\", \"GeneE\", \"GeneF\", \"GeneG\", 5.1, 0.3, 8.7, 1.2, 6.5, 0.0, 2.3]) to perform math function\n",
    "> -  after you rearrange this into a 5x2 numpy array where the gene names are row 1. (you'll need to cope with the way that numpy interprets this single type array)"
   ]
  },
  {
   "cell_type": "code",
   "execution_count": null,
   "id": "90399f8c-3e1f-4fc7-8552-8e4cee3f3416",
   "metadata": {},
   "outputs": [],
   "source": [
    "#try out math tools shown above\n"
   ]
  },
  {
   "cell_type": "code",
   "execution_count": null,
   "id": "ca70805b-b146-4c8d-ac40-fe70f25f4b82",
   "metadata": {},
   "outputs": [],
   "source": [
    "### run this code box for the quiz\n",
    "mathqz= \"PythonQuizQuestions/mathquiz.json\" \n",
    "display_quiz(mathqz)"
   ]
  },
  {
   "cell_type": "code",
   "execution_count": null,
   "id": "2c179821-a12a-4ca6-94d4-e88a255c52b6",
   "metadata": {},
   "outputs": [],
   "source": [
    "#A solution for the questions\n",
    "import numpy as np\n",
    "arr = np.array([\"GeneA\", \"GeneB\", \"GeneC\", \"GeneD\", \"GeneE\", \"GeneF\", \"GeneG\", 5.1, 0.3, 8.7, 1.2, 6.5, 0.0, 2.3])\n",
    "arr2=arr.reshape(2,7)\n",
    "arr3=arr2[1,:].astype(np.float64)\n",
    "arr3.mean()\n",
    "#arr3.std()"
   ]
  },
  {
   "cell_type": "markdown",
   "id": "dcbafdb7-6af7-4195-aa48-3fc754b331e2",
   "metadata": {},
   "source": [
    "# One-hot Encoding (e.g., Dummy Coding)\n",
    "\n",
    "We can use two np array tools you've just learned about to \"one-hot encode\" categorical data into numerical data. This is a common bioinformatics task, since biological data is often categorical (sequences, low-medium-high risk of disease, etc). This kind of reformatting allows us to use numerical processes to understand data very efficiently. Also, it is necessary to have numerical data for most machine learning approaches.\n",
    "\n",
    "First one develops an np array of the possible categories, then the categorical data is represented with an identity array (where there is one value of 1 to show \"hot\".) We then make a dictionary of each of the possible categories with its distinct identity array (e.g., \\[0,1,0,0] for being from the second category\n",
    "\n",
    "Here is an example with \"one-hot encoding\" of a short DNA sequence to illustrate some of the tools.  "
   ]
  },
  {
   "cell_type": "code",
   "execution_count": null,
   "id": "140ae133-8319-4e7c-aa4d-1bcd91479c60",
   "metadata": {},
   "outputs": [],
   "source": [
    "# One-hot encoding example\n",
    "\n",
    "# Step 1: Define the sequence\n",
    "sequence = \"ACGTACGTACGTTACGCC\"\n",
    "\n",
    "# Step 2: Create the right-sized identity matrix\n",
    "dna_identity = np.identity(4) # since there are 4 different bases\n",
    "dna_types = np.array(['A','C','T','G'])\n",
    "\n",
    "\n",
    "# Step 3: Create a one-hot encoding dictionary for each nucleotide in your array of dna_types\n",
    "# Notice that we use enumeration to keep the association between the index (i) and value (nt) from the array of DNA types\n",
    "dna_mapping = {nt: dna_identity[i] for i, nt in enumerate(dna_types)}\n",
    "\n",
    "#Optional: Display the mapping dictionary keys\n",
    "#for nt, one_hot in dna_mapping.items():\n",
    "#    print(f\"{nt}:{one_hot}\")\n",
    "\n",
    "# Step 4: One-hot encode the given DNA sequence\n",
    "dna_one_hot = np.array([dna_mapping[nt] for nt in sequence])\n",
    "print(dna_one_hot[:4]) #just the first 4 items\n",
    "\n",
    "# Sum up the 1s for each column to get the count of each nucleotide\n",
    "dna_column_sums = np.sum(dna_one_hot, axis=0)\n",
    "# Show that A, T & G are 4, while C appears 6 times in the sequence\n",
    "print(dna_column_sums)\n"
   ]
  },
  {
   "cell_type": "markdown",
   "id": "e000a283-bc47-4011-9aca-8aab72cba764",
   "metadata": {},
   "source": [
    "<div class=\"alert alert-block alert-info\"> <b>Tip:</b> Try reordering the dna_types array AND using that list to identify which base is shown in the dna_column_sums</a>. </div>"
   ]
  },
  {
   "cell_type": "markdown",
   "id": "33016fc9-3e0e-4118-8256-3ccfb43efd5d",
   "metadata": {},
   "source": [
    "One-hot encoding of sequences is useful for a variety of bioinformatics applications. This representation converts categorical sequence data (e.g, A, C, G, T into a numerical format), enabling easier manipulation and computation. We will use this approach to compute transitions for Markov Models. \n",
    "\n",
    "But, first, you need to practice these skills by creating your own code for **protein** one-hot encoding."
   ]
  },
  {
   "cell_type": "markdown",
   "id": "f6ce49e7-0fc5-42e9-9841-e5aa7940828a",
   "metadata": {},
   "source": [
    "## Test your knowledge\n",
    "\n",
    "Can you make a similar tool for dummy coding a protein sequence? You'll use this to answer the quiz questions.\n",
    "> - Import a protein sequence from NCBI as your sequence (the quiz questions are based on the FASTA sequence human leptin from the **protein** database, id XP_005250397.1.... To fetch them, you can use the project solution from module 1.)\n",
    "> - Create a mapping matrix for the amino acids A,C,D,E,F,G,H,I,K,L,M,N,P,Q,R,S,T,V,W,Y\n",
    "> - Create a one-hot array for the protein sequence.\n",
    "> - Print the head or the tail of the one-hot matrix (the first 10 rows) for practice & to confirm\n",
    "> - Get the index of lysine (K) from the array you make of the amino acids.\n",
    "> - Count number of lysines for the whole sequence & display the value\n",
    "> - Check that answer by using the string.count(character) method from module 1"
   ]
  },
  {
   "cell_type": "code",
   "execution_count": null,
   "id": "e569faf0-4360-4f11-a4e2-76c86a5e1896",
   "metadata": {},
   "outputs": [],
   "source": [
    "# The answers are in the next code box, but try to answer it on your own!\n",
    "# Step 1: Create a 20x20 identity matrix\n",
    "\n",
    "# Step 2: Define an np array containing one-letter amino acid codes\n",
    "\n",
    "# Step 3: Map each amino acid to its corresponding one-hot encoding\n",
    "# Step 4: Collect the leptin FASTA protein sequence\n",
    "\n",
    "# Step 5: One-hot encode the leptin sequence using your \n",
    "# Optional: Step 6: print the first 10 rows of the one_hot_code\n",
    "# Step 7: Add all the columns to count the amino acid frequencies\n",
    "# Step 8: Find the index of the requested amino acid and print its frequency from the column sums"
   ]
  },
  {
   "cell_type": "code",
   "execution_count": null,
   "id": "806b6188-5d71-456c-9340-50b0dae4eb68",
   "metadata": {},
   "outputs": [],
   "source": [
    "#Answers\n",
    "# Step 1: Create a 20x20 identity matrix\n",
    "identity_matrix = np.identity(20)\n",
    "\n",
    "# Step 2: Define an np array containing one-letter amino acid codes\n",
    "amino_acids = np.array([\n",
    "    'A', 'C', 'D', 'E', 'F', 'G', 'H', 'I', 'K', 'L',\n",
    "    'M', 'N', 'P', 'Q', 'R', 'S', 'T', 'V', 'W', 'Y'\n",
    "])\n",
    "\n",
    "# Step 3: Map each amino acid to its corresponding one-hot encoding\n",
    "aa_map = {aa: identity_matrix[i] for i, aa in enumerate(amino_acids)}\n",
    "\n",
    "# Optional: Display the mapping dictionary\n",
    "#for aa, one_hot in aa_map.items():\n",
    "#    print(f\"{aa}: {one_hot}\")\n",
    "\n",
    "#Step 4: Collect the leptin FASTA protein sequence as lep_seq\n",
    "from Bio import Entrez, SeqIO\n",
    "Entrez.email = \"drchase55@gmail.com\"\n",
    "\n",
    "handle = Entrez.efetch(db=\"protein\", id=\"XP_005250397.1\", rettype=\"fasta\")\n",
    "\n",
    "leptin = SeqIO.read(handle, \"fasta\")\n",
    "handle.close()\n",
    "lep_seq=leptin.seq\n",
    "\n",
    "# Step 5: Encode the given sequence\n",
    "leptin_one_hot = np.array([aa_map[aa] for aa in lep_seq])\n",
    "\n",
    "#Step 6: print the first 10 rows of the one_hot_code\n",
    "#print(leptin_one_hot[0:10])\n",
    "\n",
    "#Step 7: Add all the columns to count the amino acid frequencies\n",
    "lep_column_sums = np.sum(leptin_one_hot, axis=0)\n",
    "# lep_column_sums has the count of all AAs in the leptin protein\n",
    "\n",
    "#Step 8: Get the index of the amino acid you want\n",
    "index = np.where(amino_acids == 'C')[0][0]\n",
    "\n",
    "AA_count = lep_column_sums[index]   \n",
    "\n",
    "print(AA_count)\n",
    "#check, using the simple counting string method from Module 1\n",
    "lep_seq.count(\"C\")"
   ]
  },
  {
   "cell_type": "code",
   "execution_count": null,
   "id": "54bb8785-c3c5-40c3-8805-b76019497466",
   "metadata": {},
   "outputs": [],
   "source": [
    "from jupyterquiz import display_quiz\n",
    "npqz3 = \"PythonQuizQuestions/numpyFinal.json\"\n",
    "display_quiz(npqz3)"
   ]
  },
  {
   "cell_type": "markdown",
   "id": "e9184f35-7719-4d14-b689-441004f49583",
   "metadata": {},
   "source": [
    "# Conclusion\n",
    "\n",
    "In this tutorial, you have learned the many functions associated with the NumPy array. \n",
    "\n",
    "The next module introduces you to [Pandas](./Submodule_2_Tutorial_2_Pandas.ipynb)"
   ]
  },
  {
   "cell_type": "markdown",
   "id": "f62bcbba-8c42-46ae-b1e4-cb350645b4d5",
   "metadata": {},
   "source": [
    "## Clean up\r\n",
    "Remember to shut down your Jupyter Notebook instance when you are done for the day to avoid unnecessary charges. You can do this by stopping the noteboko **compute*k instance from the Cloud console."
   ]
  }
 ],
 "metadata": {
  "kernelspec": {
   "display_name": "Python 3 (ipykernel)",
   "language": "python",
   "name": "python3"
  },
  "language_info": {
   "codemirror_mode": {
    "name": "ipython",
    "version": 3
   },
   "file_extension": ".py",
   "mimetype": "text/x-python",
   "name": "python",
   "nbconvert_exporter": "python",
   "pygments_lexer": "ipython3",
   "version": "3.12.4"
  }
 },
 "nbformat": 4,
 "nbformat_minor": 5
}
